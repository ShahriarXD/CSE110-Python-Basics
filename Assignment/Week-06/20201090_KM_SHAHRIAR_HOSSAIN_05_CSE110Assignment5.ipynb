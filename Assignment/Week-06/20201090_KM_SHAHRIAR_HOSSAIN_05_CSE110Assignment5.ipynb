{
  "nbformat": 4,
  "nbformat_minor": 0,
  "metadata": {
    "kernelspec": {
      "display_name": "Python 3",
      "language": "python",
      "name": "python3"
    },
    "language_info": {
      "codemirror_mode": {
        "name": "ipython",
        "version": 3
      },
      "file_extension": ".py",
      "mimetype": "text/x-python",
      "name": "python",
      "nbconvert_exporter": "python",
      "pygments_lexer": "ipython3",
      "version": "3.7.6"
    },
    "colab": {
      "name": "20201090_KM SHAHRIAR HOSSAIN_05_CSE110Assignment5.ipynb",
      "provenance": [],
      "collapsed_sections": []
    }
  },
  "cells": [
    {
      "cell_type": "markdown",
      "metadata": {
        "id": "mRHB9cBf5D7V"
      },
      "source": [
        "# CSE110 Assignment 5\n",
        "This assignment is to guide you to solve everything you have learned so far by implementing functions in Python. \n",
        "\n",
        "**<font color='red'>[MUST MAINTAIN VARIABLE NAMING CONVENTIONS FOR ALL THE TASKS]</font>**\n",
        "\n",
        "## Write the Python code of the following problems:\n"
      ]
    },
    {
      "cell_type": "markdown",
      "metadata": {
        "id": "_uzpm0b85D7Z"
      },
      "source": [
        "### Task 1\n",
        "Write a function called **even_checker** that takes a number as an argument and prints whether the number is even or odd **inside the function**.\n",
        "\n",
        "===================================\n",
        "\n",
        "**Example1:** \\\n",
        "**Function Call:**\\\n",
        "even_checker(5)\\\n",
        "**Output:**\\\n",
        "Odd!!\n",
        "\n",
        "=============================\n",
        "\n",
        "**Example2:** \\\n",
        "**Function Call:**\\\n",
        "even_checker(2)\\\n",
        "**Output:**\\\n",
        "Even!!\n",
        "\n"
      ]
    },
    {
      "cell_type": "code",
      "metadata": {
        "id": "tMMBecSe5D7a",
        "colab": {
          "base_uri": "https://localhost:8080/"
        },
        "outputId": "b9659e6f-3db3-4d9b-93eb-f35a0d3a60b2"
      },
      "source": [
        "def even_checker(value):\n",
        "    if value %2 == 0:\n",
        "        print(\"Even!!\")\n",
        "    else:\n",
        "        print(\"Odd!!\")\n",
        "even_checker(7)\n",
        "even_checker(2)\n",
        "\n",
        "\n",
        "# def even_checker(value):\n",
        "#     if value %2 == 0:\n",
        "#         return \"Even!!\"\n",
        "#     else:\n",
        "#         return \"Odd!!\"\n",
        "# print(even_checker(7))"
      ],
      "execution_count": null,
      "outputs": [
        {
          "output_type": "stream",
          "text": [
            "Odd!!\n",
            "Even!!\n"
          ],
          "name": "stdout"
        }
      ]
    },
    {
      "cell_type": "markdown",
      "metadata": {
        "id": "YFKgn6Yw5D7f"
      },
      "source": [
        "### Task 2\n",
        "Write a python function that takes the limit as an argument of the Fibonacci series and prints till that limit. \n",
        "\n",
        "===================================\n",
        "\n",
        "**Function Call:**\\\n",
        "fibonacci(10)\\\n",
        "**Output:**\\\n",
        "0 1 1 2 3 5 8\\\n",
        "======================\\\n",
        "**Function Call:**\\\n",
        "fibonacci(5)\\\n",
        "**Output:**\\\n",
        "0 1 1 2 3 5 "
      ]
    },
    {
      "cell_type": "code",
      "metadata": {
        "id": "J4ab_IeA5D7g",
        "colab": {
          "base_uri": "https://localhost:8080/"
        },
        "outputId": "b7e732a1-3242-4af3-a094-8d513bb65b70"
      },
      "source": [
        "def fibonacci(xD):\n",
        "    a = 0\n",
        "    b = 1\n",
        "    while a < xD + 1:\n",
        "        print(a , end=\" \")\n",
        "        a, b = b, a+b\n",
        "fibonacci(10)\n",
        "\n",
        "\n",
        "# def fibonacci(xD):\n",
        "#     a = 0\n",
        "#     b = 1\n",
        "#     while a < xD + 1:\n",
        "#         print(a , end=\" \")\n",
        "#         a, b = b, a+b\n",
        "#     print()\n",
        "# fibonacci(10)\n",
        "# fibonacci(5)"
      ],
      "execution_count": null,
      "outputs": [
        {
          "output_type": "stream",
          "text": [
            "0 1 1 2 3 5 8 "
          ],
          "name": "stdout"
        }
      ]
    },
    {
      "cell_type": "markdown",
      "metadata": {
        "id": "rDY_xNcO5D7k"
      },
      "source": [
        "### Task 3\n",
        "Write a function called **foo_moo** that takes a number as an argument and **returns** the following statements according the below mention conditions. Then, finally prints the statement in the function call. \n",
        "\n",
        "* \tIf the number is divisible by 2, it should return \"Foo\".\n",
        "*   If the number is divisible by 3, it should return \"Moo\". \n",
        "*   If the number is divisible by both 2 and 3, it should return \"FooMoo\".\n",
        "*   Otherwise, it returns \"Boo\".\n",
        "\n",
        "===================================\n",
        "\n",
        "**Example1:** \\\n",
        "**Function Call:**\\\n",
        "foo_moo(5)\\\n",
        "**Output:**\\\n",
        "Boo\n",
        "\n",
        "=================\n",
        "\n",
        "\n",
        "**Example2:** \\\n",
        "**Function Call:**\\\n",
        "foo_moo(4)\\\n",
        "**Output:**\\\n",
        "Foo\n",
        "\n",
        "=================\n",
        "\n",
        "\n",
        "**Example3:** \\\n",
        "**Function Call:**\\\n",
        "foo_moo(6)\\\n",
        "**Output:**\\\n",
        "FooMoo\n",
        "\n"
      ]
    },
    {
      "cell_type": "code",
      "metadata": {
        "id": "2roUcNrC5D7l",
        "colab": {
          "base_uri": "https://localhost:8080/"
        },
        "outputId": "5f3b8227-ad99-467e-d4a7-e5f29b72db35"
      },
      "source": [
        "def foo_moo(x):\n",
        "    if x % 2 == 0 and x % 3 == 0:\n",
        "        return \"FooMoo\"\n",
        "    elif x % 2 == 0:\n",
        "        return \"Foo\"\n",
        "    elif x % 3 == 0:\n",
        "        return \"Moo\"\n",
        "    else:\n",
        "        return(\"Boo\")\n",
        "print(foo_moo(5))\n",
        "print(foo_moo(4))\n",
        "print(foo_moo(6))"
      ],
      "execution_count": null,
      "outputs": [
        {
          "output_type": "stream",
          "text": [
            "Boo\n",
            "Foo\n",
            "FooMoo\n"
          ],
          "name": "stdout"
        }
      ]
    },
    {
      "cell_type": "markdown",
      "metadata": {
        "id": "nemw1U-i5D7s"
      },
      "source": [
        "### Task 4\n",
        "Write a python function that takes a string as an argument. Your task is to calculate the number of uppercase letters and lowercase letters and print them in the function. \n",
        "\n",
        "===================================\n",
        "\n",
        "**Function Call:**\\\n",
        "function_name('The quick Sand Man')\\\n",
        "**Output:**\\\n",
        "No. of Uppercase characters : 3\\\n",
        "No. of Lowercase Characters: 12\\\n",
        "============================\\\n",
        "**Function Call:**\\\n",
        "function_name('HaRRy PotteR')\\\n",
        "**Output:**\\\n",
        "No. of Uppercase characters : 5\\\n",
        "No. of Lowercase Characters: 6\n"
      ]
    },
    {
      "cell_type": "code",
      "metadata": {
        "id": "4ZBb4Mcr5D7t",
        "colab": {
          "base_uri": "https://localhost:8080/"
        },
        "outputId": "70198693-1b9e-41b1-dc35-1d5a93d8b6df"
      },
      "source": [
        "def function_name(string):\n",
        "    a=0\n",
        "    b=0\n",
        "    for x in string:\n",
        "        if x.isupper():\n",
        "           a+=1\n",
        "        elif x.islower():\n",
        "           b+=1\n",
        "    print (f\"No. of Uppercase Characters: {a}\")\n",
        "    print (f\"No. of Lowercase Characters: {b}\")\n",
        "function_name('The quick Sand Man')\n",
        "function_name('HaRRy PotteR')"
      ],
      "execution_count": null,
      "outputs": [
        {
          "output_type": "stream",
          "text": [
            "No. of Uppercase Characters: 3\n",
            "No. of Lowercase Characters: 12\n",
            "No. of Uppercase Characters: 5\n",
            "No. of Lowercase Characters: 6\n"
          ],
          "name": "stdout"
        }
      ]
    },
    {
      "cell_type": "markdown",
      "metadata": {
        "id": "e9bojIHe5D7w"
      },
      "source": [
        "### Task 5\n",
        "Write a function called **calculate_tax** that takes 3 arguments: your age, salary, and current job designation.\n",
        "\n",
        "\n",
        "Your first task is to take these arguments as user input and pass these values to the function.\n",
        "\n",
        "Your second task is to implement the function and calculate the tax as the following conditions:\n",
        "*  **NO TAX IF YOU ARE LESS THAN 18 YEARS OLD.**\n",
        "*  **NO TAX IF YOU ARE THE PRESIDENT OF THE COMPANY** \n",
        "*  No tax if you get paid less than 10,000\n",
        "*  5% tax if you get paid between 10K and 20K\n",
        "*  10% tax if you get paid more than 20K\n",
        "\n",
        "\n",
        "Finally return this tax value. Then print the returned value in the function call.\n",
        "\n",
        "===================================\n",
        "\n",
        "**Hints:**\\\n",
        "Here the job designation is a string, so it can be written in both uppercase and lower cases. So, you need to check the value ignoring the case.\n",
        "\n",
        "===================================\n",
        "\n",
        "**Example1:** \\\n",
        "**Input:**\\\n",
        "16\\\n",
        "20000\\\n",
        "Student\\\n",
        "**Function Call:**\\\n",
        "calculate_tax(16, 20000, 'Student')\\\n",
        "**Output:**\\\n",
        "0\n",
        "\n",
        "===================================\n",
        "\n",
        "**Example2:** \\\n",
        "**Input:**\\\n",
        "20\\\n",
        "18000\\\n",
        "assistant manager\\\n",
        "**Function Call:**\\\n",
        "calculate_tax(20, 18000, 'assistant manager')\\\n",
        "**Output:**\\\n",
        "900.0\n",
        "\n",
        "\n",
        "===================================\n",
        "\n",
        "**Example3:** \\\n",
        "**Input:**\\\n",
        "20\\\n",
        "22000\\\n",
        "assistant manager\\\n",
        "**Function Call:**\\\n",
        "calculate_tax(20, 22000, 'Assistant manager')\\\n",
        "**Output:**\\\n",
        "2200.0\n",
        "\n",
        "===================================\n",
        "\n",
        "\n",
        "**Example4:** \\\n",
        "**Input:**\\\n",
        "20\\\n",
        "122000\\\n",
        "president\\\n",
        "**Function Call:**\\\n",
        "calculate_tax(20, 122000, 'president')\\\n",
        "**Output:**\\\n",
        "0\n",
        " \n",
        "\n",
        "\n"
      ]
    },
    {
      "cell_type": "code",
      "metadata": {
        "id": "M4oo-FKQ5D7x",
        "colab": {
          "base_uri": "https://localhost:8080/"
        },
        "outputId": "1b4f3add-ac94-46e0-9ab5-c0cb5f3acd0a"
      },
      "source": [
        "def calculate_tax(age,salary,current_job_designation):\n",
        "    if age < 18:\n",
        "        return (0)\n",
        "    elif current_job_designation == 'president':\n",
        "        return (0)\n",
        "    elif salary >= 10000 and salary <= 20000:\n",
        "        return ((5/100)*salary)\n",
        "    elif salary >20000:\n",
        "        return ((10/100)*salary)\n",
        "    elif salary < 10000:\n",
        "        return 0\n",
        "age = int(input())\n",
        "salary = int(input())\n",
        "current_job_designation = input(\"\")\n",
        "print(calculate_tax(age, salary, current_job_designation))"
      ],
      "execution_count": null,
      "outputs": [
        {
          "output_type": "stream",
          "text": [
            "20\n",
            "122000\n",
            "president\n",
            "0\n"
          ],
          "name": "stdout"
        }
      ]
    },
    {
      "cell_type": "markdown",
      "metadata": {
        "id": "VXLQHyLp5D71"
      },
      "source": [
        "### Task 6\n",
        "Write a function which will take 1 argument, number of days.\n",
        "\n",
        "Your first task is to take the number of days as user input and pass the value to the function.\n",
        " \n",
        "Your second task is to implement the function and calculate the total number of years, number of months, and the remaining number of days as output. No need to return any value, print inside the function. \n",
        "\n",
        "**Note:** Assume, each year to be 365 days and month to be 30 days.\n",
        "\n",
        "=====================================================\n",
        "\n",
        "**Hint(1):** \\\n",
        "Divide and mod the main input to get the desired output.\n",
        "\n",
        "**Hint(2):**\n",
        "This task’s calculation is similar to Assignment-1’s seconds to hours, minutes conversion.\n",
        "\n",
        "=====================================================\n",
        "\n",
        "**Example01**\n",
        "\n",
        "**Input:**\\\n",
        "4330\\\n",
        "**Function Call:**\\\n",
        "function_name(4330)\\\n",
        "**Output:**\\\n",
        "11 years, 10 months and 15 days\n",
        "\n",
        "================================\n",
        "\n",
        "**Example02**\n",
        "\n",
        "**Input:**\\\n",
        "2250\\\n",
        "**Function Call:**\\\n",
        "function_name(2250)\\\n",
        "**Output:**\\\n",
        "6 years, 2 months and 0 days\n",
        "\n",
        "\n"
      ]
    },
    {
      "cell_type": "code",
      "metadata": {
        "id": "gkE9d9gs5D72",
        "colab": {
          "base_uri": "https://localhost:8080/"
        },
        "outputId": "f8f496d1-1b45-4649-d237-4c60aa0b4b8a"
      },
      "source": [
        "DAYS_IN_WEEK = 7\n",
        "def function_name( number_of_days ):\n",
        "    year = int(number_of_days / 365)\n",
        "    temp = 365 * year\n",
        "    temp1 = number_of_days - temp \n",
        "    months = round(temp1 /30)\n",
        "    temp2 = months*30\n",
        "    day = temp1 - temp2\n",
        "    print(f\"{year} years, {months} months and {day} days\") \n",
        "a = int(input())\n",
        "function_name(a)\n"
      ],
      "execution_count": null,
      "outputs": [
        {
          "output_type": "stream",
          "text": [
            "4330\n",
            "11 years, 10 months and 15 days\n"
          ],
          "name": "stdout"
        }
      ]
    },
    {
      "cell_type": "markdown",
      "metadata": {
        "id": "8-vvES0i5D8B"
      },
      "source": [
        "### Task 7\n",
        "Write a function called **show_palindrome** that takes a number as an argument and then returns a palindrome string. Finally, prints the returned value in the function call.\n",
        "\n",
        "=====================================================\n",
        "\n",
        "**Example1:** \\\n",
        "**Function Call:**\\\n",
        "show_palindrome(5)\\\n",
        "**Output:**\\\n",
        "123454321\n",
        "\n",
        "===================\n",
        "\n",
        "**Example2:** \\\n",
        "**Function Call:**\\\n",
        "show_palindrome(3)\\\n",
        "**Output:**\\\n",
        "12321\n"
      ]
    },
    {
      "cell_type": "code",
      "metadata": {
        "id": "QN-Iu8sz5D8C",
        "colab": {
          "base_uri": "https://localhost:8080/"
        },
        "outputId": "b2420d28-6933-4544-c469-3ab915ffb06a"
      },
      "source": [
        "def show_palindrome(a):\n",
        "    temp = \"\"\n",
        "    for x in range(1,a+1):\n",
        "        temp+=str(x)\n",
        "    temp+=temp[-2::-1]\n",
        "    return temp\n",
        "print(show_palindrome(5))\n",
        "print(show_palindrome(3))"
      ],
      "execution_count": null,
      "outputs": [
        {
          "output_type": "stream",
          "text": [
            "123454321\n",
            "12321\n"
          ],
          "name": "stdout"
        }
      ]
    },
    {
      "cell_type": "markdown",
      "metadata": {
        "id": "V_PVNpx45D8F"
      },
      "source": [
        "### Task 8\n",
        "Write a function called **show_palindromic_triangle** that takes a number as an argument and prints a Palindromic Triangle in the function.\n",
        "\n",
        "=====================================================\n",
        "\n",
        "**Hints(1):** \\\n",
        "Need to use both print() and print( , end = \" \") functions\n",
        "\n",
        "**Hints(2):** \\\n",
        "You can reuse the function from the previous task.\n",
        "\n",
        "=====================================================\n",
        "\n",
        "**Example1:** \\\n",
        "**Function Call:**\\\n",
        "show_palindromic_triangle(5)\\\n",
        "**Output:**\n",
        "\n",
        "&emsp; &emsp; &emsp; &emsp; 1\\\n",
        "&emsp; &emsp; &emsp; 1 &nbsp; 2 &nbsp; 1 \\\n",
        "&emsp; &emsp; 1 &nbsp; 2 &nbsp; 3 &nbsp; 2 &nbsp; 1 \\\n",
        "&emsp; 1 &nbsp; 2 &nbsp; 3 &nbsp; 4 &nbsp; 3 &nbsp; 2 &nbsp; 1 \\\n",
        "1 &nbsp; 2 &nbsp; 3 &nbsp; 4 &nbsp; 5 &nbsp; 4 &nbsp; 3 &nbsp; 2 &nbsp; 1\n",
        "\n",
        "=============================================================\n",
        "\n",
        "\n",
        "**Example2:** \\\n",
        "**Function Call:**\\\n",
        "show_palindromic_triangle(3)\\\n",
        "**Output:**\n",
        "\n",
        "&emsp; &emsp; 1 \\\n",
        "&emsp; 1 &nbsp; 2 &nbsp; 1 \\\n",
        "1 &nbsp; 2 &nbsp; 3 &nbsp; 2 &nbsp; 1\n",
        "\n",
        "\n"
      ]
    },
    {
      "cell_type": "code",
      "metadata": {
        "id": "fUu0BrHz5D8G",
        "colab": {
          "base_uri": "https://localhost:8080/"
        },
        "outputId": "de837a23-cf57-495b-af21-d2271f20da9b"
      },
      "source": [
        "def show_palindromic_triangle(a):\n",
        "    for x in range(1,a+1):\n",
        "        for spaces in range(1, a-x+1):\n",
        "            print(\" \",end=\" \")\n",
        "        for z in range(1, x+1):\n",
        "            print(z,end=\" \")\n",
        "        for z in range(x-1,0,-1):\n",
        "            print(z,end=\" \")\n",
        "        print()\n",
        "show_palindromic_triangle(5)\n",
        "show_palindromic_triangle(3)"
      ],
      "execution_count": null,
      "outputs": [
        {
          "output_type": "stream",
          "text": [
            "        1 \n",
            "      1 2 1 \n",
            "    1 2 3 2 1 \n",
            "  1 2 3 4 3 2 1 \n",
            "1 2 3 4 5 4 3 2 1 \n",
            "    1 \n",
            "  1 2 1 \n",
            "1 2 3 2 1 \n"
          ],
          "name": "stdout"
        }
      ]
    },
    {
      "cell_type": "markdown",
      "metadata": {
        "id": "iLTMEWXg5D8M"
      },
      "source": [
        "### Task 09\n",
        "Write a function called **area_circumference_generator** that takes a radius of a circle as a  function parameter and calculates its circumference and area. Then returns these two results as a **tuple** and prints the results using tuple unpacking in the function call accorrding to the given format. <font color='red'>[Must use tuple packing & unpacking] </font> \n",
        "\n",
        "=====================================================\n",
        "\n",
        "**Example1:** \\\n",
        "**Function Call:**\\\n",
        "area_circumference_generator(1)\\\n",
        "**Output:**\\\n",
        "(3.141592653589793, 6.283185307179586)\\\n",
        "Area of the circle is 3.141592653589793 and circumference is 6.283185307179586\n",
        "\n",
        "====================================\n",
        "\n",
        "**Example2:** \\\n",
        "**Function Call:**\\\n",
        "area_circumference_generator(1.5)\\\n",
        "**Output:**\\\n",
        "(7.0685834705770345, 9.42477796076938)\\\n",
        "Area of the circle is 7.0685834705770345 and circumference is 9.42477796076938\n",
        "\n",
        "====================================\n",
        "\n",
        "\n",
        "**Example3:** \\\n",
        "**Function Call:**\\\n",
        "area_circumference_generator(2.5)\\\n",
        "**Output:**\\\n",
        "(19.634954084936208, 15.707963267948966)\\\n",
        "Area of the circle is 19.634954084936208 and circumference is 15.707963267948966\n"
      ]
    },
    {
      "cell_type": "code",
      "metadata": {
        "id": "k8SLTHf35D8N",
        "colab": {
          "base_uri": "https://localhost:8080/"
        },
        "outputId": "fc389fb2-5e4d-47b8-8d1d-87fe38224a07"
      },
      "source": [
        "import math\n",
        "def area_circumference_generator(x):\n",
        "    list = []\n",
        "    Area = math.pi * pow(x, 2)\n",
        "    Circumference = 2*(math.pi)*x\n",
        "    list.append(Area)\n",
        "    list.append(Circumference)\n",
        "    print(tuple(list))\n",
        "    print(f\"Area of the circle is {Area} and circumference is {Circumference}\")\n",
        "area_circumference_generator(1)\n",
        "area_circumference_generator(1.5)\n",
        "area_circumference_generator(2.5)"
      ],
      "execution_count": null,
      "outputs": [
        {
          "output_type": "stream",
          "text": [
            "(3.141592653589793, 6.283185307179586)\n",
            "Area of the circle is 3.141592653589793 and circumference is 6.283185307179586\n",
            "(7.0685834705770345, 9.42477796076938)\n",
            "Area of the circle is 7.0685834705770345 and circumference is 9.42477796076938\n",
            "(19.634954084936208, 15.707963267948966)\n",
            "Area of the circle is 19.634954084936208 and circumference is 15.707963267948966\n"
          ],
          "name": "stdout"
        }
      ]
    },
    {
      "cell_type": "markdown",
      "metadata": {
        "id": "NpgEU6ZI5D8S"
      },
      "source": [
        "### Task 10\n",
        "Write a function called **make_square** that takes a tuple in the parameter as a range of numbers (starting point and ending point (included)). The function should **return a dictionary** with the numbers as keys and its squares as values.\n",
        "\n",
        "=====================================================\n",
        "\n",
        "**Hints:** \\\n",
        "You need to declare a dictionary to store the result. You should use the range function to run the “for loop”.\n",
        "\n",
        "\n",
        "=====================================================\n",
        "\n",
        "**Example1:** \\\n",
        "**Function Call:**\\\n",
        "make_square((1,3))\\\n",
        "**Output:**\\\n",
        "{1: 1, 2: 4, 3: 9}\n",
        "\n",
        "====================================\n",
        "\n",
        "**Example2:** \\\n",
        "**Function Call:**\\\n",
        "make_square((5,9))\\\n",
        "**Output:**\\\n",
        "{5: 25, 6: 36, 7: 49, 8: 64, 9: 81}\n",
        "\n",
        "\n",
        "\n"
      ]
    },
    {
      "cell_type": "code",
      "metadata": {
        "id": "-KGD8b0F5D8T",
        "colab": {
          "base_uri": "https://localhost:8080/"
        },
        "outputId": "1f372b3a-5a1e-44cf-b98d-330526aa06e4"
      },
      "source": [
        "def make_square(numbers):\n",
        "    dict = {}\n",
        "    for i in range(numbers[0],numbers[1]+1):\n",
        "        temp = i*i\n",
        "        dict[i] = temp\n",
        "    return dict\n",
        "print(make_square((1,3)))\n",
        "print(make_square((5,9)))"
      ],
      "execution_count": null,
      "outputs": [
        {
          "output_type": "stream",
          "text": [
            "{1: 1, 2: 4, 3: 9}\n",
            "{5: 25, 6: 36, 7: 49, 8: 64, 9: 81}\n"
          ],
          "name": "stdout"
        }
      ]
    },
    {
      "cell_type": "markdown",
      "metadata": {
        "id": "J7xaBB5i5D8c"
      },
      "source": [
        "### Task 11\n",
        "Write a function called **rem_duplicate** that takes a tuple in the parameter and return a tuple removing all the duplicate values. Then print the returned tuple in the function call.\n",
        "\n",
        "=====================================================\n",
        "\n",
        "**Hints:** \\\n",
        "Unlike lists, tuples are immutable so, the tuple taken as an argument cannot be modified. But list can be modified and lastly for returning the result use type conversion. You need to use membership operators (in, not in) for preventing adding any duplicates values.\n",
        "\n",
        "=====================================================\n",
        "\n",
        "\n",
        "**Example1:** \\\n",
        "**Function Call:**\\\n",
        "rem_duplicate((1,1,1,2,3,4,5,6,6,6,6,4,0,0,0))\\\n",
        "**Output:**\\\n",
        "(1, 2, 3, 4, 5, 6, 0)\n",
        "\n",
        "====================================\n",
        "\n",
        "**Example2:** \\\n",
        "**Function Call:**\\\n",
        "rem_duplicate((\"Hi\", 1, 2, 3, 3, \"Hi\",'a', 'a', [1,2]))\\\n",
        "**Output:**\\\n",
        "('Hi', 1, 2, 3, 'a', [1, 2])\n",
        "\n",
        "\n",
        "\n"
      ]
    },
    {
      "cell_type": "code",
      "metadata": {
        "id": "mniLLbJY5D8d",
        "colab": {
          "base_uri": "https://localhost:8080/"
        },
        "outputId": "a3e9ba0a-c5c6-4b4d-f55d-9c1473007878"
      },
      "source": [
        "def rem_duplicate(number):\n",
        "    list = []\n",
        "    for x in number:\n",
        "        if x not in list:\n",
        "            list.append(x)\n",
        "    return(tuple(list))\n",
        "print(rem_duplicate((1,1,1,2,3,4,5,6,6,6,6,4,0,0,0)))\n",
        "print(rem_duplicate((\"Hi\", 1, 2, 3, 3, \"Hi\",'a', 'a', [1,2])))"
      ],
      "execution_count": null,
      "outputs": [
        {
          "output_type": "stream",
          "text": [
            "(1, 2, 3, 4, 5, 6, 0)\n",
            "('Hi', 1, 2, 3, 'a', [1, 2])\n"
          ],
          "name": "stdout"
        }
      ]
    },
    {
      "cell_type": "markdown",
      "metadata": {
        "id": "yJxb2yrb5D8h"
      },
      "source": [
        "### Task 12\n",
        "Write a python function that takes a list as an argument. Your task is to create a new list where **each element can be present at max 2 times**. Inside the function, print the number of elements removed from the given list. Finally, return the new list and print the result.\n",
        "\n",
        "=====================================================\n",
        "\n",
        "**Hint:** Use list_name.count(element) to count the total number of times an element is in a list. list_name is your new list for this problem.\n",
        "\n",
        "=====================================================\n",
        "\n",
        "**Function Call:**\\\n",
        "function_name([1, 2, 3, 3, 3, 3, 4, 5, 8, 8])\\\n",
        "**Output:**\\\n",
        "Removed: 2\\\n",
        "[1, 2, 3, 3, 4, 5, 8, 8]\\\n",
        "================================\\\n",
        "**Function Call:**\\\n",
        "function_name([10, 10, 15, 15, 20])\\\n",
        "**Output:**\\\n",
        "Removed: 0\\\n",
        "[10, 10, 15, 15, 20]"
      ]
    },
    {
      "cell_type": "code",
      "metadata": {
        "id": "URBhYdgt5D8h",
        "colab": {
          "base_uri": "https://localhost:8080/"
        },
        "outputId": "850e3530-a6fa-4170-84da-b92d366421f0"
      },
      "source": [
        "def function_name(list):\n",
        "    list1 = []\n",
        "    count = 0\n",
        "    for x in list:\n",
        "        if list1.count(x) < 2: \n",
        "            list1.append(x)\n",
        "        else:\n",
        "            count += 1\n",
        "    print(f\"Removed: {count}\")\n",
        "    return(list1)\n",
        "print(function_name([1, 2, 3, 3, 3, 3, 4, 5, 8, 8]))\n",
        "print(function_name([10, 10, 15, 15, 20]))"
      ],
      "execution_count": null,
      "outputs": [
        {
          "output_type": "stream",
          "text": [
            "Removed: 2\n",
            "[1, 2, 3, 3, 4, 5, 8, 8]\n",
            "Removed: 0\n",
            "[10, 10, 15, 15, 20]\n"
          ],
          "name": "stdout"
        }
      ]
    },
    {
      "cell_type": "markdown",
      "metadata": {
        "id": "vqET24dk5D8u"
      },
      "source": [
        "### Task 13\n",
        "Write a python function that will perform the basic calculation (addition, subtraction, multiplication and division) based on 3 arguments. They are:\n",
        "- Operator ('+', '-', '/', '*')\n",
        "- First Operand (any number)\n",
        "- Second Operand (any number)\n",
        "\n",
        "Your first task is to take these arguments as user input and pass the values to the function parameters.\n",
        "\n",
        "Your second task is to write a function and performs the calculation based on the given operator. Then, finally return the result in the function call and print the result.\n",
        "\n",
        "=====================================================\n",
        "\n",
        "**Input:**\\\n",
        "\"+\"\\\n",
        "10\\\n",
        "20\\\n",
        "**Function Call:**\\\n",
        "function_name(\"+\", 10, 20)\\\n",
        "**Output:**\\\n",
        "30.0\n",
        "\n",
        "================================\n",
        "\n",
        "**Input:**\\\n",
        "\"*\"\\\n",
        "5.5\\\n",
        "2.5\\\n",
        "**Function Call:**\\\n",
        "function_name(\"*\", 5.5, 2.5)\\\n",
        "**Output:**\\\n",
        "13.75\n"
      ]
    },
    {
      "cell_type": "code",
      "metadata": {
        "id": "sh7YQRv_5D8v",
        "colab": {
          "base_uri": "https://localhost:8080/"
        },
        "outputId": "d6aba67c-d539-4eb5-fcad-c3f4ddec22af"
      },
      "source": [
        "def function_name(x,y,z):\n",
        "    if x == \"+\":\n",
        "        sum = y+z\n",
        "        return(sum)\n",
        "    elif x == \"-\":\n",
        "        min = y-z\n",
        "        return(min)\n",
        "    elif x == \"/\":\n",
        "        div = y/z\n",
        "        return(div)\n",
        "    elif x == \"*\":\n",
        "        multi = y*z\n",
        "        return(multi)\n",
        "print(function_name(\"+\", 10, 20))\n",
        "print(function_name(\"*\", 5.5, 2.5))"
      ],
      "execution_count": null,
      "outputs": [
        {
          "output_type": "stream",
          "text": [
            "30\n",
            "13.75\n"
          ],
          "name": "stdout"
        }
      ]
    },
    {
      "cell_type": "markdown",
      "metadata": {
        "id": "KGitjtfO5D83"
      },
      "source": [
        "### Task 14\n",
        "Write a function which will take 2 arguments. They are:\n",
        "- Sentence \n",
        "- position \n",
        "\n",
        "Your first task is to take these arguments as user input and pass these values to the function parameters.\n",
        "\n",
        "Your second task is to implement the function and remove the characters at the index number which is divisible by the position (Avoid the index number 0 as it will always be divisible by the position, so no need to remove the index 0 character). \n",
        "Finally, add the removed characters at the end of the new string.\n",
        "\n",
        "Return the value and then finally, print the new string at the function call.\n",
        "\n",
        "=====================================================\n",
        "\n",
        "**Input:**\\\n",
        "\"I love programming.\"\\\n",
        "3\\\n",
        "**Function call:**\\\n",
        "function_name(\"I love programming.\", 3)\\\n",
        "**Output:**\\\n",
        "I lveprgrmmngo oai.\n",
        "\n",
        "==============================================\n",
        "\n",
        "**Input:**\\\n",
        "\"Python is easy to learn. I love python.\"\\\n",
        "6\\\n",
        "**Function call:**\\\n",
        "function_name(\"Python is easy to learn. I love python.\", 6)\\\n",
        "**Output:**\\\n",
        "Pythonis eay to earn.I lov pythn. sl eo\n"
      ]
    },
    {
      "cell_type": "code",
      "metadata": {
        "id": "1Op6YcHY5D84",
        "colab": {
          "base_uri": "https://localhost:8080/"
        },
        "outputId": "8098eee9-4841-4c7f-d849-1434da24f064"
      },
      "source": [
        "def function_name(a,b):\n",
        "    part_one = \"\"\n",
        "    part_two = \"\"\n",
        "    c = 0\n",
        "    for x in a:\n",
        "        if c == 0:       #For printing the only 1st letter\n",
        "            part_one+=x\n",
        "        elif c%b!=0:\n",
        "            part_one+=x\n",
        "        else:\n",
        "            part_two+=x\n",
        "        c += 1\n",
        "    return part_one+part_two\n",
        "print(function_name(\"I love programming.\", 3))\n",
        "print(function_name(\"Python is easy to learn. I love python.\", 6))\n",
        "\n",
        "#         2nd Method\n",
        "# def function_name(a, b):\n",
        "#     print(a[0],end='')\n",
        "#     for x in range(len(a)):\n",
        "#         if x%b != 0:\n",
        "#             print(a[x],end=\"\")\n",
        "#     list = []\n",
        "#     for y in range(len(a)):\n",
        "#         if y%b == 0:\n",
        "#             list.append(a[y])\n",
        "#     list.pop(0)\n",
        "#     for z in list:\n",
        "#         print(z,end=\"\")\n",
        "# function_name(\"Python is easy to learn. I love python.\", 6)"
      ],
      "execution_count": null,
      "outputs": [
        {
          "output_type": "stream",
          "text": [
            "I lveprgrmmngo oai.\n",
            "Pythonis eay to earn.I lov pythn. sl eo\n"
          ],
          "name": "stdout"
        }
      ]
    },
    {
      "cell_type": "markdown",
      "metadata": {
        "id": "5Gq0ZAzQ5D8-"
      },
      "source": [
        "### Task 15\n",
        "You have been hired as an app developer for the company. The company plans to make an app for a grocery store where the user can order groceries and see the total amount to be paid in the cart section. \n",
        "\n",
        "To build this feature, you have to write a function that takes 2 arguments. They are:\n",
        "- order_items (must be a list)\n",
        "- location (default value should be set to \"Dhanmondi\")\n",
        "\n",
        "Your first task is to take a list of items from the user. Pass the list into the function parameter along with the optional location (Use default argument technique). (Also, no need to take location as input, pass this any value you want.) \n",
        "\n",
        "Your second task is to implement the function. In the function, create a dictionary for the items shown in the table. Calculate the total price of the items passed as a list to the function. Additionally, add a delivery fee of 30 taka if the location is Dhanmondi. Otherwise, add a delivery fee of 70 taka. Finally, return the value and print it.\n",
        "\n",
        "| Item | Price(Tk) |\n",
        "| --- | --- |\n",
        "| Rice | 105 |\n",
        "| Potato | 20 |\n",
        "| Chicken | 250 |\n",
        "| Beef | 510 |\n",
        "| Oil | 85 |\n",
        "\n",
        "=====================================================\n",
        "\n",
        "**Hint:** The keys are the items and values are the corresponding price. Iterate the items in the list and check if the items in the list are available in the dictionary keys or not. If it is available, add the price.\n",
        "\n",
        "=====================================================\n",
        "\n",
        "**Example:**\\\n",
        "function_name([\"Rice\", \"Beef\", \"Rice\"], \"Mohakhali\")\n",
        "\n",
        "total = 105 + 510 + 105 = 720 (Take the price of each item and add them.)\\\n",
        "total = 720 + 70 = 790 (Finally, add the delivery fee based on the location.)\n",
        "\n",
        "**Input:**\\\n",
        "[\"Rice\", \"Beef\", \"Rice\"]\\\n",
        "**Function Call:**\\\n",
        "function_name([\"Rice\", \"Beef\", \"Rice\"], \"Mohakhali\")\\\n",
        "**Output:**\\\n",
        "790\n",
        "\n",
        "==============================================\n",
        "\n",
        "**Input:**\\\n",
        "[\"Rice\", \"Beef\", \"Rice\"]\\\n",
        "**Function Call:**\\\n",
        "function_name([\"Rice\", \"Beef\", \"Rice\"])\\\n",
        "**Output:**\\\n",
        "750"
      ]
    },
    {
      "cell_type": "code",
      "metadata": {
        "id": "KqbU53QPblRv",
        "colab": {
          "base_uri": "https://localhost:8080/"
        },
        "outputId": "3436862d-b340-4ac1-8697-683238385449"
      },
      "source": [
        "a = \"Dhanmondi\"\n",
        "def function_name(**details):\n",
        "    sum = 0\n",
        "    for x in details[\"order_items\"]:\n",
        "        if x == \"Rice\":\n",
        "            sum += 105\n",
        "        elif x == \"Potato\":\n",
        "            sum += 20\n",
        "        elif x == \"Chicken\":\n",
        "            sum += 250\n",
        "        elif x == \"Beef\":\n",
        "            sum += 510\n",
        "        elif x == \"Oil\":\n",
        "            sum += 85\n",
        "    if details[\"location\"] == a:\n",
        "        sum += 30\n",
        "    else:\n",
        "        sum += 70\n",
        "    print(sum)\n",
        "z= input(\"\")\n",
        "ss = z[2:-2]\n",
        "aaa = ss.split('\", \"')\n",
        "bb=\"Dhanmondi\"  \n",
        "function_name(order_items=aaa, location=\"Mohakhali\")\n",
        "function_name(order_items=aaa,location=bb)"
      ],
      "execution_count": null,
      "outputs": [
        {
          "output_type": "stream",
          "text": [
            "[\"Rice\", \"Beef\", \"Rice\"]\n",
            "790\n",
            "750\n"
          ],
          "name": "stdout"
        }
      ]
    },
    {
      "cell_type": "markdown",
      "metadata": {
        "id": "sWkvpVVmbT5n"
      },
      "source": [
        "## Optional Tasks (16 -20) [Ungraded]"
      ]
    },
    {
      "cell_type": "markdown",
      "metadata": {
        "id": "LIi7SUJLZ4gA"
      },
      "source": [
        "### Task 16\n",
        "Write a function called **splitting_money** that takes an “amount” of money as a argument.\n",
        "\n",
        "Your first task is to take the “amount” of money as user input and pass the value to the function paramater.\n",
        " \n",
        "Your second task is to implement the function and calculate how that money can be split into 500, 100, 50, 20, 10, 5, 2, and 1 taka notes.\n",
        "\n",
        "Then print the returned value in the function call.\n",
        "\n",
        "=====================================================\n",
        "\n",
        "\n",
        "**Hints:** \\\n",
        "This task’s calculation is similar to Assignment-1’s seconds to hours, minutes conversion. To return the result containing multiple strings, you need to store it in a variable and return it at the end of the function.\n",
        "\n",
        "=====================================================\n",
        "\n",
        "\n",
        "**Example1:** \\\n",
        "If the money is 1234, then the function should return \n",
        "\n",
        "\"500 Taka: 2 note(s) \\\n",
        "100 Taka: 2 note(s) \\\n",
        "20 Taka: 1 note(s) \\\n",
        "10 Taka: 1 note(s) \\\n",
        "2 Taka: 2 note(s)\"\n",
        "\n",
        "=====================================================\n",
        "\n",
        "**Example2:** \\\n",
        "If the money is 151, then the function should return\n",
        "\n",
        "\"100 Taka: 1 note(s)\\\n",
        "50 Taka: 1 note(s)\\\n",
        "1 Taka: 1 note(s)\"\n",
        "\n",
        "\n"
      ]
    },
    {
      "cell_type": "code",
      "metadata": {
        "id": "XI1uLQ5rb2oH"
      },
      "source": [
        "#todo"
      ],
      "execution_count": null,
      "outputs": []
    },
    {
      "cell_type": "markdown",
      "metadata": {
        "id": "VpnhnPPcab5J"
      },
      "source": [
        "### Task 17\n",
        "Write a function called **remove_odd** that takes a list of numbers that have both even and odd numbers mixed. \\\n",
        "Your function should remove all the odd numbers and **return a compact list** which only contains the even numbers. \n",
        "\n",
        "=====================================================\n",
        "\n",
        "**Example1:** \\\n",
        "**Function Call:**\\\n",
        "remove_odd ([21, 33, 44, 66, 11, 1, 88, 45, 10, 9])\\\n",
        "**Output:**\\\n",
        "[44, 66, 88, 10]\n",
        "\n",
        "====================================\n",
        "\n",
        "**Example2:** \\\n",
        "**Function Call:**\\\n",
        "remove_odd ([11,2,3,4,5,2,0,5,3])\\\n",
        "**Output:**\\\n",
        "[2, 4, 2, 0]\n",
        "\n"
      ]
    },
    {
      "cell_type": "code",
      "metadata": {
        "id": "y4dR2jV6bAYw"
      },
      "source": [
        "#todo"
      ],
      "execution_count": null,
      "outputs": []
    },
    {
      "cell_type": "markdown",
      "metadata": {
        "id": "8qAKekKWbBnP"
      },
      "source": [
        "### Task 18\n",
        "Write a function which will take 4 arguments. They are:\n",
        "- starting value(inclusive)\n",
        "- ending value(exclusive)\n",
        "- first divisor\n",
        "- second divisor\n",
        "\n",
        "Your first task is to take these arguments as user input and pass these values to the function.\n",
        "\n",
        "Your second task is to implement the function and find all the numbers that are divisible by the <u> **first divisor or second divisor but not both**</u> from the starting value(inclusive) and ending value(exclusive). Add all the numbers that are divisible and finally return this value. Print the returned value in the function call.\n",
        "\n",
        "=====================================================\n",
        "\n",
        "**Input:**\\\n",
        "10\\\n",
        "40\\\n",
        "4\\\n",
        "7\\\n",
        "**Function Call:**\\\n",
        "function_name(10, 40, 4, 7)\\\n",
        "**Output:**\\\n",
        "210\\\n",
        "================================\\\n",
        "**Input:**\\\n",
        "5\\\n",
        "100\\\n",
        "3\\\n",
        "4\\\n",
        "**Function Call:**\\\n",
        "function_name(5, 100, 3, 4)\\\n",
        "**Output:**\\\n",
        "2012\n",
        "\n",
        "\n"
      ]
    },
    {
      "cell_type": "code",
      "metadata": {
        "id": "-vQ3gIWm5D8-"
      },
      "source": [
        "#todo"
      ],
      "execution_count": null,
      "outputs": []
    },
    {
      "cell_type": "markdown",
      "metadata": {
        "id": "0poe59Q-aAtP"
      },
      "source": [
        "### Task 19\n",
        "Write a python function which will take a string as an argument. \n",
        "\n",
        "Your first task is to take a string as user input and pass the value to the function.\n",
        "\n",
        "Your second task is to implement a function which will check whether all the alphabets from a to j (convert all the alphabets to lowercase) has appeared at least once in the given string or not. \n",
        "- If all of these alphabets (a to j) appear at least once, then the result will be 5. \n",
        "- If any one of the alphabets (a to j) is not in the given string, then the result will be 6.\n",
        "\n",
        "Return this result and print the statement, \"Chelsea is the best club in England\" that many times.\n",
        "\n",
        "=====================================================\n",
        "\n",
        "**Example01:**\n",
        "\"A black jackal is hunting a full grown deer\" \n",
        "\n",
        "Here all the alphabets from A to J are present at least once. So, the function will return 5 and will print the statement 5 times.\n",
        "\n",
        "**Input:**\\\n",
        "\"A black jackal is hunting a full grown deer\"\\\n",
        "**Function Call:**\\\n",
        "function_name(\"A black jackal is hunting a full grown deer\")\\\n",
        "**Output:**\\\n",
        "Chelsea is the best club in England\\\n",
        "Chelsea is the best club in England\\\n",
        "Chelsea is the best club in England\\\n",
        "Chelsea is the best club in England\\\n",
        "Chelsea is the best club in England\n",
        "\n",
        "==============================================\n",
        "\n",
        "**Example02:**\n",
        "\n",
        "**Input:**\\\n",
        "\"ABBCDEFEFGHI\"\\\n",
        "**Function Call:**\\\n",
        "function_name(\"ABBCDEFEFGHI\")\\\n",
        "**Output:**\\\n",
        "Chelsea is the best club in England\\\n",
        "Chelsea is the best club in England\\\n",
        "Chelsea is the best club in England\\\n",
        "Chelsea is the best club in England\\\n",
        "Chelsea is the best club in England\\\n",
        "Chelsea is the best club in England\n"
      ]
    },
    {
      "cell_type": "code",
      "metadata": {
        "id": "uQRx3Kclb57h"
      },
      "source": [
        "#todo"
      ],
      "execution_count": null,
      "outputs": []
    },
    {
      "cell_type": "markdown",
      "metadata": {
        "id": "XGLNNSH25D9B"
      },
      "source": [
        "### Task 20\n",
        "You have been hired by the Abahani football club to write a function that will calculate the total bonus on the yearly earnings of each player for the total goals they have scored. Since the number of players will vary, you decide to use the \"*args\" technique that you learned in your CSE110 class. (No need to take any input from the user. Call the functions and print the values inside the function.) \n",
        "For each player: pass the name, yearly earning, the total goal scored this season, bonus percent per goal. Additionally, if the goal scored is above 30, add an extra bonus of 10000 taka. If it is between 20 and 30 inclusive, add an extra 5000 taka.\n",
        "\n",
        "=====================================================\n",
        "\n",
        "**Example:**\\\n",
        "function_name(\"Neymar\", 1200000, 30, 10)\n",
        "\n",
        "bonus = 30 * (10 / 100 * 1200000) + 5000 = 3605000\n",
        "\n",
        "**Function call:**\\\n",
        "function_name(\"Neymar\", 1200000, 30, 10)\\\n",
        "**Output:**\\\n",
        "Neymar earned a bonus of 3605000 Taka for 30 goals.\n",
        "\n",
        "=====================================================\n",
        "\n",
        "**Function call:**\\\n",
        "function_name(\"Neymar\", 1200000, 30, 10, \"Jamal\", 700000, 19, 5)\\\n",
        "**Output:**\\\n",
        "Neymar earned a bonus of 3605000 Taka for 30 goals.\\\n",
        "Jamal earned a bonus of 665000 Taka for 19 goals.\n",
        "\n",
        "\n",
        "\n"
      ]
    },
    {
      "cell_type": "code",
      "metadata": {
        "id": "IIz3msUa5D9B"
      },
      "source": [
        "# to do"
      ],
      "execution_count": null,
      "outputs": []
    }
  ]
}
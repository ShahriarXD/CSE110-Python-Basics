{
  "nbformat": 4,
  "nbformat_minor": 0,
  "metadata": {
    "kernelspec": {
      "name": "python3",
      "display_name": "Python 3.9.0 64-bit",
      "metadata": {
        "interpreter": {
          "hash": "4480ef5f7df75fb3b70d9dd7dd7124e20a7f6db1e26f2c52e0695bc2a98916c0"
        }
      }
    },
    "language_info": {
      "codemirror_mode": {
        "name": "ipython",
        "version": 3
      },
      "file_extension": ".py",
      "mimetype": "text/x-python",
      "name": "python",
      "nbconvert_exporter": "python",
      "pygments_lexer": "ipython3",
      "version": "3.9.0-final"
    },
    "colab": {
      "name": "CSE110_Assignment06_(Sorting).ipynb",
      "provenance": [],
      "collapsed_sections": []
    }
  },
  "cells": [
    {
      "cell_type": "markdown",
      "metadata": {
        "id": "oMYzsTcnHEll"
      },
      "source": [
        "# CSE110 Assignment 6\n",
        "\n",
        "\n",
        "## Write the Python code of the following problems:\n",
        "**<font color='red'>[MUST MAINTAIN VARIABLE NAMING CONVENTIONS FOR ALL THE TASKS]</font>**"
      ]
    },
    {
      "cell_type": "markdown",
      "metadata": {
        "id": "jT-t2zlnHEll"
      },
      "source": [
        "### Task 1\n",
        "\n",
        "Given a list named my_list. <br/>\n",
        "my_list=[10,1,20,3,6,2,5,11,15,2,12,14,17,18,29] <br/>\n",
        "Now use bubble sort to sort my_list into ascending order.\n",
        "\n",
        "**Output**<br/>\n",
        "[1, 2, 2, 3, 5, 6, 10, 11, 12, 14, 15, 17, 18, 20, 29]"
      ]
    },
    {
      "cell_type": "code",
      "metadata": {
        "id": "7qXVakLgHElm",
        "colab": {
          "base_uri": "https://localhost:8080/"
        },
        "outputId": "f77bad5c-2b20-4ff2-989a-4c323813a462"
      },
      "source": [
        "def bubbleSort(my_list):\n",
        "    for passnum in range(len(my_list)-1,0,-1):\n",
        "        for i in range(passnum):\n",
        "            if my_list[i]>my_list[i+1]:\n",
        "                temp = my_list[i]\n",
        "                my_list[i] = my_list[i+1]\n",
        "                my_list[i+1] = temp\n",
        "        print(my_list)\n",
        "my_list=[10,1,20,3,6,2,5,11,15,2,12,14,17,18,29]\n",
        "bubbleSort(my_list)"
      ],
      "execution_count": null,
      "outputs": [
        {
          "output_type": "stream",
          "text": [
            "[1, 10, 3, 6, 2, 5, 11, 15, 2, 12, 14, 17, 18, 20, 29]\n",
            "[1, 3, 6, 2, 5, 10, 11, 2, 12, 14, 15, 17, 18, 20, 29]\n",
            "[1, 3, 2, 5, 6, 10, 2, 11, 12, 14, 15, 17, 18, 20, 29]\n",
            "[1, 2, 3, 5, 6, 2, 10, 11, 12, 14, 15, 17, 18, 20, 29]\n",
            "[1, 2, 3, 5, 2, 6, 10, 11, 12, 14, 15, 17, 18, 20, 29]\n",
            "[1, 2, 3, 2, 5, 6, 10, 11, 12, 14, 15, 17, 18, 20, 29]\n",
            "[1, 2, 2, 3, 5, 6, 10, 11, 12, 14, 15, 17, 18, 20, 29]\n",
            "[1, 2, 2, 3, 5, 6, 10, 11, 12, 14, 15, 17, 18, 20, 29]\n",
            "[1, 2, 2, 3, 5, 6, 10, 11, 12, 14, 15, 17, 18, 20, 29]\n",
            "[1, 2, 2, 3, 5, 6, 10, 11, 12, 14, 15, 17, 18, 20, 29]\n",
            "[1, 2, 2, 3, 5, 6, 10, 11, 12, 14, 15, 17, 18, 20, 29]\n",
            "[1, 2, 2, 3, 5, 6, 10, 11, 12, 14, 15, 17, 18, 20, 29]\n",
            "[1, 2, 2, 3, 5, 6, 10, 11, 12, 14, 15, 17, 18, 20, 29]\n",
            "[1, 2, 2, 3, 5, 6, 10, 11, 12, 14, 15, 17, 18, 20, 29]\n"
          ],
          "name": "stdout"
        }
      ]
    },
    {
      "cell_type": "markdown",
      "metadata": {
        "id": "w1QgeWd2HElp"
      },
      "source": [
        "### Task 2\n",
        "\n",
        "Given a list named my_list. <br/>\n",
        "my_list=[10,1,20,3,6,2,5,11,15,2,12,14,17,18,29] <br/>\n",
        "Now use selection sort to sort my_list into ascending order.\n",
        "\n",
        "**Output**<br/>\n",
        "[1, 2, 2, 3, 5, 6, 10, 11, 12, 14, 15, 17, 18, 20, 29]\n",
        "\n"
      ]
    },
    {
      "cell_type": "code",
      "metadata": {
        "id": "am0B_8ICHElq",
        "colab": {
          "base_uri": "https://localhost:8080/"
        },
        "outputId": "35e203a2-a8fd-43a3-cc45-b26e829f4294"
      },
      "source": [
        "def selectionsort(my_list):\n",
        "    for i in range(len(my_list)-1):\n",
        "        min = my_list[i]\n",
        "        min_index = i\n",
        "        for j in range(i+1,len(my_list)):\n",
        "            if my_list[j] < min:\n",
        "                min = my_list[j]\n",
        "                min_index = j\n",
        "        temp = my_list[min_index]\n",
        "        my_list[min_index] = my_list[i]\n",
        "        my_list[i] = temp\n",
        "        print(my_list)\n",
        "\n",
        "my_list = [1, 2, 2, 3, 5, 6, 10, 11, 12, 14, 15, 17, 18, 20, 29]\n",
        "selectionsort(my_list) "
      ],
      "execution_count": null,
      "outputs": [
        {
          "output_type": "stream",
          "text": [
            "[1, 2, 2, 3, 5, 6, 10, 11, 12, 14, 15, 17, 18, 20, 29]\n",
            "[1, 2, 2, 3, 5, 6, 10, 11, 12, 14, 15, 17, 18, 20, 29]\n",
            "[1, 2, 2, 3, 5, 6, 10, 11, 12, 14, 15, 17, 18, 20, 29]\n",
            "[1, 2, 2, 3, 5, 6, 10, 11, 12, 14, 15, 17, 18, 20, 29]\n",
            "[1, 2, 2, 3, 5, 6, 10, 11, 12, 14, 15, 17, 18, 20, 29]\n",
            "[1, 2, 2, 3, 5, 6, 10, 11, 12, 14, 15, 17, 18, 20, 29]\n",
            "[1, 2, 2, 3, 5, 6, 10, 11, 12, 14, 15, 17, 18, 20, 29]\n",
            "[1, 2, 2, 3, 5, 6, 10, 11, 12, 14, 15, 17, 18, 20, 29]\n",
            "[1, 2, 2, 3, 5, 6, 10, 11, 12, 14, 15, 17, 18, 20, 29]\n",
            "[1, 2, 2, 3, 5, 6, 10, 11, 12, 14, 15, 17, 18, 20, 29]\n",
            "[1, 2, 2, 3, 5, 6, 10, 11, 12, 14, 15, 17, 18, 20, 29]\n",
            "[1, 2, 2, 3, 5, 6, 10, 11, 12, 14, 15, 17, 18, 20, 29]\n",
            "[1, 2, 2, 3, 5, 6, 10, 11, 12, 14, 15, 17, 18, 20, 29]\n",
            "[1, 2, 2, 3, 5, 6, 10, 11, 12, 14, 15, 17, 18, 20, 29]\n"
          ],
          "name": "stdout"
        }
      ]
    },
    {
      "cell_type": "markdown",
      "metadata": {
        "id": "j4ffr2CAHElt"
      },
      "source": [
        "### Task  3\n",
        "\n",
        "Given a list named my_list. <br/>\n",
        "my_list=[10,1,20,3,6,2,5,11,15,2,12,14,17,18,29] <br/>\n",
        "Now use any of the two sorts used above to sort the list in descending order.\n",
        "\n",
        "**Output**<br/>\n",
        "[29, 20, 18, 17, 15, 14, 12, 11, 10, 6, 5, 3, 2, 2, 1]\n"
      ]
    },
    {
      "cell_type": "code",
      "metadata": {
        "id": "n2X3YR-_HElt",
        "outputId": "e3d39df5-3126-48ed-f7ac-a3e49c5e905c"
      },
      "source": [
        "def selectionsort(my_list):\n",
        "    for i in range(len(my_list)-1):\n",
        "        min = my_list[i]\n",
        "        min_index = i\n",
        "        for j in range(i+1,len(my_list)):\n",
        "            if my_list[j] > min:\n",
        "                min = my_list[j]\n",
        "                min_index = j\n",
        "        temp = my_list[min_index]\n",
        "        my_list[min_index] = my_list[i]\n",
        "        my_list[i] = temp\n",
        "        print(my_list)\n",
        "\n",
        "my_list = [1, 2, 2, 3, 5, 6, 10, 11, 12, 14, 15, 17, 18, 20, 29]\n",
        "selectionsort(my_list) "
      ],
      "execution_count": null,
      "outputs": [
        {
          "output_type": "stream",
          "text": [
            "[29, 2, 2, 3, 5, 6, 10, 11, 12, 14, 15, 17, 18, 20, 1]\n",
            "[29, 20, 2, 3, 5, 6, 10, 11, 12, 14, 15, 17, 18, 2, 1]\n",
            "[29, 20, 18, 3, 5, 6, 10, 11, 12, 14, 15, 17, 2, 2, 1]\n",
            "[29, 20, 18, 17, 5, 6, 10, 11, 12, 14, 15, 3, 2, 2, 1]\n",
            "[29, 20, 18, 17, 15, 6, 10, 11, 12, 14, 5, 3, 2, 2, 1]\n",
            "[29, 20, 18, 17, 15, 14, 10, 11, 12, 6, 5, 3, 2, 2, 1]\n",
            "[29, 20, 18, 17, 15, 14, 12, 11, 10, 6, 5, 3, 2, 2, 1]\n",
            "[29, 20, 18, 17, 15, 14, 12, 11, 10, 6, 5, 3, 2, 2, 1]\n",
            "[29, 20, 18, 17, 15, 14, 12, 11, 10, 6, 5, 3, 2, 2, 1]\n",
            "[29, 20, 18, 17, 15, 14, 12, 11, 10, 6, 5, 3, 2, 2, 1]\n",
            "[29, 20, 18, 17, 15, 14, 12, 11, 10, 6, 5, 3, 2, 2, 1]\n",
            "[29, 20, 18, 17, 15, 14, 12, 11, 10, 6, 5, 3, 2, 2, 1]\n",
            "[29, 20, 18, 17, 15, 14, 12, 11, 10, 6, 5, 3, 2, 2, 1]\n",
            "[29, 20, 18, 17, 15, 14, 12, 11, 10, 6, 5, 3, 2, 2, 1]\n"
          ],
          "name": "stdout"
        }
      ]
    },
    {
      "cell_type": "markdown",
      "metadata": {
        "id": "9iYiiTWWHElw"
      },
      "source": [
        "### Task 4\n",
        "\n",
        "Suppose you have a sitting arrangement of the students of the final exam in a list. The list contains the last two digits of their roll number.<br/>\n",
        "\n",
        "sitting_list=[10,30,20,70,11,15,22,16,58,100,12,56,70,80] <br/>\n",
        "\n",
        "Now you want to organize the sitting arrangement. You decided to sort all the students in the even indices into ascending order and all the students in the odd indices  into descending order.  <br/>\n",
        "\n",
        "So write a python program that organizes the list for you the way you decided.<br/>\n",
        "\n",
        "\n",
        "**Sample Output**<br/>\n",
        "[10, 100, 11, 80, 12, 70, 20, 56, 22, 30, 58, 16, 70, 15]"
      ]
    },
    {
      "cell_type": "code",
      "metadata": {
        "id": "nPdUAKDJHElw",
        "colab": {
          "base_uri": "https://localhost:8080/"
        },
        "outputId": "29f6f7dd-24c6-4aff-cff7-80e145cfc484"
      },
      "source": [
        "def sitting_list(number_list):\r\n",
        "    list1 = []\r\n",
        "    list2 = []\r\n",
        "    list3 = []\r\n",
        "    count1 = 0\r\n",
        "    count2 = 0\r\n",
        "    for i in range(len(number_list)):\r\n",
        "        if i % 2 == 0:\r\n",
        "            list1.append(number_list[i])\r\n",
        "        else:\r\n",
        "            list2.append(number_list[i])\r\n",
        "    sorted_list1 = sorted(list1)\r\n",
        "    sorted_list2 = sorted(list2, reverse=True)\r\n",
        "    for i in range(len(number_list)):\r\n",
        "        if i % 2 == 0:\r\n",
        "            list3.append(sorted_list1[count1])\r\n",
        "            count1 += 1\r\n",
        "        else:\r\n",
        "            list3.append(sorted_list2[count2])\r\n",
        "            count2 += 1\r\n",
        "    print(list3)\r\n",
        "sitting_list([10,30,20,70,11,15,22,16,58,100,12,56,70,80])"
      ],
      "execution_count": 1,
      "outputs": [
        {
          "output_type": "stream",
          "text": [
            "[10, 100, 11, 80, 12, 70, 20, 56, 22, 30, 58, 16, 70, 15]\n"
          ],
          "name": "stdout"
        }
      ]
    },
    {
      "cell_type": "markdown",
      "metadata": {
        "id": "oVR1Tsa0HElz"
      },
      "source": [
        "### Task 5\n",
        "\n",
        "Suppose a list contains the final exam results of CSE110, PHY111, and MAT110 of each student in a listed form. Your task is to sort the list based on a course name that will be given by the user and print the names after sorting. <br/>\n",
        "\n",
        "For example, a list looks like <br/>\n",
        "lst = [ [‘Farzad’,95,87,91] , [‘Mahjabin’,92,90,83], [‘Sadman’,87,92,80], [‘Nakhla’,85,94,90] ] <br/>\n",
        "where for each list, 1st index is name, 2nd index is CSE110, 3rd index is PHY111 and 4th index is MAT110. \n",
        "\n",
        "=====================================================\n",
        "\n",
        "**Hint:**<br/>\n",
        "create a function for sorting, then call it everytime instead of rewriting the code.\n",
        "\n",
        "Get the data in the individual lists from the givennested list.\n",
        "\n",
        "=====================================================\n",
        "\n",
        "**Sample Input**<br/>\n",
        "MAT110\n",
        "\n",
        "**Sample Output**<br/>\n",
        "Farzad <br/>\n",
        "Nakhla <br/>\n",
        "Mahjabin <br/>\n",
        "Sadman\n",
        "\n",
        "\n"
      ]
    },
    {
      "cell_type": "code",
      "metadata": {
        "id": "539b2P1NHElz",
        "outputId": "2b96d2fc-322d-41bd-913b-220b0f11c4bd"
      },
      "source": [
        "def sorting(x,n):\n",
        "    f = 0\n",
        "    if n == \"CSE110\":\n",
        "        f = 1\n",
        "    elif n == \"PHY111\":\n",
        "        f = 2\n",
        "    elif n == \"MAT110\":\n",
        "        f = 3\n",
        "    for i in range(len(x)-1):\n",
        "        for j in range(0,len(x)-1-i):\n",
        "            if x[j][f] < x[j+1][f]:\n",
        "                temp = x[j]\n",
        "                x[j] = x[j+1]\n",
        "                x[j+1] = temp\n",
        "    for i in range(len(x)):\n",
        "        print(x[i][0])\n",
        "n = input()   \n",
        "sorting([ [\"Farzad\",95,87,91] , [\"Mahjabin\",92,90,83], [\"Sadman\",87,92,80], [\"Nakhla\",85,94,90] ] , n)"
      ],
      "execution_count": null,
      "outputs": [
        {
          "output_type": "stream",
          "text": [
            "Farzad\n",
            "Nakhla\n",
            "Mahjabin\n",
            "Sadman\n"
          ],
          "name": "stdout"
        }
      ]
    },
    {
      "cell_type": "markdown",
      "metadata": {
        "id": "B0Rqbyi4HEl2"
      },
      "source": [
        "### Task 6\n",
        "\n",
        "Suppose you have a list named my_list. Your task is to sort the list and print the count of numbers that have changed their position. <br/>\n",
        "my_list = [4,2,3,1,6,5] <br/>\n",
        "Sorted list would be [1,2,3,4,5,6] where 4 numbers have changed their position.\n",
        "\n",
        "\n",
        "**Sample Output**<br/>\n",
        "4"
      ]
    },
    {
      "cell_type": "code",
      "metadata": {
        "id": "AMc8jAa7HEl2",
        "colab": {
          "base_uri": "https://localhost:8080/"
        },
        "outputId": "5b8188de-0d81-4782-8a07-fa68eec82830"
      },
      "source": [
        "my_list = [4,2,3,1,6,5]\n",
        "count = 0\n",
        "for i in range(len(my_list)):\n",
        "    min = my_list[i]\n",
        "    min_index = i\n",
        "    for j in range(i+1,len(my_list)):\n",
        "        if my_list[j] < min:\n",
        "            min = my_list[j]\n",
        "            min_index = j\n",
        "            count += 1\n",
        "    temp = my_list[min_index]\n",
        "    my_list[min_index] = my_list[i]\n",
        "    my_list[i] = temp\n",
        "print(my_list)\n",
        "print(count)"
      ],
      "execution_count": null,
      "outputs": [
        {
          "output_type": "stream",
          "text": [
            "[1, 2, 3, 4, 5, 6]\n",
            "3\n"
          ],
          "name": "stdout"
        }
      ]
    },
    {
      "cell_type": "markdown",
      "metadata": {
        "id": "iIH5n0sJHEl5"
      },
      "source": [
        "### Task 7\n",
        "\n",
        "Write a python program that takes two lists from the user, merges the two lists, sorts the list, and find the median of the elements of the two lists.\n",
        "\n",
        "=====================================================\n",
        "\n",
        "\n",
        "**Sample Input 1**<br/>\n",
        "list_one= [1,2,1,4] <br/>\n",
        "list_two= [5,4,1]\n",
        "\n",
        "\n",
        "**Sample Output 1**<br/>\n",
        "Sorted list= [1, 1, 1, 2, 4, 4, 5] <br/>\n",
        "Median = 2\n",
        "\n",
        "=====================================================\n",
        "\n",
        "\n",
        "**Sample Input 2**<br/>\n",
        "list_one= [1,7,9,10] <br/>\n",
        "list_two= [2,7,6,5]\n",
        "\n",
        "\n",
        "**Sample Output 2**<br/>\n",
        "Sorted list=[1, 2, 5, 6, 7, 7, 9, 10] <br/>\n",
        "Median=6.5\n",
        "\n"
      ]
    },
    {
      "cell_type": "code",
      "metadata": {
        "id": "KsFxC7XbHEl6",
        "outputId": "759b707d-0ab9-4378-d84d-8ad1eca4ddce"
      },
      "source": [
        "list_one= [1,7,9,10]\n",
        "list_two= [2,7,6,5]\n",
        "n_num = list_one+list_two\n",
        "n_num.sort()\n",
        "n = len(n_num) \n",
        "n_num.sort() \n",
        "print(n_num)\n",
        "if n % 2 == 0: \n",
        "\tmedian1 = n_num[n//2] \n",
        "\tmedian2 = n_num[n//2 - 1] \n",
        "\tmedian = (median1 + median2)/2\n",
        "else: \n",
        "\tmedian = n_num[n//2] \n",
        "print(\"Median is: \" + str(median)) "
      ],
      "execution_count": null,
      "outputs": [
        {
          "output_type": "stream",
          "text": [
            "[1, 2, 5, 6, 7, 7, 9, 10]\n",
            "Median is: 6.5\n"
          ],
          "name": "stdout"
        }
      ]
    },
    {
      "cell_type": "markdown",
      "metadata": {
        "id": "-XKiwBR1HEl8"
      },
      "source": [
        "### Task 8\n",
        "\n",
        "\n",
        "Write a python program that takes a list from user containing both positive and negative numbers. The program then finds two pairs of values whose summation is closest to zero.\n",
        "\n",
        "=====================================================\n",
        "\n",
        "**Sample Input 1**<br/>\n",
        "list_one=[-10,15,2,4,-4,7,-8] \n",
        "\n",
        "\n",
        "**Sample Output 1**<br/>\n",
        "Two pairs which have the smallest sum = 4 and -4\n",
        "\n",
        "=====================================================\n",
        "\n",
        "\n",
        "**Sample Input 2**<br/>\n",
        "list_one=[1,-8,4,-7,-20,26,70,-85]\n",
        "\n",
        "\n",
        "**Sample Output 2**<br/>\n",
        "Two pairs which have the smallest sum = 4 and -7"
      ]
    },
    {
      "cell_type": "code",
      "metadata": {
        "id": "5ORSGa5GHEl9",
        "colab": {
          "base_uri": "https://localhost:8080/"
        },
        "outputId": "c532c164-976a-42ee-a08a-90795272f64a"
      },
      "source": [
        "import ast\n",
        "def xxx(arr): \n",
        "\tif len(arr) < 2: \n",
        "\t\tprint(\"Invalid Input\") \n",
        "\t\treturn\n",
        "\tmin_l = 0\n",
        "\tmin_r = 1\n",
        "\tmin_sum = arr[0] + arr[1] \n",
        "\tfor l in range (0, len(arr) - 1): \n",
        "\t\tfor r in range (l + 1, len(arr)): \n",
        "\t\t\tsum = arr[l] + arr[r]\t\t\t\t \n",
        "\t\t\tif abs(min_sum) > abs(sum):\t\t \n",
        "\t\t\t\tmin_sum = sum\n",
        "\t\t\t\tmin_l = l \n",
        "\t\t\t\tmin_r = r\n",
        "\tprint(\"Two pairs which have the smallest sum = \", \n",
        "\t\t\tarr[min_l], \"and \", arr[min_r])\n",
        "list_one = ast.literal_eval(input())\n",
        "xxx(list_one)"
      ],
      "execution_count": null,
      "outputs": [
        {
          "output_type": "stream",
          "text": [
            "[1,-8,4,-7,-20,26,70,-85]\n",
            "Two pairs which have the smallest sum =  4 and  -7\n"
          ],
          "name": "stdout"
        }
      ]
    },
    {
      "cell_type": "code",
      "metadata": {
        "id": "lSQmvjfTyTqu"
      },
      "source": [
        ""
      ],
      "execution_count": null,
      "outputs": []
    }
  ]
}
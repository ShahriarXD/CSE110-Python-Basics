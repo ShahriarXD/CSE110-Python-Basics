{
  "nbformat": 4,
  "nbformat_minor": 0,
  "metadata": {
    "kernelspec": {
      "display_name": "Python 3",
      "language": "python",
      "name": "python3"
    },
    "language_info": {
      "codemirror_mode": {
        "name": "ipython",
        "version": 3
      },
      "file_extension": ".py",
      "mimetype": "text/x-python",
      "name": "python",
      "nbconvert_exporter": "python",
      "pygments_lexer": "ipython3",
      "version": "3.7.6"
    },
    "colab": {
      "name": "CSE110 Assignment04 (Tuple- Dictionary).ipynb",
      "provenance": [],
      "collapsed_sections": []
    }
  },
  "cells": [
    {
      "cell_type": "markdown",
      "metadata": {
        "id": "U4PRkuyUtDRw"
      },
      "source": [
        "# CSE110 Assignment 4\n",
        "\n",
        "\n",
        "## Write the Python code of the following problems:\n",
        "**<font color='red'>[MUST MAINTAIN VARIABLE NAMING CONVENTIONS FOR ALL THE TASKS]</font>**\n"
      ]
    },
    {
      "cell_type": "markdown",
      "metadata": {
        "id": "PD425BrvtDRy"
      },
      "source": [
        "## Part 1: Tuple"
      ]
    },
    {
      "cell_type": "markdown",
      "metadata": {
        "id": "FNOorLYXtDRz"
      },
      "source": [
        "### Task 1\n",
        "\n",
        "Assume, you have been given a tuple.\n",
        "\n",
        "a_tuple = (\"The Institute\",\\\n",
        "        (\"Best Mystery & Thriller\", \"The Silent Patient\", 68821),\\\n",
        "        75717,\\\n",
        "        [1, 2, 3, 400, 5, 6, 7],\\\n",
        "        (\"Best Fiction\", \"The Testaments\", 98291)\\\n",
        ")\n",
        "\n",
        "Write **one line** of Python code to access and print the value 400.\n",
        "\n",
        "Output: 400\n",
        "\n"
      ]
    },
    {
      "cell_type": "code",
      "metadata": {
        "id": "NDKB1cIMtDR0",
        "outputId": "18689186-d669-4c5d-a880-6faf2a72d930",
        "colab": {
          "base_uri": "https://localhost:8080/"
        }
      },
      "source": [
        "a_tuple = (\"The Institute\",\n",
        "(\"Best Mystery & Thriller\", \"The Silent Patient\", 68821),\n",
        "75717,\n",
        "[1, 2, 3, 400, 5, 6, 7],\n",
        "(\"Best Fiction\", \"The Testaments\", 98291)\n",
        ")\n",
        "print(a_tuple[3][3])"
      ],
      "execution_count": null,
      "outputs": [
        {
          "output_type": "stream",
          "text": [
            "400\n"
          ],
          "name": "stdout"
        }
      ]
    },
    {
      "cell_type": "markdown",
      "metadata": {
        "id": "BXlIw1svtDR-"
      },
      "source": [
        "### Task 2\n",
        "\n",
        "Assume, you have been given a tuple. Write a Python program that creates a **new tuple** excluding the first and last two elements of the given tuple and prints the new tuple. \n",
        "\n",
        "================================================================\n",
        "\n",
        "**Hint:** You need to use tuple slicing.\n",
        "\n",
        "================================================================\n",
        "\n",
        "**Input 1:**\\\n",
        "(10, 20, 24, 25, 26, 35, 70)\\\n",
        "**Output 1:**\\\n",
        "(24, 25, 26)\n",
        "\n",
        "================================================================\n",
        "\n",
        "**Input 2:**\\\n",
        "(-10, 20, 30, 40)\\\n",
        "**Output 2:**\\\n",
        "()\n",
        "\n",
        "================================================================\n",
        "\n",
        "**Input 3:**\\\n",
        "(-10, 20, 25, 30, 40)\\\n",
        "**Output 3:**\\\n",
        "(25,)\n",
        "\n",
        "\n"
      ]
    },
    {
      "cell_type": "code",
      "metadata": {
        "id": "FTJ-5AmNtDR_",
        "outputId": "026fc047-08fc-45a7-9e97-817618ac2eba",
        "colab": {
          "base_uri": "https://localhost:8080/"
        }
      },
      "source": [
        "a = (10, 20, 24, 25, 26, 35, 70)\n",
        "print(a[2:-2])\n"
      ],
      "execution_count": null,
      "outputs": [
        {
          "output_type": "stream",
          "text": [
            "(24, 25, 26)\n"
          ],
          "name": "stdout"
        }
      ]
    },
    {
      "cell_type": "markdown",
      "metadata": {
        "id": "Z3GS2TE6tDSG"
      },
      "source": [
        "### Task 3\n",
        "\n",
        "Assume, you have been given a tuple. \n",
        "\n",
        "\n",
        "book_info = (\\\n",
        "    (\"Best Mystery & Thriller\",\"The Silent Patient\",68,821),\\\n",
        "    (\"Best Horror\",\"The Institute\",75,717),\\\n",
        "    (\"Best History & Biography\",\"The five\",31,783 ),\\\n",
        "    (\"Best Fiction\",\"The Testaments\",98,291)\\\n",
        ")\n",
        "\n",
        "Write a Python program that prints its size and all its elements.\n",
        "\n",
        "===============================================================\n",
        "\n",
        "**Output:**\\\n",
        "Size of the tuple is: 4\\\n",
        "('Best Mystery & Thriller', 'The Silent Patient', 68, 821)\\\n",
        "('Best Horror', 'The Institute', 75, 717)\\\n",
        "('Best History & Biography', 'The five', 31, 783)\\\n",
        "('Best Fiction', 'The Testaments', 98, 291)\n"
      ]
    },
    {
      "cell_type": "code",
      "metadata": {
        "id": "RPFYcAjntDSG",
        "outputId": "a6eb4e41-8d80-40c6-a679-82a95ea78b24",
        "colab": {
          "base_uri": "https://localhost:8080/"
        }
      },
      "source": [
        "book_info = (\n",
        "(\"Best Mystery & Thriller\",\"The Silent Patient\",68,821),\n",
        "(\"Best Horror\",\"The Institute\",75,717),\n",
        "(\"Best History & Biography\",\"The five\",31,783 ),\n",
        "(\"Best Fiction\",\"The Testaments\",98,291)\n",
        ")\n",
        "b = len(book_info)\n",
        "print(f\"Size of the tuple is: {b}\")\n",
        "for x in book_info:\n",
        "    print(x)"
      ],
      "execution_count": null,
      "outputs": [
        {
          "output_type": "stream",
          "text": [
            "Size of the tuple is: 4\n",
            "('Best Mystery & Thriller', 'The Silent Patient', 68, 821)\n",
            "('Best Horror', 'The Institute', 75, 717)\n",
            "('Best History & Biography', 'The five', 31, 783)\n",
            "('Best Fiction', 'The Testaments', 98, 291)\n"
          ],
          "name": "stdout"
        }
      ]
    },
    {
      "cell_type": "markdown",
      "metadata": {
        "id": "glKgAPlGtDSK"
      },
      "source": [
        "### Task 4\n",
        "\n",
        "Assume, you have been given a tuple. \n",
        "\n",
        "book_info = (\\\n",
        "    (\"Best Mystery & Thriller\",\"The Silent Patient\",68821),\\\n",
        "    (\"Best Horror\",\"The Institute\",75717),\\\n",
        "    (\"Best History & Biography\",\"The five\",31783 ),\\\n",
        "    (\"Best Fiction\",\"The Testaments\",98291)\\\n",
        ")\n",
        "\n",
        "Write a Python program that prints the information about the Good Reads Choice Awards from a tuple. Your program should print the award category, the book name, and its total votes needed for the win.\n",
        "\n",
        "===============================================================\n",
        "\n",
        "**Hint:** You need to handle the quotation marks as a part of the output.\n",
        "**<font color='red'>[Must use Tuple unpacking for printing.]</font>**\n",
        "\n",
        "\n",
        "===============================================================\n",
        "\n",
        "**Output:**\\\n",
        "The Silent Patient won the 'Best Mystery & Thriller' category with 68821 votes\\\n",
        "The Institute won the 'Best Horror' category with 75717 votes\\\n",
        "The five won the 'Best History & Biography' category with 31783 votes\\\n",
        "The Testaments won the 'Best Fiction' category with 98291 votes\n",
        "\n",
        "\n",
        "\n"
      ]
    },
    {
      "cell_type": "code",
      "metadata": {
        "id": "LgTKpSGatDSM",
        "outputId": "f8875c71-503e-405f-aebd-2e6f8352c139",
        "colab": {
          "base_uri": "https://localhost:8080/"
        }
      },
      "source": [
        "book_info = (\n",
        "(\"Best Mystery & Thriller\",\"The Silent Patient\",68821),\n",
        "(\"Best Horror\",\"The Institute\",75717),\n",
        "(\"Best History & Biography\",\"The five\",31783 ),\n",
        "(\"Best Fiction\",\"The Testaments\",98291)\n",
        ")\n",
        "(s1,s2,s3,s4)= book_info\n",
        "print(s1)\n",
        "(Genre,Name,Votes) = s1\n",
        "print(f\"\"\"{Name} won the '{Genre}' category with {Votes} votes\"\"\")\n",
        "(Genre,Name,Votes) = s2\n",
        "print(f\"\"\"{Name} won the '{Genre}' category with {Votes} votes\"\"\")\n",
        "(Genre,Name,Votes) = s3\n",
        "print(f\"\"\"{Name} won the '{Genre}' category with {Votes} votes\"\"\")\n",
        "(Genre,Name,Votes) = s4\n",
        "print(f\"\"\"{Name} won the '{Genre}' category with {Votes} votes\"\"\")"
      ],
      "execution_count": null,
      "outputs": [
        {
          "output_type": "stream",
          "text": [
            "('Best Mystery & Thriller', 'The Silent Patient', 68821)\n",
            "The Silent Patient won the 'Best Mystery & Thriller' category with 68821 votes\n",
            "The Institute won the 'Best Horror' category with 75717 votes\n",
            "The five won the 'Best History & Biography' category with 31783 votes\n",
            "The Testaments won the 'Best Fiction' category with 98291 votes\n"
          ],
          "name": "stdout"
        }
      ]
    },
    {
      "cell_type": "markdown",
      "metadata": {
        "id": "bRe9K_j55zpb"
      },
      "source": [
        "### Task 5\n",
        "Write a python program that takes an input from the user and finds the number of times that input is present in the tuple.\n",
        "\n",
        "===============================\n",
        "\n",
        "<b>Input 1 </b><br/>\n",
        "(10, 8, 5, 2, 10, 15, 10, 8, 5, 8, 8, 2) <br/>\n",
        "8<br/>\n",
        "<b> Output 1 </b> <br/>\n",
        "8 appears 4 times in the tuple<br/>\n",
        "\n",
        "=============================================\n",
        "\n",
        "<b> Input 2 </b><br/>\n",
        "(10, 8, 5, 2, 10, 15, 10, 8, 5, 8, 8, 2)<br/>\n",
        "1<br/>\n",
        "<b> Output 2 </b><br/>\n",
        "1 appears 0 times in the tuple"
      ]
    },
    {
      "cell_type": "code",
      "metadata": {
        "id": "mC-B1fpStDST",
        "outputId": "a83bfd41-f829-4b0e-ed70-9f5542f2ec1c",
        "colab": {
          "base_uri": "https://localhost:8080/"
        }
      },
      "source": [
        "tuple = (10, 8, 5, 2, 10, 15, 10, 8, 5, 8, 8, 2) \n",
        "count = 0\n",
        "usr_inp = int(input())\n",
        "for x in tuple:\n",
        "    if (x == usr_inp):\n",
        "        count = count + 1\n",
        "print(f\"{usr_inp} appears {count} times in the tuple\")\n",
        "\n"
      ],
      "execution_count": null,
      "outputs": [
        {
          "output_type": "stream",
          "text": [
            "1\n",
            "1 appears 0 times in the tuple\n"
          ],
          "name": "stdout"
        }
      ]
    },
    {
      "cell_type": "markdown",
      "metadata": {
        "id": "QWNi_JWr6AfC"
      },
      "source": [
        "### Task 6\n",
        "Write a Python program to reverse a tuple.\n",
        "\n",
        "===============================================================\n",
        "\n",
        "<b> Hint: </b>  Unlike lists, tuples are immutable. So, in order to reverse a tuple, first we need to convert it into list, modify, then convert it back to tuple. \n",
        "\n",
        "===============================\n",
        "\n",
        "<b>Input 1 </b><br/>\n",
        "('a','b','c','d','e','f','g','h') <br/>\n",
        "<b> Output 1 </b> <br/>\n",
        "('h', 'g', 'f', 'e', 'd', 'c', 'b', 'a')<br/>\n",
        "\n",
        "================================\n",
        "\n",
        "<b> Input 2 </b><br/>\n",
        "(10,20,30,40,50,60)<br/>\n",
        "<b> Output 2 </b><br/>\n",
        "(60, 50, 40, 30, 20, 10)\n",
        "\n"
      ]
    },
    {
      "cell_type": "code",
      "metadata": {
        "id": "CJrUcYAN6Bkx",
        "outputId": "70e754e1-4a56-4203-c48b-7d8d3191d20e",
        "colab": {
          "base_uri": "https://localhost:8080/"
        }
      },
      "source": [
        "aa = ('a','b','c','d','e','f','g','h')\n",
        "bb = reversed(aa)\n",
        "print(tuple(bb))\n",
        "\n",
        "\n",
        "#METHOD 1\n",
        "#aa = ('a','b','c','d','e','f','g','h')\n",
        "#bb = aa[::-1]\n",
        "#print(bb)\n",
        "\n",
        "\n",
        "#METHOD 2\n",
        "# import ast\n",
        "# a = ast.literal_eval(input())\n",
        "# bb = a[::-1]\n",
        "# print(bb)\n",
        "\n",
        "\n",
        "#METHOD 3\n",
        "# Number_of_Item_you_want = int(input())\n",
        "# list = []\n",
        "# for x in range(Number_of_Item_you_want):\n",
        "#     a = input(\"\")\n",
        "#     list.append(a)\n",
        "# b = tuple(list)\n",
        "# bb = reversed(b)\n",
        "# print(tuple(bb))"
      ],
      "execution_count": null,
      "outputs": [
        {
          "output_type": "stream",
          "text": [
            "('h', 'g', 'f', 'e', 'd', 'c', 'b', 'a')\n"
          ],
          "name": "stdout"
        }
      ]
    },
    {
      "cell_type": "markdown",
      "metadata": {
        "id": "km0QurTJtDSX"
      },
      "source": [
        "## Part 2: Dictionary"
      ]
    },
    {
      "cell_type": "markdown",
      "metadata": {
        "id": "kvV-HnCntDSc"
      },
      "source": [
        "### Task 07\n",
        "Suppose you are given the following two dictionaries.\\\n",
        "Now create a new dictionary marks merging the two of the above dictionaries, **so that the original two dictionaries remain unchanged.**\n",
        "\n",
        "========================================\n",
        "\n",
        "**Hint:** You can use dictionary functions.\n",
        "\n",
        "========================================\n",
        "\n",
        "**Input:**\\\n",
        "{'Harry':15, 'Draco':8, 'Nevil':19}\\\n",
        "{'Ginie':18, 'Luna': 14}\n",
        "\n",
        "**Output:**\\\n",
        "{'Harry': 15, 'Draco': 8, 'Nevil': 19, 'Ginie': 18, 'Luna': 14}\n",
        "\n",
        "\n",
        "========================================\n",
        "\n",
        "**Input:**\\\n",
        "{'A':90, 'B': 0}\\\n",
        "{'C':50}\n",
        "\n",
        "**Output:**\\\n",
        "{'A': 90, 'B': 0, 'C': 50}\n",
        "\n",
        "\n"
      ]
    },
    {
      "cell_type": "code",
      "metadata": {
        "id": "BGSyClBPtDSd",
        "outputId": "01f23bde-6ceb-4b5b-a67b-f4b0bc324951",
        "colab": {
          "base_uri": "https://localhost:8080/"
        }
      },
      "source": [
        "a = {'Harry':15, 'Draco':8, 'Nevil':19}\n",
        "b = {'Ginie':18, 'Luna': 14}\n",
        "c = a.copy()\n",
        "c.update(b)\n",
        "print(c)\n",
        "\n",
        "#METHOD 1\n",
        "# a = {'Harry':15, 'Draco':8, 'Nevil':19}\n",
        "# b = {'Ginie':18, 'Luna': 14}\n",
        "# c = a.copy()\n",
        "# print(c | b)\n",
        "\n",
        "\n",
        "#METHOD 2\n",
        "# def add(a, b):\n",
        "#     result = {**a, **b}\n",
        "#     return result\n",
        "# a = {'Harry':15, 'Draco':8, 'Nevil':19}\n",
        "# b = {'Ginie':18, 'Luna': 14}\n",
        "# print(add(a,b))"
      ],
      "execution_count": null,
      "outputs": [
        {
          "output_type": "stream",
          "text": [
            "{'Harry': 15, 'Draco': 8, 'Nevil': 19, 'Ginie': 18, 'Luna': 14}\n"
          ],
          "name": "stdout"
        }
      ]
    },
    {
      "cell_type": "markdown",
      "metadata": {
        "id": "QRzP4HYStDSi"
      },
      "source": [
        "### Task 08\n",
        "Write a Python program that takes a dictionary as a input from the user, then prints the average of all the values in a dictionary.\n",
        "\n",
        " <font color='red'>[ You are not allowed to use len() and sum()]</font>\n",
        "\n",
        "========================================\n",
        "\n",
        "**Hint:** You can use dictionary functions to get all the values of the dictionary, then run loop to calculate the sum and the total number of values in the dictionary.\n",
        "\n",
        "========================================\n",
        "\n",
        "**Input:**\\\n",
        "{'Jon': 100, 'Dan':200, 'Rob':300}\n",
        "\n",
        "**Output:**\\\n",
        "Average is 200\n",
        "\n",
        "========================================\n",
        "\n",
        "\n",
        "**Input:**\\\n",
        "{'Jon': 100, 'Dan':200, 'Rob':30}\n",
        "\n",
        "**Output:**\\\n",
        "Average is 110\n",
        "\n",
        "\n"
      ]
    },
    {
      "cell_type": "code",
      "metadata": {
        "id": "VMRLnA53tDSk",
        "outputId": "9fd43476-7ac1-445d-9fe5-9c75685f282b",
        "colab": {
          "base_uri": "https://localhost:8080/"
        }
      },
      "source": [
        "a = {'Jon': 100, 'Dan':200, 'Rob':30}\n",
        "sum = 0\n",
        "for x in a.values():\n",
        "    sum = sum + x\n",
        "avg = 0\n",
        "for x in a:\n",
        "    avg += 1\n",
        "Final = sum/avg\n",
        "zz =round(Final)\n",
        "print(f\"Average is {zz}\")\n",
        "\n",
        "\n",
        "\n",
        "#BY Taking Import\n",
        "\n",
        "# import ast\n",
        "# a = ast.literal_eval(input())\n",
        "# sum = 0\n",
        "# count = 0\n",
        "# for x,y in a.items():\n",
        "#     sum += y\n",
        "#     count += 1\n",
        "# avg = sum/count\n",
        "# Final  = round(avg)\n",
        "# print(f\"Average is {Final}\")"
      ],
      "execution_count": null,
      "outputs": [
        {
          "output_type": "stream",
          "text": [
            "Average is 110\n"
          ],
          "name": "stdout"
        }
      ]
    },
    {
      "cell_type": "markdown",
      "metadata": {
        "id": "le7fZ8XC9j_x"
      },
      "source": [
        "### Task 09\n",
        "Suppose there is a dictionary named exam_marks.\\\n",
        "exam_marks = {'Cierra Vega': 175, 'Alden Cantrell': 200, 'Kierra Gentry': 165, 'Pierre Cox': 190}\n",
        "\n",
        "Now create a new dictionary which filters out all the values lower than the user input\n",
        "\n",
        "===============================\n",
        "\n",
        "**Input:**\\\n",
        "170\\\n",
        "**Output:**\\\n",
        "{'Cierra Vega': 175, 'Alden Cantrell': 200, 'Pierre Cox': 190}\n",
        "\n",
        "===============================\n",
        "\n",
        "**Input:**\\\n",
        "190\\\n",
        "**Output:**\\\n",
        "{'Alden Cantrell': 200, 'Pierre Cox': 190}"
      ]
    },
    {
      "cell_type": "code",
      "metadata": {
        "id": "qJWoUsLN9lBY",
        "outputId": "1bdae5a3-0712-493b-c91c-5c5628c898ca",
        "colab": {
          "base_uri": "https://localhost:8080/"
        }
      },
      "source": [
        "exam_marks = {'Cierra Vega': 175, 'Alden Cantrell': 200, 'Kierra Gentry': 165, 'Pierre Cox': 190}\n",
        "a = int(input())\n",
        "dict = {}\n",
        "for x, y in exam_marks.items():\n",
        "    if y >= a:\n",
        "        dict[x] = y \n",
        "print(dict)\n",
        "\n",
        "\n",
        "# Comprehension Method\n",
        "# exam_marks = {'Cierra Vega': 175, 'Alden Cantrell': 200, 'Kierra Gentry': 165, 'Pierre Cox': 190}\n",
        "# a = int(input())\n",
        "# Final = {x : y for x,y in exam_marks.items() if y == a or y>a}\n",
        "# print(Final)"
      ],
      "execution_count": null,
      "outputs": [
        {
          "output_type": "stream",
          "text": [
            "170\n",
            "{'Cierra Vega': 175, 'Alden Cantrell': 200, 'Pierre Cox': 190}\n"
          ],
          "name": "stdout"
        }
      ]
    },
    {
      "cell_type": "markdown",
      "metadata": {
        "id": "IsqFQpqKtDSs"
      },
      "source": [
        "### Task 10\n",
        "Write a Python program that finds the largest value with its key from the following dictionary.\n",
        "\n",
        " <font color='red'>[without using max() function]</font> \n",
        "\n",
        "===============================================================\n",
        "\n",
        "**Hint:** Think of membership operators (in and not in). You can use dictionary functions to get the values.\n",
        "\n",
        "===============================================================\n",
        "\n",
        "**Input:**\\\n",
        " {'sci fi': 12, 'mystery': 15, 'horror': 8, 'mythology': 10, 'young_adult': 4, 'adventure':14}\n",
        "\n",
        "**Output:**\\\n",
        "The highest selling book genre is mystery and the number of books sold are 15\n",
        "\n",
        "===============================================================\n",
        "\n",
        "**Input:**\\\n",
        "{'sci fi': 5, 'mystery': 3, 'horror': 14,\n",
        "             'young_adult': 2, 'adventure':9}\n",
        "\n",
        "**Output:**\\\n",
        "The highest selling book genre is  horror  and the number of books sold are  14\n",
        "\n",
        "\n"
      ]
    },
    {
      "cell_type": "code",
      "metadata": {
        "id": "v9Kosgs4tDSt",
        "outputId": "20fa9118-12f6-4f49-c411-5d9b2a994c83",
        "colab": {
          "base_uri": "https://localhost:8080/"
        }
      },
      "source": [
        "import ast\n",
        "a = ast.literal_eval(input())\n",
        "max = 0\n",
        "for x,y in a.items():\n",
        "    if y > max:\n",
        "        max = y\n",
        "        if y == max:\n",
        "            genre =  x\n",
        "print(f\"The highest selling book genre is {genre} and the number of books sold are {max}\")"
      ],
      "execution_count": null,
      "outputs": [
        {
          "output_type": "stream",
          "text": [
            "{'sci fi': 12, 'mystery': 15, 'horror': 8, 'mythology': 10, 'young_adult': 4, 'adventure':14}\n",
            "The highest selling book genre is mystery and the number of books sold are 15\n"
          ],
          "name": "stdout"
        }
      ]
    },
    {
      "cell_type": "markdown",
      "metadata": {
        "id": "-JZxp-GyoL46"
      },
      "source": [
        ""
      ]
    },
    {
      "cell_type": "markdown",
      "metadata": {
        "id": "qozufw7itDSy"
      },
      "source": [
        "### Task 11\n",
        "Write a Python program that combines two dictionary **adding values for common keys**. \n",
        "\n",
        "===============================================================\n",
        "\n",
        "**Hint:** Think of membership operators (in and not in). You can use dictionary functions to get the values. Need to create a new dictionary to store the combined items.\n",
        "\n",
        "===============================================================\n",
        "\n",
        "**Input:**\\\n",
        "dict1 = {'a': 10, 'b':20, 'c':30}\\\n",
        "dict2 = {'a': 10, 'c':20, 'd':30, 'e':40}\n",
        "\n",
        "**Output:**\\\n",
        "{'a': 20, 'b': 20, 'c': 50, 'd': 30, 'e': 40}\n",
        "\n",
        "\n"
      ]
    },
    {
      "cell_type": "code",
      "metadata": {
        "id": "S0EIYODZtDSz",
        "outputId": "93b8581a-0005-4124-a9dd-e0890beb3ed3",
        "colab": {
          "base_uri": "https://localhost:8080/"
        }
      },
      "source": [
        "dict1 = {'a': 10, 'b':20, 'c':30}\n",
        "dict2 = {'a': 10, 'c':20, 'd':30, 'e':40}\n",
        "for x ,y in dict2.items():\n",
        "    if x in dict1:\n",
        "        dict1[x] += y\n",
        "    else:\n",
        "        dict1[x] = y\n",
        "print(dict1)\n",
        "\n",
        "\n",
        "#using set which is more easy :)\n",
        "# import ast\n",
        "# dict1 = ast.literal_eval(input())\n",
        "# dict2 = ast.literal_eval(input())\n",
        "# final_dictionary = {x: dict1.get(x, 0) + dict2.get(x, 0) for x in set(dict1).union(dict2)} \n",
        "# print(final_dictionary)"
      ],
      "execution_count": null,
      "outputs": [
        {
          "output_type": "stream",
          "text": [
            "{'a': 20, 'b': 20, 'c': 50, 'd': 30, 'e': 40}\n"
          ],
          "name": "stdout"
        }
      ]
    },
    {
      "cell_type": "markdown",
      "metadata": {
        "id": "d0a82nIt9ufj"
      },
      "source": [
        "### Task 12\n",
        "Write a Python program which prints the frequency of the numbers that were given as input by the user. Stop taking input when you find the string \"STOP\".\n",
        "\n",
        "===============================\n",
        "\n",
        "**Hints:** Use a dictionary to solve the problem\n",
        "\n",
        "===============================\n",
        "\n",
        "**Input:**\\\n",
        "10, 20, 20, 30, 10, 50, 90, STOP\n",
        "\n",
        "**Output:**\\\n",
        "10 - 2 times\\\n",
        "20 - 2 times\\\n",
        "30 - 1 times\\\n",
        "50 - 1 times\\\n",
        "90 - 1 times\n"
      ]
    },
    {
      "cell_type": "code",
      "metadata": {
        "id": "snOKGA1d9vFC",
        "outputId": "b44043c2-afbd-4f43-ef5c-10275ccd9606",
        "colab": {
          "base_uri": "https://localhost:8080/"
        }
      },
      "source": [
        "count = 1\n",
        "a = []\n",
        "while count == 1:\n",
        "    b = input(\"\")\n",
        "    if b == \"STOP\":\n",
        "        break\n",
        "    a.append(b)\n",
        "list=[]\n",
        "for x in a:\n",
        "    if x not in list:\n",
        "        list.append(x)\n",
        "        count=0\n",
        "        for y in range(len(a)):\n",
        "            if a[y] == x:\n",
        "                count+=1\n",
        "        print(f\"{x} - {count} times\")\n",
        "\n",
        "# a = input(\"\").split(\", \")[:-1]\n",
        "# list=[]\n",
        "# for x in a:\n",
        "#     if x not in list:\n",
        "#         list.append(x)\n",
        "#         count=0\n",
        "#         for y in range(len(a)):\n",
        "#             if a[y] == x:\n",
        "#                 count+=1\n",
        "#         print(f\"{x} - {count} times\")\n",
        "\n"
      ],
      "execution_count": null,
      "outputs": [
        {
          "output_type": "stream",
          "text": [
            "10\n",
            "20\n",
            "20\n",
            "30\n",
            "10\n",
            "50\n",
            "90\n",
            "STOP\n",
            "10 - 2 times\n",
            "20 - 2 times\n",
            "30 - 1 times\n",
            "50 - 1 times\n",
            "90 - 1 times\n"
          ],
          "name": "stdout"
        }
      ]
    },
    {
      "cell_type": "markdown",
      "metadata": {
        "id": "hAqjgwGNtDS2"
      },
      "source": [
        "### Task 13\n",
        "Write a Python program that takes a string as an input from the user and counts the frequency of each character using the dictionary. For solving this problem, you need to use each character as a key and its frequency as values. <font color='red'>[without using count() function]</font> \n",
        "\n",
        "===============================================================\n",
        "\n",
        "**Hint:** Need to create a new dictionary to store the frequency. Case is ignored (P and p are considered same).\n",
        "\n",
        "\n",
        "===============================================================\n",
        "\n",
        "**Input:**\\\n",
        "\"Python programming is fun\"\n",
        "\n",
        "**Output:**\\\n",
        "{'p': 2, 'y': 1, 't': 1, 'h': 1, 'o': 2, 'n': 3, 'r': 2, 'g': 2, 'a': 1, 'm': 2, 'i': 2, 's': 1, 'f': 1, 'u': 1}\n",
        "\n",
        "\n",
        "\n"
      ]
    },
    {
      "cell_type": "code",
      "metadata": {
        "id": "-m2yPIT7tDS3",
        "outputId": "99ee71c3-1c8c-4502-9711-a19c7336a020",
        "colab": {
          "base_uri": "https://localhost:8080/"
        }
      },
      "source": [
        "a = input(\"\")\n",
        "sting1 = \"\"\n",
        "for x in a:\n",
        "    if x != \" \":\n",
        "        sting1 += x\n",
        "dict = {}\n",
        "for y in sting1.lower():\n",
        "    if y in dict:\n",
        "        dict[y] += 1\n",
        "    else:\n",
        "        dict[y] = 1\n",
        "print(dict) "
      ],
      "execution_count": null,
      "outputs": [
        {
          "output_type": "stream",
          "text": [
            "Python programming is fun\n",
            "{'p': 2, 'y': 1, 't': 1, 'h': 1, 'o': 2, 'n': 3, 'r': 2, 'g': 2, 'a': 1, 'm': 2, 'i': 2, 's': 1, 'f': 1, 'u': 1}\n"
          ],
          "name": "stdout"
        }
      ]
    },
    {
      "cell_type": "markdown",
      "metadata": {
        "id": "QWf1zsBctDS6"
      },
      "source": [
        "### Task 14\n",
        "Suppose you are given the following dictionary where its values are lists. \n",
        "\n",
        "\n",
        "dict = {'A': [1,2,3], 'b': ['1', '2'], \"c\": [4, 5, 6, 7]}\n",
        "\n",
        "Write a Python program that counts the total number of items in the dictionary’s values and prints it. \n",
        "\n",
        "<font color='red'>[without using sum() , len(), count() function]</font> \n",
        "\n",
        "===============================================================\n",
        "\n",
        "**Output:**\\\n",
        "9\n",
        "\n"
      ]
    },
    {
      "cell_type": "code",
      "metadata": {
        "id": "atnD3A1utDS6",
        "outputId": "156fbafe-5917-485d-f81e-1f78303c8918",
        "colab": {
          "base_uri": "https://localhost:8080/"
        }
      },
      "source": [
        "#dict =  {'A': [1,2,3], 'b': ['1', '2'], \"c\": [4, 5, 6, 7]}\n",
        "#ans = sum(map(len, dict.values()))\n",
        "#print(ans)\n",
        "\n",
        "dict = {'A': [1,2,3], 'b': ['1', '2'], \"c\": [4, 5, 6, 7]}\n",
        "count = 0\n",
        "for x in dict:\n",
        "    ff = dict[x]\n",
        "    for y in ff:\n",
        "        count += 1\n",
        "print(count)"
      ],
      "execution_count": null,
      "outputs": [
        {
          "output_type": "stream",
          "text": [
            "9\n"
          ],
          "name": "stdout"
        }
      ]
    },
    {
      "cell_type": "markdown",
      "metadata": {
        "id": "-imuPb3EtDTD"
      },
      "source": [
        "### Task 15\n",
        "\n",
        "Suppose you have been given the following list of tuples. \n",
        "\n",
        "list = [(\"a\", 1), (\"b\", 2), (\"a\", 3), (\"b\", 1), (\"a\", 2), (\"c\", 1)]\n",
        "\n",
        "Write a Python program that converts this list of tuples into a dictionary and prints the dictionary. \n",
        "\n",
        "<font color='red'>[You are not allowed to use set]</font> \n",
        "\n",
        "===============================================================\n",
        "\n",
        "**Hint:** Think of membership operators (in and not in).\n",
        "\n",
        "===============================================================\n",
        "\n",
        "**Output:**\n",
        "\n",
        "{'a': [1, 3, 2], 'b': [2, 1], 'c': [1]}\n",
        "\n",
        " \n"
      ]
    },
    {
      "cell_type": "code",
      "metadata": {
        "id": "bBBcHpgYtDTE",
        "outputId": "469729ff-48d5-43f5-f346-3feb776ad2c2",
        "colab": {
          "base_uri": "https://localhost:8080/"
        }
      },
      "source": [
        "list_1 = [(\"a\", 1), (\"b\", 2), (\"a\", 3), (\"b\", 1), (\"a\", 2), (\"c\", 1)]\n",
        "dict = {}\n",
        "for x in list_1:\n",
        "    if x[0] not in dict:\n",
        "        dict[x[0]] = [x[1]]   #here we are converting it into list\n",
        "    else:\n",
        "        dict[x[0]].append(x[1])  #we can append a list\n",
        "print(dict)\n",
        "\n",
        "\n",
        "\n",
        "# list_1 = [(\"a\", 1), (\"b\", 2), (\"a\", 3), (\"b\", 1), (\"a\", 2), (\"c\", 1)]\n",
        "# dict_1=dict() \n",
        "# for x,y in list_1: \n",
        "# \tdict_1.setdefault(x, []).append(y) \n",
        "# print(dict_1) "
      ],
      "execution_count": null,
      "outputs": [
        {
          "output_type": "stream",
          "text": [
            "{'a': [1, 3, 2], 'b': [2, 1], 'c': [1]}\n"
          ],
          "name": "stdout"
        }
      ]
    },
    {
      "cell_type": "markdown",
      "metadata": {
        "id": "UrxbFOWk5ASO"
      },
      "source": [
        "## Optional Tasks (16-20) [Ungraded]"
      ]
    },
    {
      "cell_type": "markdown",
      "metadata": {
        "id": "vtQRbX994-Se"
      },
      "source": [
        "### Task 16\n",
        "\n",
        "Given a list of tuples, the task is to multiply the elements of the tuple and return list of multiplied elements.\n",
        "\n",
        "===============================\n",
        "\n",
        "**Input 1:**\\\n",
        "[(2,3),(4,5),(6,7),(2,8)]\\\n",
        "**Output 1:**\\\n",
        "[6,20,42,16]\n",
        "\n",
        "=============================\n",
        "\n",
        "**Input 2:**\\\n",
        " [(11, 22), (33, 55), (55, 77), (11, 44)]\\\n",
        "**Output 2:**\\\n",
        "[242, 1815, 4235, 484]"
      ]
    },
    {
      "cell_type": "code",
      "metadata": {
        "id": "xy-E_k6y5maj",
        "outputId": "5dcd181b-c713-45df-ac45-3e5c4c3306d6",
        "colab": {
          "base_uri": "https://localhost:8080/"
        }
      },
      "source": [
        "a = [(11, 22), (33, 55), (55, 77), (11, 44)]\n",
        "list = []\n",
        "for x in a:\n",
        "    b = (x[0] * x[1])\n",
        "    list.append(b)\n",
        "print(list)"
      ],
      "execution_count": null,
      "outputs": [
        {
          "output_type": "stream",
          "text": [
            "[242, 1815, 4235, 484]\n"
          ],
          "name": "stdout"
        }
      ]
    },
    {
      "cell_type": "markdown",
      "metadata": {
        "id": "jZQHbegc-QBA"
      },
      "source": [
        "### Task 17\n",
        "\n",
        "Assume, you have been given a tuple.\n",
        "\n",
        "a_tuple = ( [1, 2, 3], [4, 5, 6], [7, 8, 9], [10, 11, 12])\n",
        "\n",
        "Write a Python program that asks the user for input (can be any data type) and **replaces the last element of each of the inner lists with the user given value.**\n",
        "\n",
        "===============================================================\n",
        "\n",
        "**Example 1:**\\\n",
        "Input: abc\\\n",
        "Output: ([1, 2, 'abc'], [4, 5, 'abc'], [7, 8, 'abc'], [10, 11, 'abc'])\n",
        "\n",
        "===============================================================\n",
        "\n",
        "**Example 2:**\\\n",
        "Input: 1000\\\n",
        "Output: ([1, 2, '1000'], [4, 5, '1000'], [7, 8, '1000'], [10, 11, '1000'])\n",
        "\n"
      ]
    },
    {
      "cell_type": "code",
      "metadata": {
        "id": "SjdnEjCz5op1",
        "outputId": "958640a5-9c52-4a13-872b-f4924e260947",
        "colab": {
          "base_uri": "https://localhost:8080/"
        }
      },
      "source": [
        "a_tuple = ( [1, 2, 3], [4, 5, 6], [7, 8, 9], [10, 11, 12])\n",
        "a = input(\"\")\n",
        "list = ()\n",
        "for x in a_tuple:\n",
        "    x.pop()\n",
        "    xx = x.append(a)\n",
        "print(a_tuple)"
      ],
      "execution_count": null,
      "outputs": [
        {
          "output_type": "stream",
          "text": [
            "abc\n",
            "([1, 2, 'abc'], [4, 5, 'abc'], [7, 8, 'abc'], [10, 11, 'abc'])\n"
          ],
          "name": "stdout"
        }
      ]
    },
    {
      "cell_type": "markdown",
      "metadata": {
        "id": "dVZrZ8Od6WwM"
      },
      "source": [
        "### Task 18\n",
        "\n",
        "Suppose there is a dictionary named my_dictionary.\n",
        "\n",
        "my_dictionary = {'c1': 'Red', 'c2': 'Green', 'c3': None, 'd4': 'Blue'}.\n",
        "\n",
        "Now write a Python program to remove empty items in the dictionary. Empty items means keys without any values(None).\n",
        "\n",
        "===============================================================\n",
        "\n",
        "**Output:**\\\n",
        "{'c1':'Red','c2':'Green','d4':'Blue'}."
      ]
    },
    {
      "cell_type": "code",
      "metadata": {
        "id": "cK9Nh7-F6YUE",
        "outputId": "05151dab-da6e-49c2-ed7a-3a4618528056",
        "colab": {
          "base_uri": "https://localhost:8080/"
        }
      },
      "source": [
        "my_dictionary = {'c1': 'Red', 'c2': 'Green', 'c3': None, 'd4': 'Blue'}\n",
        "dict = {}\n",
        "for x,y in my_dictionary.items():\n",
        "    if y is not None:\n",
        "        dict[x] = y\n",
        "print(dict)\n",
        "\n",
        "\n",
        "# Easy in one line using list comprehension Method\n",
        "#my_dictionary = {'c1': 'Red', 'c2': 'Green', 'c3': None, 'd4': 'Blue'}\n",
        "#print({k:v for k, v in my_dictionary.items() if v is not None})"
      ],
      "execution_count": null,
      "outputs": [
        {
          "output_type": "stream",
          "text": [
            "{'c1': 'Red', 'c2': 'Green', 'd4': 'Blue'}\n"
          ],
          "name": "stdout"
        }
      ]
    },
    {
      "cell_type": "markdown",
      "metadata": {
        "id": "_W2bOMJn62xF"
      },
      "source": [
        "### Task 19\n",
        "\n",
        "Given a range of values, extract all the items whose keys lie in range of values of a given dictionary:\n",
        "\n",
        "dictionary = {'a' : 6, 'b' : 7, 'c' : 9, 'd' : 8, 'e' : 11}\n",
        "\n",
        "===============================\n",
        "\n",
        "\n",
        "**Input 1:**\\\n",
        "9, 12\\\n",
        "**Output 1:**\\\n",
        "{'c': 9, 'e': 11}\n",
        "\n",
        "**Explanation**  Keys within 9 and 11 range extracted.\n",
        "\n",
        "=================================\n",
        "\n",
        "**Input 2:** \\\n",
        " 14, 18\n",
        "\n",
        "**Output 2 :**\\\n",
        " {}\n",
        "\n",
        "**Explanation :**  No values in range."
      ]
    },
    {
      "cell_type": "code",
      "metadata": {
        "id": "MLh9VlLD633D",
        "outputId": "3ee260e9-c40d-4a66-b8b5-24b10189d804",
        "colab": {
          "base_uri": "https://localhost:8080/"
        }
      },
      "source": [
        "dictionary = {'a' : 6, 'b' : 7, 'c' : 9, 'd' : 8, 'e' : 11}\n",
        "a = int(input())\n",
        "b = int(input())\n",
        "dict = {}\n",
        "for x , y in dictionary.items():\n",
        "    if(y>=a and y<=b):\n",
        "        dict[x] = y \n",
        "print(dict)"
      ],
      "execution_count": null,
      "outputs": [
        {
          "output_type": "stream",
          "text": [
            "9\n",
            "12\n",
            "{'c': 9, 'e': 11}\n"
          ],
          "name": "stdout"
        }
      ]
    },
    {
      "cell_type": "markdown",
      "metadata": {
        "id": "zC94TVcD7LqM"
      },
      "source": [
        "### Task 20\n",
        "\n",
        "Given a list of tuples, the task is to group the tuples by matching the **second** element in the tuples. We can achieve this using **dictionary** by checking the second element in each tuple.\n",
        "\n",
        "===============================\n",
        "\n",
        "**Input 1:**\\\n",
        "[(20, 80), (31, 80), (1, 22), (88, 11), (27, 11)]\\\n",
        "**Output1:**\\\n",
        "{80: [(20, 80), (31, 80)],\\\n",
        "         11: [(88, 11), (27, 11)],\\\n",
        "         22: [(1, 22)]}\n",
        "\n",
        "         \n",
        "============================================\n",
        "\n",
        "**Input 2 :**\\\n",
        "[(20, 'Sad'), (31, 'Sad'), (88, 'NotSad'), (27, 'NotSad')]\\\n",
        "**Output 2:**\\\n",
        "{'NotSad': [(88, 'NotSad'), (27, 'NotSad')],\\\n",
        "         'Sad: [(20, 'Sad'), (31, 'Sad')]}"
      ]
    },
    {
      "cell_type": "code",
      "metadata": {
        "id": "zAunp7oZ7H-l",
        "outputId": "1e584592-ff5f-435c-fc35-aa8f5a641355",
        "colab": {
          "base_uri": "https://localhost:8080/"
        }
      },
      "source": [
        "a = [(20, 80), (31, 80), (1, 22), (88, 11), (27, 11)] \n",
        "b = {} \n",
        "for x, y in a: \n",
        "\tif y in b: \n",
        "\t\tb[y].append((x, y)) \n",
        "\telse: \n",
        "\t\tb[y] = [(x, y)] \n",
        "print(b) "
      ],
      "execution_count": null,
      "outputs": [
        {
          "output_type": "stream",
          "text": [
            "{80: [(20, 80), (31, 80)], 22: [(1, 22)], 11: [(88, 11), (27, 11)]}\n"
          ],
          "name": "stdout"
        }
      ]
    }
  ]
}
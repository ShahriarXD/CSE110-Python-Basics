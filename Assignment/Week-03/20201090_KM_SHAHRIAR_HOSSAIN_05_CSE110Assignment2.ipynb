{
  "nbformat": 4,
  "nbformat_minor": 0,
  "metadata": {
    "kernelspec": {
      "display_name": "Python 3",
      "language": "python",
      "name": "python3"
    },
    "language_info": {
      "codemirror_mode": {
        "name": "ipython",
        "version": 3
      },
      "file_extension": ".py",
      "mimetype": "text/x-python",
      "name": "python",
      "nbconvert_exporter": "python",
      "pygments_lexer": "ipython3",
      "version": "3.7.6"
    },
    "colab": {
      "name": "20201090_KM_SHAHRIAR_HOSSAIN_05_CSE110Assignment2.ipynb",
      "provenance": [],
      "collapsed_sections": []
    }
  },
  "cells": [
    {
      "cell_type": "markdown",
      "metadata": {
        "id": "4wbfWEkOSK4T"
      },
      "source": [
        "# CSE110 Assignment 2 \n",
        "\n",
        "This assignment is to guide you to solve basic programming problems using loop in Python. \n",
        "\n",
        "**<font color='red'>[MUST MAINTAIN VARIABLE NAMING CONVENTIONS FOR ALL THE TASKS]</font>**\n",
        "\n",
        "## Write the Python code of the following problems:"
      ]
    },
    {
      "cell_type": "markdown",
      "metadata": {
        "id": "w269kMywSK4V"
      },
      "source": [
        "### Task 1\n",
        "\n",
        "Write python program, which prints the following sequences of values in loops:\n",
        "\n",
        "a)\t24, 18, 12, 6, 0, -6\\\n",
        "b)\t-10, -5, 0, 5, 10, 15, 20\\\n",
        "c)\t18, 27, 36, 45, 54, 63\\\n",
        "d)\t18,-27, 36,-45,54,-63\n",
        "\n",
        "=====================================================================\n",
        "\n",
        "**Hints(1):** Use a while loop for solving these problems.\n",
        "\n",
        "**Hints(2):** We are already familiar with the print() function. But when we use it to print any value it automatically adds an additional newline after each print statement.\n",
        "\n",
        "For example:\\\n",
        "print(1)\\\n",
        "print(2)\n",
        "\n",
        "Output:\\\n",
        "1\\\n",
        "2\n",
        "\n",
        "=====================================================================\n",
        "\n",
        "To solve this problem, in Python3, we need to add an extra argument (end = \" \") in the print function which tells the program to skip printing the additional newline.\n",
        "\n",
        "For example:\\\n",
        "print(1, end =\" \")\\\n",
        "print(2)\n",
        "\n",
        "Output:(prints the next output right to the previous one)\\\n",
        "12\n",
        "\n",
        "=====================================================================\n",
        "\n",
        "In Task-1(a), the loop counter should be initialized at 24 and the loop should terminate when the loop counter reaches -6. The difference between the first two values is 24-18=6. So the loop counter value is getting decremented by 6 in every iteration.\n",
        "\n",
        "For your understanding task 1(a) code is done for you.\n"
      ]
    },
    {
      "cell_type": "code",
      "metadata": {
        "id": "H9nuTYCuSK4X",
        "outputId": "e1a08b2f-ccc1-4896-b1ec-5904ba1945d5"
      },
      "source": [
        "# a) 24, 18, 12, 6, 0, -6\n",
        "\n",
        "# initialize loop counter\n",
        "counter = 24\n",
        "\n",
        "# loop structure\n",
        "while counter >= -6:\n",
        "    \n",
        "    #inside loop body\n",
        "    if counter == -6:\n",
        "        print(counter, end = \"\") \n",
        "    else:\n",
        "        print(counter, end = \", \") \n",
        "     \n",
        "    counter = counter - 6 #updating loop counter\n",
        "    #inside loop body\n",
        "    \n",
        "#outside loop body"
      ],
      "execution_count": null,
      "outputs": [
        {
          "output_type": "stream",
          "text": [
            "24, 18, 12, 6, 0, -6"
          ],
          "name": "stdout"
        }
      ]
    },
    {
      "cell_type": "code",
      "metadata": {
        "id": "YWLB_TuLSK4h",
        "outputId": "4d8b97c3-730b-4842-d14a-c0e830702831",
        "colab": {
          "base_uri": "https://localhost:8080/",
          "height": 34
        }
      },
      "source": [
        "# b)-10, -5, 0, 5, 10, 15, 20\n",
        "#This code is licensed to Brac University\n",
        "#Email: km.shahriar.hossain@g.bracu.ac.bd\n",
        "#Author: KM SHAHRIAR HOSSAIN\n",
        "#Student Id :20201090\n",
        "\n",
        "Valorant = -10\n",
        "while Valorant <= 20:\n",
        "    if Valorant == 20:\n",
        "        print (Valorant , end=\"\")\n",
        "    else:    \n",
        "        print(Valorant , end =\", \")\n",
        "    Valorant += 5"
      ],
      "execution_count": null,
      "outputs": [
        {
          "output_type": "stream",
          "text": [
            "-10, -5, 0, 5, 10, 15, 20"
          ],
          "name": "stdout"
        }
      ]
    },
    {
      "cell_type": "code",
      "metadata": {
        "id": "b5blHg8zSK4n",
        "outputId": "8ef30445-730f-40e9-d35d-38716d0cfc69",
        "colab": {
          "base_uri": "https://localhost:8080/",
          "height": 34
        }
      },
      "source": [
        "# c)18, 27, 36, 45, 54, 63\n",
        "#This code is licensed to Brac University\n",
        "#Email: km.shahriar.hossain@g.bracu.ac.bd\n",
        "#Author: KM SHAHRIAR HOSSAIN\n",
        "#Student Id :20201090\n",
        "\n",
        "Valorant = 18\n",
        "while Valorant <= 63:\n",
        "    if Valorant == 63:\n",
        "        print (Valorant , end=\"\")\n",
        "    else:    \n",
        "        print(Valorant , end =\", \")\n",
        "    Valorant += 9"
      ],
      "execution_count": null,
      "outputs": [
        {
          "output_type": "stream",
          "text": [
            "18, 27, 36, 45, 54, 63"
          ],
          "name": "stdout"
        }
      ]
    },
    {
      "cell_type": "markdown",
      "metadata": {
        "id": "VlRJZhqVSK4v"
      },
      "source": [
        "**Hints for 1(d):** \n",
        "\n",
        "print(5 * (-1)) gives output -5\\\n",
        "print(\"-\" + str(5)) gives output -5"
      ]
    },
    {
      "cell_type": "code",
      "metadata": {
        "id": "lA6BDPaaSK4v",
        "outputId": "1bb58f27-b513-4250-dd24-9c890b6d0c4e",
        "colab": {
          "base_uri": "https://localhost:8080/",
          "height": 34
        }
      },
      "source": [
        "# d)18,-27, 36,-45,54,-63\n",
        "#This code is licensed to Brac University\n",
        "#Email: km.shahriar.hossain@g.bracu.ac.bd\n",
        "#Author: KM SHAHRIAR HOSSAIN\n",
        "#Student Id :202010\n",
        "\n",
        "\n",
        "Valorant = 18\n",
        "while Valorant <= 63:\n",
        "    if Valorant == 18:\n",
        "    \tprint (Valorant , end=\",-\")\n",
        "    elif Valorant == 27:\n",
        "        print (Valorant , end=\", \")\n",
        "    elif Valorant == 36:\n",
        "        print (Valorant , end=\",-\")   \n",
        "    elif Valorant == 45:\n",
        "        print (Valorant , end=\",\")\n",
        "    elif Valorant == 54:\n",
        "        print (Valorant , end=\",-\")  \n",
        "    elif Valorant == 63:\n",
        "        print (Valorant , end=\"\")\n",
        "    Valorant += 9"
      ],
      "execution_count": null,
      "outputs": [
        {
          "output_type": "stream",
          "text": [
            "18,-27, 36,-45,54,-63"
          ],
          "name": "stdout"
        }
      ]
    },
    {
      "cell_type": "markdown",
      "metadata": {
        "id": "fB7DLiLjSK41"
      },
      "source": [
        "====================================================================\\\n",
        "<font color='blue'>\n",
        "All the tasks can be solved using both the \"while loop\" and the \"for loop\". But you need to choose the best looping construct which is the most suitable for solving a particular task.\n",
        "</font>\n",
        "\n",
        "===================================================================="
      ]
    },
    {
      "cell_type": "markdown",
      "metadata": {
        "id": "RGkTLNE8SK43"
      },
      "source": [
        "### Task 2\n",
        "Write a Python code for the following:\n",
        "\n",
        "1)\tAsk the user to enter the name of his favorite car.\\\n",
        "2)\tAsk the user to enter a Number\n",
        "\n",
        "Display the name of the user’s favorite car, the number of times specified in the second step.\n",
        "\n",
        "==========================================================\n",
        "\n",
        "**Example 01:** If the user enters “Toyota” and 20, your program should print the name “Toyota” twenty times.\n",
        "\n",
        "**Input:**\\\n",
        "Toyota\\\n",
        "2\n",
        "\n",
        "**Output:**\\\n",
        "Toyota\\\n",
        "Toyota\n",
        "\n",
        "==========================================================\n",
        "\n",
        "**Example02:** If the user enters “Veyron” and 5, your program should print the name “Veyron” five times.\n",
        "\n",
        "**Input:**\\\n",
        "Veyron\\\n",
        "5\n",
        "\n",
        "**Output:**\\\n",
        "Veyron\\\n",
        "Veyron\\\n",
        "Veyron\\\n",
        "Veyron\\\n",
        "Veyron\n"
      ]
    },
    {
      "cell_type": "code",
      "metadata": {
        "id": "u5yX33mvSK45",
        "outputId": "6f42a9b1-00a2-4d19-cbda-3235a31a706e",
        "colab": {
          "base_uri": "https://localhost:8080/",
          "height": 170
        }
      },
      "source": [
        "#This code is licensed to Brac University\n",
        "#Email: km.shahriar.hossain@g.bracu.ac.bd\n",
        "#Author: KM SHAHRIAR HOSSAIN\n",
        "#Student Id :20201090\n",
        "\n",
        "name = input(\"Enter the name of your favorite car: \\n\")\n",
        "num = int(input(\"enter a Number: \\n\"))\n",
        "\n",
        "for x in range(1, num+1):\n",
        "    print(name)"
      ],
      "execution_count": null,
      "outputs": [
        {
          "output_type": "stream",
          "text": [
            "Enter the name of your favorite car: \n",
            "Veyron\n",
            "enter a Number: \n",
            "5\n",
            "Veyron\n",
            "Veyron\n",
            "Veyron\n",
            "Veyron\n",
            "Veyron\n"
          ],
          "name": "stdout"
        }
      ]
    },
    {
      "cell_type": "markdown",
      "metadata": {
        "id": "xT0l0U35SK5A"
      },
      "source": [
        "### Task 3\n",
        "Write a Python code of a program that adds all numbers that are multiples of **both 7 and 9** up to 600 (including 600).\n",
        "\n",
        "Output: 2835\n"
      ]
    },
    {
      "cell_type": "code",
      "metadata": {
        "id": "Q6dix8WhSK5B",
        "outputId": "60adc8b7-4680-47da-889b-ca6876b162ee",
        "colab": {
          "base_uri": "https://localhost:8080/",
          "height": 34
        }
      },
      "source": [
        "#This code is licensed to Brac University\n",
        "#Email: km.shahriar.hossain@g.bracu.ac.bd\n",
        "#Author: KM SHAHRIAR HOSSAIN\n",
        "#Student Id :20201090\n",
        "\n",
        "Rise_of_the_Tomb_Raider = 0\n",
        "for x in range(1, 600+1):\n",
        "    if x % 7 ==0 and x%9 ==0:\n",
        "        Rise_of_the_Tomb_Raider = Rise_of_the_Tomb_Raider + x\n",
        "print(Rise_of_the_Tomb_Raider)"
      ],
      "execution_count": null,
      "outputs": [
        {
          "output_type": "stream",
          "text": [
            "2835\n"
          ],
          "name": "stdout"
        }
      ]
    },
    {
      "cell_type": "markdown",
      "metadata": {
        "id": "8swUoCy9SK5F"
      },
      "source": [
        "### Task 4\n",
        "Write a Python code of a program that adds all numbers that are multiples of **either 7 or 9** up to 600(including 600). \\\n",
        "Ensure that numbers like 63 are added only once in the sum.\n",
        "\n",
        "Output: 42649\n"
      ]
    },
    {
      "cell_type": "code",
      "metadata": {
        "id": "pbIA-waFSK5G",
        "outputId": "58e65a05-e328-4f91-cc45-7140169d61e2",
        "colab": {
          "base_uri": "https://localhost:8080/",
          "height": 34
        }
      },
      "source": [
        "#This code is licensed to Brac University\n",
        "#Email: km.shahriar.hossain@g.bracu.ac.bd\n",
        "#Author: KM SHAHRIAR HOSSAIN\n",
        "#Student Id :20201090\n",
        "\n",
        "Rise_of_the_Tomb_Raider = 0\n",
        "for x in range(1, 600+1):\n",
        "    if x % 7 ==0 or x%9 ==0:\n",
        "        Rise_of_the_Tomb_Raider = Rise_of_the_Tomb_Raider + x\n",
        "print(Rise_of_the_Tomb_Raider)"
      ],
      "execution_count": null,
      "outputs": [
        {
          "output_type": "stream",
          "text": [
            "42649\n"
          ],
          "name": "stdout"
        }
      ]
    },
    {
      "cell_type": "markdown",
      "metadata": {
        "id": "H3hLyguASK5L"
      },
      "source": [
        "### Task 5\n",
        "Write a Python code of a program that adds all numbers that are multiples of **either 7 or 9 but not both**, up to 600(including 600).\n",
        "\n",
        "Output: 39814\n"
      ]
    },
    {
      "cell_type": "code",
      "metadata": {
        "id": "LiAvUr1QSK5M",
        "outputId": "95a32ae6-cdef-45de-f968-6ce8bd7f066b",
        "colab": {
          "base_uri": "https://localhost:8080/",
          "height": 34
        }
      },
      "source": [
        "#This code is licensed to Brac University\n",
        "#Email: km.shahriar.hossain@g.bracu.ac.bd\n",
        "#Author: KM SHAHRIAR HOSSAIN\n",
        "#Student Id :20201090\n",
        "\n",
        "\n",
        "MSI = 0\n",
        "for x in range(0, 600+1):\n",
        "    if x % 7 ==0 or x%9 ==0:\n",
        "        if not (x % 7 ==0 and x%9 ==0):\n",
        "            MSI = MSI + x\n",
        "print(MSI)"
      ],
      "execution_count": null,
      "outputs": [
        {
          "output_type": "stream",
          "text": [
            "39814\n"
          ],
          "name": "stdout"
        }
      ]
    },
    {
      "cell_type": "markdown",
      "metadata": {
        "id": "8SmvPvfaSK5P"
      },
      "source": [
        "### Task 6\n",
        "Write a Python code to displays all the **odd numbers** between 10 and 50.\n",
        "\n",
        "Output: 11 13 15 17 19 21 23 25 27 29 31 33 35 37 39 41 43 45 47 49\n"
      ]
    },
    {
      "cell_type": "code",
      "metadata": {
        "id": "PJmT9fvuSK5Q",
        "outputId": "55cc1381-72b1-4ecc-be2a-48a75f2a66e8",
        "colab": {
          "base_uri": "https://localhost:8080/",
          "height": 34
        }
      },
      "source": [
        "#This code is licensed to Brac University\n",
        "#Email: km.shahriar.hossain@g.bracu.ac.bd\n",
        "#Author: KM SHAHRIAR HOSSAIN\n",
        "#Student Id :20201090\n",
        "\n",
        "\n",
        "for x in range (10 , 51 ,1):\n",
        "    if x % 2 != 0:\n",
        "        print (x , end= \" \")\n",
        "\n",
        "#ALTERNATE METHOD        \n",
        "#for x in range(11, 50 , 2):\n",
        "#    print(x , end=\" \")"
      ],
      "execution_count": null,
      "outputs": [
        {
          "output_type": "stream",
          "text": [
            "11 13 15 17 19 21 23 25 27 29 31 33 35 37 39 41 43 45 47 49 "
          ],
          "name": "stdout"
        }
      ]
    },
    {
      "cell_type": "markdown",
      "metadata": {
        "id": "Nw4dX_MeSK5V"
      },
      "source": [
        "### Task 7\n",
        "Write a Python code that will calculate the **value of y if the expression** of y is as follows (n is the input):  \n",
        "\n",
        "$y = 1^2 - 2^2 +3^2 -4^2 +5^2 .........+ n^2 $\n",
        "\n",
        "\n",
        "==========================================================\n",
        "\n",
        "**Example01:** \n",
        "\n",
        "**Input:**\\\n",
        "10\n",
        "\n",
        "**Output:**\\\n",
        "-55\n",
        "\n",
        "==========================================================\n",
        "\n",
        "**Example02:** \n",
        "\n",
        "**Input:**\\\n",
        "20\n",
        "\n",
        "**Output:**\\\n",
        "-210\n",
        "\n"
      ]
    },
    {
      "cell_type": "code",
      "metadata": {
        "id": "BbJe-7AuSK5V",
        "outputId": "96c75fc3-3607-4d62-d496-741325c1ad24",
        "colab": {
          "base_uri": "https://localhost:8080/",
          "height": 51
        }
      },
      "source": [
        "#This code is licensed to Brac University\n",
        "#Email: km.shahriar.hossain@g.bracu.ac.bd\n",
        "#Author: KM SHAHRIAR HOSSAIN\n",
        "#Student Id :20201090\n",
        "\n",
        "number = int(input())\n",
        "sumation1 = 0\n",
        "for x in range (number+1):\n",
        "    if x % 2 == 0:\n",
        "        sumation1 = sumation1 - x*x\n",
        "\n",
        "sumation2 = 0\n",
        "for x in range (number+1):\n",
        "    if x % 2 != 0:\n",
        "        sumation2 = sumation2 + x*x\n",
        "\n",
        "\n",
        "final_answer = sumation1 + sumation2\n",
        "print (final_answer)"
      ],
      "execution_count": null,
      "outputs": [
        {
          "output_type": "stream",
          "text": [
            "20\n",
            "-210\n"
          ],
          "name": "stdout"
        }
      ]
    },
    {
      "cell_type": "markdown",
      "metadata": {
        "id": "SgvBqJ9PSK5l"
      },
      "source": [
        "### Task 8\n",
        "Write a Python code of a program that asks the user to enter ten numbers then display the total and the average of **ONLY** the **odd numbers** among those ten numbers.\n",
        "\n",
        "==========================================================\n",
        "\n",
        "**Example01:** \n",
        "\n",
        "**Input:**\\\n",
        "1\n",
        "\n",
        "2\n",
        "\n",
        "3\n",
        "\n",
        "4\n",
        "\n",
        "5\n",
        "\n",
        "6\n",
        "\n",
        "7\n",
        "\n",
        "8\n",
        "\n",
        "9\n",
        "\n",
        "10\n",
        "\n",
        "**Output:**\n",
        "Total is 25 and Average is 5.0\n",
        "\n",
        "\n",
        "**Explanation:**\n",
        "\n",
        "Total is 25 = (1+3+5+7+9) and Average is 25/5 = 5.0\n",
        "\n",
        "==========================================================\n",
        "\n",
        "\n",
        "**Example02:** \n",
        "\n",
        "**Input:**\\\n",
        "-20\n",
        "\n",
        "3\n",
        "\n",
        "-5\n",
        "\n",
        "40\n",
        "\n",
        "-17\n",
        "\n",
        "9\n",
        "\n",
        "20\n",
        "\n",
        "-8\n",
        "\n",
        "99\n",
        "  \n",
        "-200\n",
        "\n",
        "**Output:**\n",
        "\n",
        "Total is 89 and Average is 17.8\n",
        "\n",
        "\n",
        "**Explanation:**\n",
        "\n",
        "Total is 89 =(3+(-5)+(-17)+9+99) and Average is 89/5 = 17.8\n",
        "\n"
      ]
    },
    {
      "cell_type": "code",
      "metadata": {
        "id": "c0akirXXSK5m",
        "outputId": "97d7cea2-2ef1-4c55-92d5-a3b988e314f9",
        "colab": {
          "base_uri": "https://localhost:8080/",
          "height": 204
        }
      },
      "source": [
        "#This code is licensed to Brac University\n",
        "#Email: km.shahriar.hossain@g.bracu.ac.bd\n",
        "#Author: KM SHAHRIAR HOSSAIN\n",
        "#Student Id :20201090\n",
        "\n",
        "sum = 0\n",
        "count=0\n",
        "for x  in range(10):\n",
        "    a = int(input())\n",
        "    if a % 2 != 0:\n",
        "        sum = sum + a\n",
        "        count +=1\n",
        "avg = sum /count       \n",
        "print(f\"Total is {sum} and Average is {avg}\")"
      ],
      "execution_count": null,
      "outputs": [
        {
          "output_type": "stream",
          "text": [
            "-20\n",
            "3\n",
            "-5\n",
            "40\n",
            "-17\n",
            "9\n",
            "20\n",
            "-8\n",
            "99\n",
            "-200\n",
            "Total is 89 and Average is 17.8\n"
          ],
          "name": "stdout"
        }
      ]
    },
    {
      "cell_type": "markdown",
      "metadata": {
        "id": "cGdMk_vuSK5s"
      },
      "source": [
        "### Task 9\n",
        "Write a Python code for the following:\n",
        "* Ask the user to enter a Number, N\n",
        "* Display the summation of multiples of 7 up to that number (**from 1 to N inclusive**)\n",
        "\n",
        "==========================================================\n",
        "\n",
        "**Example01:** \n",
        "\n",
        "**Input:**\\\n",
        "50\n",
        "\n",
        "**Output:**\\\n",
        "196\n",
        "\n",
        "**Explanation:**\\\n",
        "7 + 14 + 21 + 28 + 35 + 42 + 49 = 196\n",
        "\n",
        "==========================================================\n",
        "\n",
        "**Example02:** \n",
        "\n",
        "**Input:**\\\n",
        "75\n",
        "\n",
        "**Output:**\\\n",
        "385\n",
        "\n",
        "**Explanation:**\\\n",
        "7 + 14 + 21 + 28 + 35 + 42 + 49 + 56 + 63 + 70 = 385\n",
        "\n",
        "\n",
        "\n"
      ]
    },
    {
      "cell_type": "code",
      "metadata": {
        "id": "zLsrA8dSSK5t",
        "outputId": "9529c998-de35-4bec-aa87-32671a862b56",
        "colab": {
          "base_uri": "https://localhost:8080/",
          "height": 68
        }
      },
      "source": [
        "#This code is licensed to Brac University\n",
        "#Email: km.shahriar.hossain@g.bracu.ac.bd\n",
        "#Author: KM SHAHRIAR HOSSAIN\n",
        "#Student Id :20201090\n",
        "n = int(input(\"Enter the number: \\n\"))\n",
        "sum = 0\n",
        "for x in range(1 ,n):\n",
        "    if 7*x > n:\n",
        "        break\n",
        "    sum = sum + 7*x\n",
        "print(sum)   "
      ],
      "execution_count": null,
      "outputs": [
        {
          "output_type": "stream",
          "text": [
            "Enter the number: \n",
            "75\n",
            "385\n"
          ],
          "name": "stdout"
        }
      ]
    },
    {
      "cell_type": "markdown",
      "metadata": {
        "id": "OZ9pVIvhSK5w"
      },
      "source": [
        "### Task 10\n",
        "Write a Python code that will read 10 numbers from the user, and then print the first number, the sum of the first 2 numbers, the sum of the first 3 numbers, and so on up to the sum of 10 numbers.\n",
        "\n",
        "==========================================================\n",
        "\n",
        "\n",
        "For example,\n",
        "\n",
        "The user enters 10, output 10, then \\\n",
        "The user enters 2, (10+2) = 12, output 12, then \\\n",
        "The user enters 4, (10+2+4) = 16, output 16, then \\\n",
        "The user enters 20, (10+2+4+20) = 36, output 36, and continuous till the 10$^{th}$ input\n"
      ]
    },
    {
      "cell_type": "code",
      "metadata": {
        "id": "FCwYrfGGSK5w",
        "outputId": "34314d75-cdd5-40e8-c7cc-14c0023bf4a9",
        "colab": {
          "base_uri": "https://localhost:8080/",
          "height": 357
        }
      },
      "source": [
        "#This code is licensed to Brac University\n",
        "#Email: km.shahriar.hossain@g.bracu.ac.bd\n",
        "#Author: KM SHAHRIAR HOSSAIN\n",
        "#Student Id :20201090\n",
        "GTA5 = 0\n",
        "for i in range(1 ,11):\n",
        "    usr_input = int(input())\n",
        "    GTA5 = GTA5 + usr_input\n",
        "    print(f\"OUTPUT {GTA5}\")"
      ],
      "execution_count": null,
      "outputs": [
        {
          "output_type": "stream",
          "text": [
            "5\n",
            "OUTPUT 5\n",
            "6\n",
            "OUTPUT 11\n",
            "10\n",
            "OUTPUT 21\n",
            "9\n",
            "OUTPUT 30\n",
            "-20\n",
            "OUTPUT 10\n",
            "10\n",
            "OUTPUT 20\n",
            "55\n",
            "OUTPUT 75\n",
            "56\n",
            "OUTPUT 131\n",
            "-31\n",
            "OUTPUT 100\n",
            "+100\n",
            "OUTPUT 200\n"
          ],
          "name": "stdout"
        }
      ]
    },
    {
      "cell_type": "markdown",
      "metadata": {
        "id": "dUsVuzILSK50"
      },
      "source": [
        "### Task 11\n",
        "Write a Python program which takes a number and prints the digits from the unit place, then the tenth, then hundredth, etc. <font color='red'>(Right to Left)</font>\n",
        "\n",
        "<font color='red'>[Consider the input number to be an INTEGER]</font>\n",
        "\n",
        "**Example:** If the user gives 32768, then print 8, 6, 7, 2, 3 \n",
        "\n",
        "=========================================================================\n",
        "\n",
        "**Hint:**  The input() function, converts the input data to String data type by default. Use this knowledge to solve this problem.\n",
        "\n"
      ]
    },
    {
      "cell_type": "code",
      "metadata": {
        "id": "6uX3wr_gSK51",
        "outputId": "b5cc65d0-7b4b-4438-8e8f-3fc6d4b415c6",
        "colab": {
          "base_uri": "https://localhost:8080/",
          "height": 51
        }
      },
      "source": [
        "#This code is licensed to Brac University\n",
        "#Email: km.shahriar.hossain@g.bracu.ac.bd\n",
        "#Author: KM SHAHRIAR HOSSAIN\n",
        "#Student Id :20201090\n",
        "n = input()[::-1]\n",
        "a = len(n)\n",
        "for x in range(0 , a-1):\n",
        "    print(n[x], end=\", \")\n",
        "else:\n",
        "    print(n[x+1])   "
      ],
      "execution_count": null,
      "outputs": [
        {
          "output_type": "stream",
          "text": [
            "32768\n",
            "8, 6, 7, 2, 3\n"
          ],
          "name": "stdout"
        }
      ]
    },
    {
      "cell_type": "markdown",
      "metadata": {
        "id": "xWxrM53vvfUV"
      },
      "source": [
        "\n",
        "### Task 12\n",
        "Write a Python program that takes a number from the user and prints its digits from left to right. <font color='red'> (left to right) </font>\n",
        "\n",
        "<font color='red'>[The input number has to be an INTEGER]</font>\n",
        "\n",
        "=========================================================================\n",
        "\n",
        "**Example:** if the user gives 32768, then print 3, 2, 7, 6, 8 \n",
        "\n",
        "=========================================================================\n",
        "\n",
        "**Hint:**  The input() function, converts the input data to String data type by default. Use this knowledge to solve this problem.\n"
      ]
    },
    {
      "cell_type": "code",
      "metadata": {
        "id": "2Ntfdr2tv230",
        "outputId": "836a6359-dc73-47e3-bcd8-3cf4f819d42c",
        "colab": {
          "base_uri": "https://localhost:8080/",
          "height": 51
        }
      },
      "source": [
        "#This code is licensed to Brac University\n",
        "#Email: km.shahriar.hossain@g.bracu.ac.bd\n",
        "#Author: KM SHAHRIAR HOSSAIN\n",
        "#Student Id :20201090\n",
        "n = input()\n",
        "a = len(n)\n",
        "for x in range(0 , a-1):\n",
        "    print(n[x], end=\", \")\n",
        "else:\n",
        "    print(n[x+1]) "
      ],
      "execution_count": null,
      "outputs": [
        {
          "output_type": "stream",
          "text": [
            "32768\n",
            "3, 2, 7, 6, 8\n"
          ],
          "name": "stdout"
        }
      ]
    },
    {
      "cell_type": "markdown",
      "metadata": {
        "id": "VIeR6DT9SK53"
      },
      "source": [
        "### Task 13\n",
        "\n",
        "Write a Python program that takes a number and tells how many digits are in that number. \\\n",
        "<font color='red'>[Consider the input number has to be an INTEGER] </font>\n",
        "\n",
        "<font color='red'>You are not allowed to use len() function</font>\n",
        "\n",
        "**Example:** If the user gives 9876, you should print 4. \n",
        "\n",
        "\n",
        "\n",
        "**Hint:** Keep floor dividing by ten and count how many times this could be divided. \n",
        "\n",
        "9876 floor divide by 10, is 987, count that got 1 digit (total 1) \\\n",
        "987 floor divide by 10, is 98, count that got 1 digit (total 2) \\\n",
        "98 floor divide by 10, is 9, count that got 1 digit (total 3) \\\n",
        "9 floor divide by 10, is 0, count that got 1 digit (total 4) \n",
        "\n",
        "Done! (When the number becomes 0 your loop should end.)\n",
        "\n"
      ]
    },
    {
      "cell_type": "code",
      "metadata": {
        "id": "IgqcBx8eSK54",
        "outputId": "afc3f063-ab46-4202-f20f-294e8a5d8a16",
        "colab": {
          "base_uri": "https://localhost:8080/",
          "height": 51
        }
      },
      "source": [
        "#This code is licensed to Brac University\n",
        "#Email: km.shahriar.hossain@g.bracu.ac.bd\n",
        "#Author: KM SHAHRIAR HOSSAIN\n",
        "#Student Id :20201090\n",
        "num = int(input())\n",
        "count = 0\n",
        "while (num != 0):\n",
        "    num = num // 10 \n",
        "    count += 1\n",
        "print(count)\n",
        "\n",
        "\n",
        "# num = int(input())\n",
        "# count = 0\n",
        "# for x in range(num):\n",
        "#     if num != 0:\n",
        "#         num = num // 10\n",
        "#         count += 1\n",
        "# print (count)"
      ],
      "execution_count": null,
      "outputs": [
        {
          "output_type": "stream",
          "text": [
            "9876\n",
            "4\n"
          ],
          "name": "stdout"
        }
      ]
    },
    {
      "cell_type": "markdown",
      "metadata": {
        "id": "fTbwwo3mSK6A"
      },
      "source": [
        "### Task 14\n",
        "\n",
        "Write a Python program that takes a number from the user and prints the divisors of that number and then print how many divisors were there.\n",
        "<font color='red'>[The input number has to be an INTEGER]</font>\n",
        "\n",
        "==========================================================\n",
        "\n",
        "**Example01:** \n",
        "\n",
        "**Input:**\\\n",
        "6\n",
        "\n",
        "**Output:**\\\n",
        "1, 2, 3, 6 \\\n",
        "Total 4 divisors.\n",
        "\n",
        "\n",
        "==========================================================\n",
        "\n",
        "**Example02:** \n",
        "\n",
        "**Input:**\\\n",
        "121\n",
        "\n",
        "**Output:**\\\n",
        "1, 11, 121 \\\n",
        "Total 3 divisors.\n",
        "\n",
        "\n"
      ]
    },
    {
      "cell_type": "code",
      "metadata": {
        "id": "aFSd6sYXSK6A",
        "outputId": "6c00137e-0a17-4e0d-9caf-5868796bd748",
        "colab": {
          "base_uri": "https://localhost:8080/",
          "height": 68
        }
      },
      "source": [
        "#This code is licensed to Brac University\n",
        "#Email: km.shahriar.hossain@g.bracu.ac.bd\n",
        "#Author: KM SHAHRIAR HOSSAIN\n",
        "#Student Id :20201090\n",
        "a = int(input(\"\"))\n",
        "cont = 0\n",
        "for x in range(1 , a-1):    \n",
        "    if a % x == 0:\n",
        "        print(x , end=\", \")\n",
        "        cont = cont + 1\n",
        "print(a)\n",
        "print(f\"Total {cont+1} divisors.\")"
      ],
      "execution_count": null,
      "outputs": [
        {
          "output_type": "stream",
          "text": [
            "121\n",
            "1, 11, 121\n",
            "Total 3 divisors.\n"
          ],
          "name": "stdout"
        }
      ]
    },
    {
      "cell_type": "markdown",
      "metadata": {
        "id": "swvpit_vSK6E"
      },
      "source": [
        "\n",
        "### Task 15\n",
        "Write a Python program that takes a number and tells if it is a perfect number or not. <font color='red'>[The input number has to be an INTEGER]</font>\n",
        "\n",
        "**Perfect Number:** An integer number is said to be a perfect number if its factors, including 1 but not the number itself, sum to the number.\n",
        "\n",
        "==========================================================\n",
        "\n",
        "**Example01:** \n",
        "\n",
        "**Input:**\\\n",
        "6\n",
        "\n",
        "**Output:**\\\n",
        "6 is a perfect number\n",
        "\n",
        "**Explanation:**\\\n",
        "6 have 4 divisors: 1, 2, 3, and 6. \\\n",
        "If we add all factors except itself, 6 = 1 + 2 + 3.\n",
        "\n",
        "==========================================================\n",
        "\n",
        "\n",
        "**Example02:** \n",
        "\n",
        "**Input:**\\\n",
        "20\n",
        "\n",
        "**Output:**\\\n",
        "28 is a perfect number\n",
        "\n",
        "**Explanation:**\\\n",
        "28 have 6 divisors: 1, 2, 4, 7, 14, and 28. \\\n",
        "If we add all factors except itself, 28 = 1 + 2 + 4 + 7 + 14.\n",
        "\n",
        "==========================================================\n",
        "\n",
        "**Example03:** \n",
        "\n",
        "**Input:**\\\n",
        "33\n",
        "\n",
        "**Output:**\\\n",
        "33 is not a perfect number\n",
        "\n",
        "**Explanation:**\\\n",
        "33 have 3 divisors: 1, 3, 11, and 33. \\\n",
        "If we add all factors except itself, 15 = 1 + 3 + 11.\n",
        "\n"
      ]
    },
    {
      "cell_type": "code",
      "metadata": {
        "id": "WxrTdQ67SK6E",
        "outputId": "b12395f4-0f8d-43e5-a041-1822ce95d07d",
        "colab": {
          "base_uri": "https://localhost:8080/",
          "height": 51
        }
      },
      "source": [
        "#This code is licensed to Brac University\n",
        "#Email: km.shahriar.hossain@g.bracu.ac.bd\n",
        "#Author: KM SHAHRIAR HOSSAIN\n",
        "#Student Id :20201090\n",
        "a = int(input(\"\"))\n",
        "sum = 0\n",
        "for x in range(1 , a-1):    \n",
        "    if a % x == 0:\n",
        "        sum = sum + x\n",
        "if sum == a:\n",
        "    print(f\"{sum} is a perfect number\")\n",
        "else:\n",
        "    print(f\"{a} is not a perfect number\")   \n"
      ],
      "execution_count": null,
      "outputs": [
        {
          "output_type": "stream",
          "text": [
            "33\n",
            "33 is not a perfect number\n"
          ],
          "name": "stdout"
        }
      ]
    },
    {
      "cell_type": "markdown",
      "metadata": {
        "id": "JunF6mTuSK6H"
      },
      "source": [
        "### Task 16\n",
        "\n",
        "Write a Python program that asks the user for one number and tells if it is a prime number or not. <font color='red'>[The input number has to be an INTEGER]</font>\n",
        "\n",
        "**Prime Number:** If a number has only two divisors, (1 and itself), then it is prime. If it is divisible by more numbers, then it is not a prime.\n",
        "\n",
        "==========================================================\n",
        "\n",
        "**Hint:** use the divisor count from task 16. \n",
        "\n",
        "==========================================================\n",
        "\n",
        "**Example01:** \n",
        "\n",
        "**Input:**\\\n",
        "11\n",
        "\n",
        "**Output:**\\\n",
        "11 is a prime number\n",
        "\n",
        "**Explanation:**\\\n",
        "11 has only 2 divisors: 1, and 11.\n",
        "\n",
        "==========================================================\n",
        "\n",
        "**Example02:** \n",
        "\n",
        "**Input:**\\\n",
        "6\n",
        "\n",
        "**Output:**\\\n",
        "6 is not a prime number\n",
        "\n",
        "**Explanation:**\\\n",
        "6 have 4 divisors: 1, 2, 3 and 6.\n",
        "\n",
        "\n",
        "\n",
        "\n"
      ]
    },
    {
      "cell_type": "code",
      "metadata": {
        "id": "s_UhmEARSK6I",
        "outputId": "b6f7b3b9-9f4d-4633-8976-feeb461d89ea",
        "colab": {
          "base_uri": "https://localhost:8080/",
          "height": 51
        }
      },
      "source": [
        "#This code is licensed to Brac University\n",
        "#Email: km.shahriar.hossain@g.bracu.ac.bd\n",
        "#Author: KM SHAHRIAR HOSSAIN\n",
        "#Student Id :20201090\n",
        "number = int(input())\n",
        "if number > 1:\n",
        "   for x in range(2,number):\n",
        "       if number % x == 0:\n",
        "           print(number,\"is not a prime number\")\n",
        "           break\n",
        "   else:\n",
        "       print(number,\"is a prime number\")\n",
        "else:\n",
        "   print(number,\"is not a prime number\")"
      ],
      "execution_count": null,
      "outputs": [
        {
          "output_type": "stream",
          "text": [
            "6\n",
            "6 is not a prime number\n"
          ],
          "name": "stdout"
        }
      ]
    },
    {
      "cell_type": "markdown",
      "metadata": {
        "id": "2LrNlU1XSK6L"
      },
      "source": [
        "### Task 17\n",
        "\n",
        "Write a Python program that asks the user for a quantity then takes that many numbers and prints the maximum, minimum and average of those numbers. \n",
        "\n",
        "**<font color='red'>[CANNOT USE MAX,MIN BUILT-IN FUNCTIONS][FOR THIS TASK YOU DO NOT NEED TO USE LISTS]</font>** \n",
        "\n",
        "==========================================================\n",
        "\n",
        "**Example01:** If the user enters 5 as an input for quantity. Then enters 10, 4, -1, -100, and 1. \\\n",
        "Your program output should be: “Maximum 10”, “Minimum -100”, “Average is -17.2”\n",
        "\n",
        "**Input:**\\\n",
        "5\n",
        "10\n",
        "4\n",
        "-1\n",
        "-100\n",
        "1.\n",
        "\n",
        "**Output:**\\\n",
        "Maximum 10\\\n",
        "Minimum -100\\\n",
        "Average is -17.2\n",
        "\n",
        "**Explanation:**\\\n",
        "Average calculation: (10+4 + (-1) + (-100) + 1)/5 = -86/5=-17.2\n",
        "\n"
      ]
    },
    {
      "cell_type": "code",
      "metadata": {
        "id": "TK68v25sSK6L",
        "outputId": "73e33b65-d1e9-45b2-82da-211135991eea",
        "colab": {
          "base_uri": "https://localhost:8080/",
          "height": 170
        }
      },
      "source": [
        "#This code is licensed to Brac University\n",
        "#Email: km.shahriar.hossain@g.bracu.ac.bd\n",
        "#Author: KM SHAHRIAR HOSSAIN\n",
        "#Student Id :20201090\n",
        "a = int(input())\n",
        "maxium = None\n",
        "minimum =None\n",
        "sum = 0\n",
        "for x in range(a):\n",
        "    b = int(input())\n",
        "    sum = sum + b\n",
        "    if maxium is None and minimum is None:\n",
        "        maxium = b\n",
        "        minimum = b\n",
        "    elif b > maxium:\n",
        "        maxium = b\n",
        "    elif b < minimum:\n",
        "        minimum = b\n",
        "avg = sum/a\n",
        "print('Maximum',maxium)\n",
        "print('Minimum',minimum)\n",
        "print('Average is',avg)"
      ],
      "execution_count": null,
      "outputs": [
        {
          "output_type": "stream",
          "text": [
            "5\n",
            "10\n",
            "4\n",
            "-1\n",
            "-100\n",
            "1\n",
            "Maximum 10\n",
            "Minimum -100\n",
            "Average is -17.2\n"
          ],
          "name": "stdout"
        }
      ]
    },
    {
      "cell_type": "markdown",
      "metadata": {
        "id": "QLXvNSiOxhlI"
      },
      "source": [
        "## Task 18\n",
        "\n",
        "Write a python program that prints a square of size N using + where N will be given as input.\n",
        "\n",
        "=======================================\n",
        "\n",
        "**Sample Input**\n",
        "5\n",
        "\n",
        "**Sample Output**<br>\n",
        "+++++<br>\n",
        "+++++<br>\n",
        "+++++<br>\n",
        "+++++<br>\n",
        "+++++<br>\n",
        "\n",
        "\n",
        "=======================================\n",
        "\n",
        "**Sample Input**\n",
        "3\n",
        "\n",
        "**Sample Output**<br>\n",
        "+++<br>\n",
        "+++<br>\n",
        "+++<br>"
      ]
    },
    {
      "cell_type": "code",
      "metadata": {
        "id": "nuU0BJmQwsSa",
        "outputId": "de1efde4-bb0e-4b0b-ef23-4e1549683cc9",
        "colab": {
          "base_uri": "https://localhost:8080/",
          "height": 119
        }
      },
      "source": [
        "#This code is licensed to Brac University\n",
        "#Email: km.shahriar.hossain@g.bracu.ac.bd\n",
        "#Author: KM SHAHRIAR HOSSAIN\n",
        "#Student Id :20201090\n",
        "number = int(input())\n",
        "for x in range(1 , number+1):\n",
        "    print(\"+\" * number)"
      ],
      "execution_count": null,
      "outputs": [
        {
          "output_type": "stream",
          "text": [
            "5\n",
            "+++++\n",
            "+++++\n",
            "+++++\n",
            "+++++\n",
            "+++++\n"
          ],
          "name": "stdout"
        }
      ]
    },
    {
      "cell_type": "markdown",
      "metadata": {
        "id": "9tK1-MjFwqM-"
      },
      "source": [
        "### Task 19\n",
        "\n",
        "Write a python program that prints a rectangle of size M (height/line numbers) and N(length/column numbers) using incrementing numbers where M,N will be given as input.\n",
        "\n",
        "===================================\n",
        "\n",
        "**Sample Input**\n",
        "4,6\n",
        "\n",
        "**Sample Output**<br>\n",
        "123456<br>\n",
        "123456<br>\n",
        "123456<br>\n",
        "123456<br>\n",
        "\n",
        "\n",
        "===================================\n",
        "\n",
        "\n",
        "**Sample Input**\n",
        "3,2\n",
        "\n",
        "**Sample Output**<br>\n",
        "12<br>\n",
        "12<br>\n",
        "12<br>\n"
      ]
    },
    {
      "cell_type": "code",
      "metadata": {
        "id": "KcyhD8gNxYdi",
        "outputId": "b63ef74c-e67e-46f4-ff1f-2aad3c1b22dd",
        "colab": {
          "base_uri": "https://localhost:8080/",
          "height": 119
        }
      },
      "source": [
        "#This code is licensed to Brac University\n",
        "#Email: km.shahriar.hossain@g.bracu.ac.bd\n",
        "#Author: KM SHAHRIAR HOSSAIN\n",
        "#Student Id :20201090\n",
        "a = int(input())\n",
        "b = int(input())\n",
        "for x in range(1, a+1):\n",
        "    for y in range(1, b+1):\n",
        "        print(y , end=\"\")\n",
        "    print()    "
      ],
      "execution_count": null,
      "outputs": [
        {
          "output_type": "stream",
          "text": [
            "4\n",
            "6\n",
            "123456\n",
            "123456\n",
            "123456\n",
            "123456\n"
          ],
          "name": "stdout"
        }
      ]
    },
    {
      "cell_type": "markdown",
      "metadata": {
        "id": "ReUpRcLuw0_b"
      },
      "source": [
        "### Task 20\n",
        "\n",
        "Write a python program that prints a right angled triangle of height N using incrementing numbers where N will be given as input.\n",
        "\n",
        "====================================\n",
        "\n",
        "**Sample Input**\n",
        "4\n",
        "\n",
        "**Sample Output**<br>\n",
        "1<br>\n",
        "12<br>\n",
        "123<br>\n",
        "1234<br>\n",
        "\n",
        "====================================\n",
        "\n",
        "**Sample Input**\n",
        "5\n",
        "\n",
        "**Sample Output**<br>\n",
        "1<br>\n",
        "12<br>\n",
        "123<br>\n",
        "1234<br>\n",
        "12345<br>"
      ]
    },
    {
      "cell_type": "code",
      "metadata": {
        "id": "UtqBxocnxai9",
        "outputId": "1a72caae-9112-45af-e04e-f8ed9ebec747",
        "colab": {
          "base_uri": "https://localhost:8080/",
          "height": 119
        }
      },
      "source": [
        "#This code is licensed to Brac University\n",
        "#Email: km.shahriar.hossain@g.bracu.ac.bd\n",
        "#Author: KM SHAHRIAR HOSSAIN\n",
        "#Student Id :20201090\n",
        "n = int(input())\n",
        "for x in range(1, n+1):\n",
        "    for y in range(1 , x+1):\n",
        "        print(y, end=\"\")\n",
        "    print()"
      ],
      "execution_count": null,
      "outputs": [
        {
          "output_type": "stream",
          "text": [
            "5\n",
            "1\n",
            "12\n",
            "123\n",
            "1234\n",
            "12345\n"
          ],
          "name": "stdout"
        }
      ]
    },
    {
      "cell_type": "markdown",
      "metadata": {
        "id": "AWbbbs5mSK6O"
      },
      "source": [
        "## Optional Tasks (21 -26) [Ungraded]"
      ]
    },
    {
      "cell_type": "markdown",
      "metadata": {
        "id": "a0SjEWlsw6Vt"
      },
      "source": [
        "### Task 21\n",
        "\n",
        "Write a python program that prints all the fibonacci number from 0 to N where N will be given. \n",
        "\n",
        "**A Fibonacci number is a number which is the summation of its previous two fibonacci number.**\n",
        "\n",
        "First two fibonacci number are 0 and 1. So the 3rd Fib will be 0+1=1, 4th Fib will be 1+1=2, 5th Fib will be 1+2=3 and so on.\n",
        "\n",
        "==============================\n",
        "\n",
        "**Sample Input**<br>\n",
        "10\n",
        "\n",
        "**Sample Output**<br>\n",
        "0 1 1 2 3 5 8\n",
        "\n",
        "==============================\n",
        "\n",
        "\n",
        "**Sample Input**<br>\n",
        "15\n",
        "\n",
        "**Sample Output**<br>\n",
        "0 1 1 2 3 5 8 13"
      ]
    },
    {
      "cell_type": "code",
      "metadata": {
        "id": "vQhQFFBWx-h0",
        "outputId": "5730ab5a-2e73-4567-db6a-891a7d6aa8c5",
        "colab": {
          "base_uri": "https://localhost:8080/",
          "height": 51
        }
      },
      "source": [
        "#This code is licensed to Brac University\n",
        "#Email: km.shahriar.hossain@g.bracu.ac.bd\n",
        "#Author: KM SHAHRIAR HOSSAIN                              \n",
        "#Student Id :20201090\n",
        "num = int(input())\n",
        "a = -1  \n",
        "b = 1\n",
        "for x in range(1,num+1): \n",
        "    next_number = a+b\n",
        "    if next_number > num:\n",
        "        break                               \n",
        "    print(next_number,end=\" \")\n",
        "    a=b\n",
        "    b=next_number\n",
        "       "
      ],
      "execution_count": null,
      "outputs": [
        {
          "output_type": "stream",
          "text": [
            "15\n",
            "0 1 1 2 3 5 8 13 "
          ],
          "name": "stdout"
        }
      ]
    },
    {
      "cell_type": "markdown",
      "metadata": {
        "id": "bByH1fWsw7av"
      },
      "source": [
        "### Task 22\n",
        "\n",
        "Write a python program that converts a Decimal Integer number to a Boolean Number. \n",
        "\n",
        "**A decimal can be converted to a binary number by keeping track of the remainders after each division of that number by 2. **\n",
        "\n",
        "================================\n",
        "\n",
        "For example, to convert 10 to a binary number, we can follow the following approach\n",
        "\n",
        "10/2 = 5 (Remainder 0) \n",
        "<br>5/2 = 2 (Remainder 1) \n",
        "<br>2/2 = 1 (Remainder 0) \n",
        "<br>1/2 = 0 (Remainder 1) \n",
        "\n",
        "Take the remainders from bottom to top, which is, 1010. Binary of 10 is 1010.\n",
        "\n",
        "**Sample Input** <br>\n",
        "10\n",
        "\n",
        "**Sample Output**<br>\n",
        "1010\n",
        "\n",
        "================================\n",
        "\n",
        "For example, to convert 13 to a binary number, we can follow the following approach\n",
        "\n",
        "13/2 = 6 (Remainder 1) \n",
        "<br>6/2 = 3 (Remainder 0) \n",
        "<br>3/2 = 1 (Remainder 1) \n",
        "<br>1/2 = 0 (Remainder 1) \n",
        "\n",
        "Take the remainders from bottom to top, which is, 1101. Binary of 13 is 1101.\n",
        "\n",
        "**Sample Input** <br>\n",
        "13\n",
        "\n",
        "**Sample Output**<br>\n",
        "1101"
      ]
    },
    {
      "cell_type": "code",
      "metadata": {
        "id": "AEXGx3skyBha",
        "outputId": "a989b6d7-1ba1-4b39-e8cb-d75067e226c5",
        "colab": {
          "base_uri": "https://localhost:8080/",
          "height": 51
        }
      },
      "source": [
        "#This code is licensed to Brac University\n",
        "#Email: km.shahriar.hossain@g.bracu.ac.bd\n",
        "#Author: KM SHAHRIAR HOSSAIN                              \n",
        "#Student Id :20201090\n",
        "num = int(input())\n",
        "count = 0\n",
        "list= []\n",
        "while num != 0:\n",
        "    a = num % 2\n",
        "    num = num // 2\n",
        "    list.append(a)\n",
        "list.reverse()  \n",
        "conversion = [str(int) for int in list]\n",
        "final = \"\".join(conversion)\n",
        "print(final)\n",
        "\n",
        "#ALTERNATE METHOD\n",
        "#number = int(input())\n",
        "#binary = bin(number)[2:]\n",
        "#print(binary)"
      ],
      "execution_count": null,
      "outputs": [
        {
          "output_type": "stream",
          "text": [
            "13\n",
            "1101\n"
          ],
          "name": "stdout"
        }
      ]
    },
    {
      "cell_type": "markdown",
      "metadata": {
        "id": "g_aR1Ozgw_rr"
      },
      "source": [
        "### Task 23\n",
        "\n",
        "Write a python program that converts a Binary number to a Decimal Integer Number. \n",
        "\n",
        "**A binary number can be converted to its corresponding decimal number by multiplying each binary digit with a power of 2 where the power denotes the position of the binary digit**\n",
        "\n",
        "========================================\n",
        "\n",
        "For example, to convert 1010, we can do this -\n",
        "\n",
        "\n",
        "$2^{3}$ x 1 + $2^{2}$ x 0 + $2^{1}$ x 1 + $2^{0}$ x 0 = 10\n",
        "\n",
        "\n",
        "**Sample Input** <br>\n",
        "1010\n",
        "\n",
        "**Sample Output** <br>\n",
        "10\n",
        "\n",
        "========================================\n",
        "\n",
        "For example, to convert 1101, we can do this -\n",
        "\n",
        "\n",
        "$2^{3}$ x 1 + $2^{2}$ x 1 + $2^{1}$ x 0 + $2^{0}$ x 1 = 13\n",
        "\n",
        "\n",
        "**Sample Input** <br>\n",
        "1101\n",
        "\n",
        "**Sample Output** <br>\n",
        "13"
      ]
    },
    {
      "cell_type": "code",
      "metadata": {
        "id": "ZZmhMI6VyCky",
        "outputId": "c4e91c62-3d07-493b-be68-ddbd380fc044",
        "colab": {
          "base_uri": "https://localhost:8080/",
          "height": 248
        }
      },
      "source": [
        "#This code works perfectly on python 3.8  ( Visual Studio code)\n",
        "# But dont know why its not running on 2.7 version ( aka the colab one)\n",
        "num = list(input())\n",
        "value = 0\n",
        "for x in range(len(num)):\n",
        "\tdigit = num.pop()\n",
        "\tif digit == '1':\n",
        "\t\tvalue = value + pow(2, x)\n",
        "print(value)"
      ],
      "execution_count": null,
      "outputs": [
        {
          "output_type": "stream",
          "text": [
            "1101\n"
          ],
          "name": "stdout"
        },
        {
          "output_type": "error",
          "ename": "TypeError",
          "evalue": "ignored",
          "traceback": [
            "\u001b[0;31m---------------------------------------------------------------------------\u001b[0m",
            "\u001b[0;31mTypeError\u001b[0m                                 Traceback (most recent call last)",
            "\u001b[0;32m<ipython-input-11-dc716145acbf>\u001b[0m in \u001b[0;36m<module>\u001b[0;34m()\u001b[0m\n\u001b[1;32m      1\u001b[0m \u001b[0mnum\u001b[0m \u001b[0;34m=\u001b[0m \u001b[0minput\u001b[0m\u001b[0;34m(\u001b[0m\u001b[0;34m)\u001b[0m\u001b[0;34m\u001b[0m\u001b[0;34m\u001b[0m\u001b[0m\n\u001b[0;32m----> 2\u001b[0;31m \u001b[0ma\u001b[0m \u001b[0;34m=\u001b[0m \u001b[0mlist\u001b[0m\u001b[0;34m(\u001b[0m\u001b[0mnum\u001b[0m\u001b[0;34m)\u001b[0m\u001b[0;34m\u001b[0m\u001b[0;34m\u001b[0m\u001b[0m\n\u001b[0m\u001b[1;32m      3\u001b[0m \u001b[0mvalue\u001b[0m \u001b[0;34m=\u001b[0m \u001b[0;36m0\u001b[0m\u001b[0;34m\u001b[0m\u001b[0;34m\u001b[0m\u001b[0m\n\u001b[1;32m      4\u001b[0m \u001b[0;32mfor\u001b[0m \u001b[0mx\u001b[0m \u001b[0;32min\u001b[0m \u001b[0mrange\u001b[0m\u001b[0;34m(\u001b[0m\u001b[0mlen\u001b[0m\u001b[0;34m(\u001b[0m\u001b[0mnum\u001b[0m\u001b[0;34m)\u001b[0m\u001b[0;34m)\u001b[0m\u001b[0;34m:\u001b[0m\u001b[0;34m\u001b[0m\u001b[0;34m\u001b[0m\u001b[0m\n\u001b[1;32m      5\u001b[0m         \u001b[0mdigit\u001b[0m \u001b[0;34m=\u001b[0m \u001b[0ma\u001b[0m\u001b[0;34m.\u001b[0m\u001b[0mpop\u001b[0m\u001b[0;34m(\u001b[0m\u001b[0;34m)\u001b[0m\u001b[0;34m\u001b[0m\u001b[0;34m\u001b[0m\u001b[0m\n",
            "\u001b[0;31mTypeError\u001b[0m: 'list' object is not callable"
          ]
        }
      ]
    },
    {
      "cell_type": "markdown",
      "metadata": {
        "id": "GymIX5_vSK6Q"
      },
      "source": [
        "### Task 24\n",
        "\n",
        "Take five numbers from the user and find the minimum and the average of **only the even** numbers entered by the user. [If the user enters odd numbers ignore them] \n",
        "\n",
        "**<font color='red'>[CANNOT USE MAX,MIN BUILT-IN FUNCTIONS] [FOR THIS TASK YOU DO NOT NEED TO USE LISTS]</font>** \n",
        "\n",
        "Assume, the first input is always an even number.\n",
        "\n",
        "============================================================\n",
        "\n",
        "**Example01:** If the user enters 10, 4, -1, -100, and 1. \\\n",
        "Output: “Minimum -100”, “Average is 28.66667”\n",
        "\n",
        "**Input:**\\\n",
        "10\n",
        "\n",
        "4\n",
        "\n",
        "-1\n",
        "\n",
        "-100\n",
        "\n",
        "1\n",
        "\n",
        "**Output:**\\\n",
        "Minimum -100\\\n",
        "Average is 28.66667\n",
        "\n",
        "**Explanation:**\\\n",
        "Average calculation: (10+4 + (-100))/3 = -86/3=-28.66667\n",
        "\n",
        "============================================================\n",
        "\n",
        "**Example02:** If the user enters 2, 10, 1, 21, and 3. \\\n",
        "Output: Minimum 2”, “Average is 6.0”\n",
        "\n",
        "**Input:**\\\n",
        "2\n",
        "\n",
        "10\n",
        "\n",
        "1\n",
        "\n",
        "21\n",
        "\n",
        "3\n",
        "\n",
        "**Output:**\\\n",
        "Minimum 2\\\n",
        "Average is 6.0\n",
        "\n",
        "**Explanation:**\\\n",
        "Average calculation: (2+10)/2 = 12/2= 6\n",
        "\n",
        "\n",
        "\n"
      ]
    },
    {
      "cell_type": "code",
      "metadata": {
        "id": "CnrBzeq1SK6R",
        "outputId": "b7fef760-ffcd-4c2c-b38e-3bfed99aee09",
        "colab": {
          "base_uri": "https://localhost:8080/",
          "height": 136
        }
      },
      "source": [
        "#This code is licensed to Brac University\n",
        "#Email: km.shahriar.hossain@g.bracu.ac.bd\n",
        "#Author: KM SHAHRIAR HOSSAIN\n",
        "#Student Id :20201090\n",
        "quantity = 5\n",
        "mn = None\n",
        "total = 0\n",
        "for x in range(1, quantity+1):\n",
        "    inp = int(input())\n",
        "    if mn is None:\n",
        "        mn = inp\n",
        "    if inp < mn:\n",
        "        mn = inp\n",
        "    if inp % 2 == 0:\n",
        "        total = total + inp\n",
        "    if inp % 2 == 0:\n",
        "        a = x -1\n",
        "print('Minimum', mn)\n",
        "print('Average is', total/a)"
      ],
      "execution_count": null,
      "outputs": [
        {
          "output_type": "stream",
          "text": [
            "10\n",
            "4\n",
            "-1\n",
            "-100\n",
            "1\n",
            "Minimum -100\n",
            "Average is -28.666666666666668\n"
          ],
          "name": "stdout"
        }
      ]
    },
    {
      "cell_type": "markdown",
      "metadata": {
        "id": "F2iSIEcHSK6U"
      },
      "source": [
        "### Task 25\n",
        "\n",
        "Write a Python code for the following:\n",
        "* Ask the user to enter a number, N (Total number of inputs to be taken). Assume that the user will never enter the first number as zero.\n",
        "* Take N number of inputs\n",
        "* Prints out the product of all the numbers read\n",
        "\n",
        "For example, if the first input is 4, then the program has to read in four numbers from the user and print the product of these four numbers. \n",
        "\n",
        "=========================================================================\n",
        "\n",
        "**Example01:**\n",
        "\n",
        "**Input:**\\\n",
        "5 \n",
        "\n",
        "10 \n",
        "\n",
        "6 \n",
        "\n",
        "4 \n",
        "\n",
        "2 \n",
        "\n",
        "1 \n",
        "\n",
        "**Output:**\\\n",
        "480\n",
        "\n",
        "**Explanation:**\\\n",
        "5 is the total number of inputs taken. Then, the calculation should be 10 X 6 X 4 X 2 X 1 = 480 \n",
        "\n",
        "\n",
        "\n",
        "\n",
        "\n"
      ]
    },
    {
      "cell_type": "code",
      "metadata": {
        "id": "NFDi7tjZSK6U",
        "outputId": "dc930eec-6d35-4138-f385-71ed7b60222a",
        "colab": {
          "base_uri": "https://localhost:8080/",
          "height": 136
        }
      },
      "source": [
        "#This code is licensed to Brac University\n",
        "#Email: km.shahriar.hossain@g.bracu.ac.bd\n",
        "#Author: KM SHAHRIAR HOSSAIN\n",
        "#Student Id :20201090\n",
        "num = int(input())\n",
        "gun = 1\n",
        "for x in range(1 ,num+1):\n",
        "    a = int(input())\n",
        "    gun = gun * a\n",
        "print(gun)   "
      ],
      "execution_count": null,
      "outputs": [
        {
          "output_type": "stream",
          "text": [
            "5\n",
            "10\n",
            "6\n",
            "4\n",
            "2\n",
            "1\n",
            "480\n"
          ],
          "name": "stdout"
        }
      ]
    },
    {
      "cell_type": "markdown",
      "metadata": {
        "id": "1Ef3zxQsSK6Y"
      },
      "source": [
        "\n",
        "### Task 26\n",
        "Ask the user for a range (a starting number and an ending number). \n",
        "**Count** how many numbers are prime numbers and how many numbers are perfect numbers between that range and **print** those numbers. \n",
        "\n",
        "\n",
        "=========================================================================\n",
        "\n",
        "**Hint (1):** Declare two strings/lists to store the prime and perfect numbers. Inside the iteration store the values of the prime and perfect numbers in the pre- declared variables.\n",
        "\n",
        "**Hint (2):**\n",
        "Need to use string concat.\n",
        "\n",
        "ans = \"Prime numbers:\"\\\n",
        "prime_value = 11\n",
        "\n",
        "ans = ans + str(11)\n",
        "\n",
        "print(ans)\n",
        "\n",
        "ans = ans + str(13) \n",
        "\n",
        "print(ans)\n",
        "\n",
        "\n",
        "=========================================================================\n",
        "\n",
        "**Example:**between 2 and 6, there are 3 prime numbers (2, 3, 5) and 1 perfect number (6). \n",
        "\n",
        "**Input:**\\\n",
        "2\n",
        "\n",
        "6\n",
        "\n",
        "**Output:**\\\n",
        "Between 2 and 6,\\\n",
        "Found 3 prime numbers \\\n",
        "Found 1 perfect number.\\\n",
        "Prime numbers: 2, 3, 5.\\\n",
        "Perfect numbers: 6.\n",
        "\n"
      ]
    },
    {
      "cell_type": "code",
      "metadata": {
        "id": "_YU9xdPBSK6Y",
        "outputId": "16384a4e-68ce-43ef-9cc1-38c497c2b149",
        "colab": {
          "base_uri": "https://localhost:8080/",
          "height": 136
        }
      },
      "source": [
        "#This code is licensed to Brac University\n",
        "#Email: km.shahriar.hossain@g.bracu.ac.bd\n",
        "#Author: KM SHAHRIAR HOSSAIN\n",
        "#Student Id :20201090\n",
        "a = int(input())\n",
        "b = int(input())\n",
        "count = 0\n",
        "list = []\n",
        "sum = 0\n",
        "count1 = 0\n",
        "for x in range (a,b+1):\n",
        "    if x > 1:\n",
        "        for y in range(2,x):\n",
        "            if x % y == 0:\n",
        "                break\n",
        "        else:\n",
        "            list.append(x) \n",
        "            count += 1\t\t\n",
        "for lol in range(1 , b-1 , 1):    \n",
        "    if b % lol == 0:\n",
        "        sum = sum + lol\n",
        "if sum == b:\n",
        "    count1 = count1+1            \t\n",
        "print(f\"Between {a} and {b},\")\n",
        "print(f\"Found {count} prime numbers\")\n",
        "print(f\"Found {count1} perfect number.\")\n",
        "conversion = [str(int) for int in list]\n",
        "final = \", \".join(conversion)\n",
        "print(f\"Prime numbers: {final}.\")\n",
        "print(f\"Perfect numbers: {sum}.\")  "
      ],
      "execution_count": null,
      "outputs": [
        {
          "output_type": "stream",
          "text": [
            "2\n",
            "6\n",
            "Between 2 and 6,\n",
            "Found 3 prime numbers\n",
            "Found 1 perfect number.\n",
            "Prime numbers: 2, 3, 5.\n",
            "Perfect numbers: 6.\n"
          ],
          "name": "stdout"
        }
      ]
    }
  ]
}
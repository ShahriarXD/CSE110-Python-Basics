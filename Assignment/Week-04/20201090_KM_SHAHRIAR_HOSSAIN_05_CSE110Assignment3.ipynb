{
  "nbformat": 4,
  "nbformat_minor": 0,
  "metadata": {
    "kernelspec": {
      "display_name": "Python 3",
      "language": "python",
      "name": "python3"
    },
    "language_info": {
      "codemirror_mode": {
        "name": "ipython",
        "version": 3
      },
      "file_extension": ".py",
      "mimetype": "text/x-python",
      "name": "python",
      "nbconvert_exporter": "python",
      "pygments_lexer": "ipython3",
      "version": "3.7.6"
    },
    "colab": {
      "name": "CSE110_Assignment03_(String_List).ipynb",
      "provenance": [],
      "collapsed_sections": []
    }
  },
  "cells": [
    {
      "cell_type": "markdown",
      "metadata": {
        "id": "xDNsncrtU1yM"
      },
      "source": [
        "# CSE110 Assignment 3\n",
        "\n"
      ]
    },
    {
      "cell_type": "markdown",
      "metadata": {
        "id": "gh4GUDaIU1yO"
      },
      "source": [
        "\n",
        "## Write the Python code of the following problems:\n",
        "\n",
        "**<font color='red'>[MUST MAINTAIN VARIABLE NAMING CONVENTIONS FOR ALL THE TASKS]</font>**\n",
        "\n",
        "## Part 1: String\n",
        "\n",
        "\n",
        "\n"
      ]
    },
    {
      "cell_type": "markdown",
      "metadata": {
        "id": "KD4EKJf6U1yQ"
      },
      "source": [
        "### Task 1 \n",
        "\n",
        "Write a Python program that will ask the user to input a string (containing exactly one word). Then your program should print a subsequent substring of the given string.\n",
        "\n",
        "=====================================================================\n",
        "\n",
        "**Example1:**\\\n",
        "Input: BANGLA\\\n",
        "Output:\\\n",
        "B\\\n",
        "BA\\\n",
        "BAN\\\n",
        "BANG\\\n",
        "BANGL\\\n",
        "BANGLA\n",
        "\n",
        "=====================================================================\n",
        "\n",
        "**Example2:**\\\n",
        "Input: DREAM\\\n",
        "Output:\\\n",
        "D\\\n",
        "DR\\\n",
        "DRE\\\n",
        "DREA\\\n",
        "DREAM\n",
        "\n",
        "=====================================================================\n",
        "\n",
        "**Hints(1):** Need to use \"for loop\" for this task.\n",
        "\n",
        "**Hints(2):** Need to use print() function for printing newlines.\n",
        "\n",
        "For example:\\\n",
        "print(1)\\\n",
        "print(2)\n",
        "\n",
        "Output:\\\n",
        "1\\\n",
        "2\n",
        "\n",
        "=====================================================================\n",
        "\n",
        "We need use print(end = \"\") to skip printing the additional newline.\n",
        "\n",
        "For example:\\\n",
        "print(1, end =\" \")\\\n",
        "print(2)\n",
        "\n",
        "Output:(prints the next output right to the previous one)\\\n",
        "12\n",
        "\n",
        "=====================================================================\n",
        "\n",
        "\n",
        "\n",
        "\n"
      ]
    },
    {
      "cell_type": "code",
      "metadata": {
        "id": "vJhpmj2XU1yR",
        "outputId": "0ff57274-9eee-47c0-97d7-19d5661d4d3f",
        "colab": {
          "base_uri": "https://localhost:8080/"
        }
      },
      "source": [
        "user_input = input(\"\")\n",
        "for x in range(len(user_input)):\n",
        "    for y in range (0 , x+1):\n",
        "        print (user_input[y], end=\"\")\n",
        "    print(\"\")\n",
        "\n"
      ],
      "execution_count": null,
      "outputs": [
        {
          "output_type": "stream",
          "text": [
            "DREAM\n",
            "D\n",
            "DR\n",
            "DRE\n",
            "DREA\n",
            "DREAM\n"
          ],
          "name": "stdout"
        }
      ]
    },
    {
      "cell_type": "markdown",
      "metadata": {
        "id": "pbdeIVcyU1yi"
      },
      "source": [
        "### Task2\n",
        "\n",
        "Write a Python program that will ask the user to enter a  word as an input. \n",
        "\n",
        "* If the length of the input string is less than 4, then your program should print the same string as an output. \n",
        "* If the input string’s length is greater than 3, then your program should add \"er\" at the end of the input string. \n",
        "* If the input string already ends with \"er\", then add \"est\" instead. \n",
        "* If the input string already ends with \"est\", then your program should print the same input string as an output.\n",
        "\n",
        "=====================================================================\n",
        "\n",
        "**Example 1:**\\\n",
        "Input: strong\\\n",
        "Output: stronger\n",
        "\n",
        "=====================================================================\n",
        "\n",
        "**Example 2:**\\\n",
        "Input: stronger\\\n",
        "Output: strongest\n",
        "\n",
        "=====================================================================\n",
        "\n",
        "**Example 3:**\\\n",
        "Input: strongest\\\n",
        "Output: strongest\n",
        "\n",
        "=====================================================================\n",
        "\n",
        "**Example 4:**\\\n",
        "Input: abc\\\n",
        "Output: abc\n"
      ]
    },
    {
      "cell_type": "code",
      "metadata": {
        "id": "A5df9pmJU1yj",
        "outputId": "1e8d6afa-786d-4fab-ef12-bd95e3c916dd",
        "colab": {
          "base_uri": "https://localhost:8080/"
        }
      },
      "source": [
        "# 1st one by using Function just because i want to practise bot way . :D\n",
        "# def shahriar(lol):\n",
        "#     if lol.endswith (\"er\"):\n",
        "#         print (f\"{lol[:-2]}est\")\n",
        "#     elif lol.endswith (\"est\"):\n",
        "#         print (lol)    \n",
        "#     elif len(lol) > 3:\n",
        "#         print (f\"{lol}er\")    \n",
        "#     elif len(lol) < 4:\n",
        "#         print (lol)\n",
        "\t\t\t\n",
        "\n",
        "# shahriar(input(\"\"))\n",
        "\n",
        "\n",
        "\n",
        "user_input = input(\"\")\n",
        "if user_input.endswith (\"er\"):\n",
        "    print (f\"{user_input[:-2]}est\")\n",
        "elif user_input.endswith (\"est\"):\n",
        "    print (user_input)    \n",
        "elif len(user_input) > 3:\n",
        "    print (f\"{user_input}er\")    \n",
        "elif len(user_input) < 4:\n",
        "    print (user_input)    "
      ],
      "execution_count": null,
      "outputs": [
        {
          "output_type": "stream",
          "text": [
            "stronger\n",
            "strongest\n"
          ],
          "name": "stdout"
        }
      ]
    },
    {
      "cell_type": "markdown",
      "metadata": {
        "id": "PsBbgc4YU1yp"
      },
      "source": [
        "### Task3\n",
        "\n",
        "Write a Python program that will ask the user to input a string (containing exactly one word). Then print code for each character in the String using the ord() function. Use any means necessary.\n",
        "\n",
        "To check if your program is working correctly or not, you can find a list of all correct values from the following website. Look at “Dec” and “Char” columns only, ignore other columns.\\\n",
        "link: http://www.asciitable.com/\n",
        "\n",
        "=====================================================================\n",
        "\n",
        "**Example 1:**\\\n",
        "Input: Programming\\\n",
        "Output:\\\n",
        "P : 80\\\n",
        "r : 114\\\n",
        "o : 111\\\n",
        "g : 103\\\n",
        "r : 114\\\n",
        "a : 97\\\n",
        "m : 109\\\n",
        "m : 109\\\n",
        "i : 105\\\n",
        "n : 110\\\n",
        "g : 103\n",
        "\n",
        "=====================================================================\n",
        "\n",
        "**Example 2:**\\\n",
        "Input: hunger\\\n",
        "Output:\\\n",
        "h : 104\\\n",
        "u : 117\\\n",
        "n : 110\\\n",
        "g : 103\\\n",
        "e : 101\\\n",
        "r : 114 "
      ]
    },
    {
      "cell_type": "code",
      "metadata": {
        "id": "r8by7ONZU1ys",
        "outputId": "65e0e5e3-93c7-4471-d78a-d21fb1812f82",
        "colab": {
          "base_uri": "https://localhost:8080/"
        }
      },
      "source": [
        "user_input = input(\"\")\n",
        "for x in range(len(user_input)):\n",
        "    a = ord(user_input[x])\n",
        "    print(f\"{user_input[x]} : {a}\")"
      ],
      "execution_count": null,
      "outputs": [
        {
          "output_type": "stream",
          "text": [
            "hunger\n",
            "h : 104\n",
            "u : 117\n",
            "n : 110\n",
            "g : 103\n",
            "e : 101\n",
            "r : 114\n"
          ],
          "name": "stdout"
        }
      ]
    },
    {
      "cell_type": "markdown",
      "metadata": {
        "id": "O8lIVppgU1yw"
      },
      "source": [
        "### Task4\n",
        "\n",
        "Given a word as input in small letters, print the next alphabet in sequence for each alphabet found in the input.\n",
        "\n",
        "=====================================================================\n",
        "\n",
        "\n",
        "*Hint: You need to use functions ord() and chr(). The ASCII value of ‘a’ is 97 and ‘z’ is 122.*\n",
        "\n",
        "=====================================================================\n",
        "\n",
        "**Example1:**\\\n",
        "Input: abcd\\\n",
        "Output: bcde\n",
        "\n",
        "**Example2:**\\\n",
        "Input: the cow\\\n",
        "Output: uif!dpx\n",
        "\n",
        "**Example3: <font color='red'>[Must fulfil this criteria]</font>**\\\n",
        "Input: xyzabc\\\n",
        "Output: yzabcd\n",
        "\n",
        "\n"
      ]
    },
    {
      "cell_type": "code",
      "metadata": {
        "id": "Hyvy8WNNU1yx",
        "outputId": "f80c79b0-4c3c-496f-e590-bd685e1119ea",
        "colab": {
          "base_uri": "https://localhost:8080/"
        }
      },
      "source": [
        "a = input(\"\")\n",
        "for x in range(len(a)):\n",
        "    lol = ord(a[x])\n",
        "    bb = lol+1\n",
        "    if bb == 123:\n",
        "        print(\"a\",end=\"\")\n",
        "    else:\n",
        "        xx = chr(bb)\n",
        "        print(xx , end=\"\")"
      ],
      "execution_count": null,
      "outputs": [
        {
          "output_type": "stream",
          "text": [
            "xyzabc\n",
            "yzabcd"
          ],
          "name": "stdout"
        }
      ]
    },
    {
      "cell_type": "markdown",
      "metadata": {
        "id": "leVtdAsdymXM"
      },
      "source": [
        "### Task 5\n",
        "\n",
        "Write a Python program that will ask the user to enter two strings (s1, s2) as an input. Then create a mixed string with alternative characters from each string. Any leftover chars will be appended at the end of the result string.\n",
        "\n",
        "=====================================================================\n",
        "\n",
        "*Hint: For adding the leftover characters use string slicing.*\n",
        "\n",
        "=====================================================================\n",
        "\n",
        "**Example 1:**\\\n",
        "Input:\\\n",
        "\"ABCD\"\\\n",
        "\"efgh\"\n",
        "\n",
        "Output:\\\n",
        "AeBfCgDh\n",
        "\n",
        "=====================================================================\n",
        "\n",
        "**Example 2:**\\\n",
        "Input:\\\n",
        "\"ABCDENDFGH\"\\\n",
        "\"ijkl\"\n",
        "\n",
        "Output:\\\n",
        "AiBjCkDlENDFGH\n",
        "\n",
        "=====================================================================\n",
        "\n",
        "**Example 3:**\\\n",
        "Input:\\\n",
        "\"ijkl\"\\\n",
        "\"ABCDENDFGH\"\n",
        "\n",
        "Output:\\\n",
        "iAjBkClDENDFGH\n",
        "\n",
        "=====================================================================\n",
        "\n",
        "\n",
        "\n",
        "\n"
      ]
    },
    {
      "cell_type": "code",
      "metadata": {
        "id": "kC1cq47myny6",
        "outputId": "499b6f71-31cd-43da-a332-25170f8417cf",
        "colab": {
          "base_uri": "https://localhost:8080/"
        }
      },
      "source": [
        "usr_inp = input(\"\")\n",
        "usr_inp1 = input(\"\")\n",
        "Final_string = \"\"\n",
        "lenusr_inp = len(usr_inp)\n",
        "lenusr_inp1 = len(usr_inp1)\n",
        "if len(usr_inp) == len(usr_inp1):\n",
        "    for i in range(lenusr_inp):\n",
        "        Final_string += usr_inp[i] + usr_inp1[i]\n",
        "    print (Final_string)\n",
        "else:\n",
        "    lenToDo = min(lenusr_inp, lenusr_inp1)\n",
        "    for i in range(lenToDo):\n",
        "        Final_string += usr_inp[i] + usr_inp1[i]\n",
        "    if lenusr_inp > lenusr_inp1:\n",
        "        Final_string += usr_inp[lenusr_inp1:]\n",
        "    else:\n",
        "        Final_string += usr_inp1[lenusr_inp:]\n",
        "    print (Final_string)"
      ],
      "execution_count": null,
      "outputs": [
        {
          "output_type": "stream",
          "text": [
            "ijkl\n",
            "ABCDENDFGH\n",
            "iAjBkClDENDFGH\n"
          ],
          "name": "stdout"
        }
      ]
    },
    {
      "cell_type": "markdown",
      "metadata": {
        "id": "AWQJrJW3U1y3"
      },
      "source": [
        "### Task6\n",
        "Given a string, create a new string with all the consecutive duplicates **removed**. \n",
        "\n",
        "=====================================================================\n",
        "\n",
        "**Hint:** You need to make a new string to store your answer. Check whether the current character and the next character are the same, then add that character to the answer.\n",
        "\n",
        "=====================================================================\n",
        "\n",
        "**Example:**\\\n",
        "**Input**:\\\n",
        "AAABBBBCDDBBECE\\\n",
        "**Output:**\\\n",
        "ABCDBECE\n",
        "\n",
        "\n",
        "\n"
      ]
    },
    {
      "cell_type": "code",
      "metadata": {
        "id": "oNv_JNgUU1y4",
        "outputId": "ae435c13-e4fa-4da0-9f43-9aefbaad30c3",
        "colab": {
          "base_uri": "https://localhost:8080/"
        }
      },
      "source": [
        "a = input(\"\")\n",
        "list = []\n",
        "for x in range(len(a)):\n",
        "    list.append(a[x])\n",
        "x = list\n",
        "previous_value = None\n",
        "new_lst = []\n",
        "for elem in x:\n",
        "   if elem != previous_value:\n",
        "       new_lst.append(elem)\n",
        "       previous_value = elem\n",
        "for x in new_lst:\n",
        "    print(x,end=\"\")"
      ],
      "execution_count": null,
      "outputs": [
        {
          "output_type": "stream",
          "text": [
            "AAABBBBCDDBBECE\n",
            "ABCDBECE"
          ],
          "name": "stdout"
        }
      ]
    },
    {
      "cell_type": "markdown",
      "metadata": {
        "id": "ptcRoNgKzG9-"
      },
      "source": [
        "### Task7\n",
        "\n",
        "Write a Python program that takes a string as an input from the user. Then checks whether the input is a palindrome or Not.\n",
        "\n",
        "==========================================\n",
        "\n",
        "*Hints(1): Check the characters from the starting point and the ending point*\n",
        "\n",
        "==========================================\n",
        "\n",
        "**Sample Input**<br/>\n",
        "1235321<br/>\n",
        "\n",
        "**Sample Output**<br/>\n",
        "Palindrome<br/>\n",
        "\n",
        "\n",
        "==========================================\n",
        "\n",
        "**Sample Input**<br/>\n",
        "1233521<br/>\n",
        "\n",
        "**Sample Output**<br/>\n",
        "Not a Palindrome<br/>\n",
        "\n",
        "==========================================\n",
        "\n",
        "**Sample Input**<br/>\n",
        "abcba<br/>\n",
        "\n",
        "**Sample Output**<br/>\n",
        "Palindrome<br/>\n"
      ]
    },
    {
      "cell_type": "code",
      "metadata": {
        "id": "v0DzroXdzNeM",
        "outputId": "1697da10-4904-4f61-a8af-4a4d5cc00db6",
        "colab": {
          "base_uri": "https://localhost:8080/"
        }
      },
      "source": [
        "usr_input = input(\"\")\n",
        "if usr_input == usr_input[::-1]:\n",
        "    print(\"Palindrome\")\n",
        "else:\n",
        "    print(\"Not a Palindrome\")"
      ],
      "execution_count": null,
      "outputs": [
        {
          "output_type": "stream",
          "text": [
            "1235321\n",
            "Palindrome\n"
          ],
          "name": "stdout"
        }
      ]
    },
    {
      "cell_type": "markdown",
      "metadata": {
        "id": "vHRyG1W3zOBU"
      },
      "source": [
        "### Task8\n",
        "\n",
        "Write a Python program that takes a string as an input from the user. Then checks whether the input is a number, word or mixed with digit and letters. \n",
        "\n",
        "* If all the characters are numeric values, print NUMBER. \n",
        "* If they are all letters, print WORD. \n",
        "* If it is mixed, print MIXED.\n",
        "\n",
        "\n",
        "==========================================\n",
        "\n",
        "*Hints: need to take all the alphabets in either uppercase or lower case. Flags/counters can be used to check the different categorories*\n",
        "\n",
        "==========================================\n",
        "\n",
        "**Sample Input**\n",
        "213213\n",
        "\n",
        "**Sample Output**\n",
        "NUMBER\n",
        "\n",
        "\n",
        "==========================================\n",
        "\n",
        "**Sample Input**\n",
        "jhg231j213\n",
        "\n",
        "**Sample Output**\n",
        "MIXED\n",
        "\n",
        "==========================================\n",
        "\n",
        "**Sample Input**\n",
        "Hello\n",
        "\n",
        "**Sample Output**\n",
        "WORD\n"
      ]
    },
    {
      "cell_type": "code",
      "metadata": {
        "id": "jRMkFIk20hwL",
        "outputId": "40d6c866-89fa-4912-b9a7-cf17df4d3159",
        "colab": {
          "base_uri": "https://localhost:8080/"
        }
      },
      "source": [
        "str = input(\"\")\n",
        "upper, lower, number, = 0, 0, 0\n",
        "for i in range(len(str)): \n",
        "\tif str[i].isupper(): \n",
        "\t\tupper += 1\n",
        "\telif str[i].islower(): \n",
        "\t\tlower += 1\n",
        "\telif str[i].isdigit(): \n",
        "\t\tnumber += 1\n",
        "if number > 1 and upper or lower ==0:\n",
        "    print (\"NUMBER\")\n",
        "elif upper or lower > 1 and number ==0:\n",
        "    print(\"WORD\")\n",
        "else:\n",
        "    print(\"MIXED\")\n"
      ],
      "execution_count": null,
      "outputs": [
        {
          "output_type": "stream",
          "text": [
            "Hello\n",
            "WORD\n"
          ],
          "name": "stdout"
        }
      ]
    },
    {
      "cell_type": "markdown",
      "metadata": {
        "id": "4zI6tmFN0i4y"
      },
      "source": [
        "### Task09\n",
        "\n",
        "Write a python program that reads 2 numbers from the user, where the first input is a string with length greater than 1. The second number is the index of the string from where you have to start reversing. Then print the new string back to the user.\n",
        "\n",
        "========================================\n",
        "\n",
        "**Sample Input**<br/>\n",
        "12345, 4<br/>\n",
        "**Sample Output**<br/>\n",
        "54321<br/>\n",
        "\n",
        "\n",
        "========================================\n",
        "\n",
        "**Sample Input**<br/>\n",
        "12345, 2<br/>\n",
        "**Sample Output**<br/>\n",
        "32145<br/>\n",
        "\n",
        "========================================\n",
        "\n",
        "**Sample Input**<br/>\n",
        "aBcd1234defg, 5<br/>\n",
        "**Sample Output**<br/>\n",
        "21dcBa34defg<br/>"
      ]
    },
    {
      "cell_type": "code",
      "metadata": {
        "id": "lModRb2L0oqS",
        "outputId": "6af0c650-b9fb-45f1-aa99-78524c04dd2b",
        "colab": {
          "base_uri": "https://localhost:8080/"
        }
      },
      "source": [
        "a = input(\"\")\n",
        "b = int(input(\"\"))\n",
        "c = a[b::-1]\n",
        "list = []\n",
        "for x in range(len(a)+1):\n",
        "    list.append(a[b+1:x])\n",
        "a = list[-1]\n",
        "print(f\"{c}{a}\")"
      ],
      "execution_count": null,
      "outputs": [
        {
          "output_type": "stream",
          "text": [
            "12345\n",
            "2\n",
            "32145\n"
          ],
          "name": "stdout"
        }
      ]
    },
    {
      "cell_type": "markdown",
      "metadata": {
        "id": "mwnPD6m-U1y9"
      },
      "source": [
        "## Part 2: List\n"
      ]
    },
    {
      "cell_type": "markdown",
      "metadata": {
        "id": "lPoDvm8YU1y9"
      },
      "source": [
        "### Task 10\n",
        "Write a Python program that reads 10 numbers from the user. After reading each number, print all the numbers that have been entered so far. \n",
        "\n",
        "**Example:**\\\n",
        "After the user enters 3, prints “So far in the list: [3]”\\\n",
        "After the user enters 5, prints “So far in the list: [3, 5]”\\\n",
        "After the user enters 34, prints “So far in the list: [3, 5, 34]”\\\n",
        ".... continues"
      ]
    },
    {
      "cell_type": "code",
      "metadata": {
        "id": "z26BN9B3U1y_",
        "outputId": "37dac7a7-729b-4d29-8af2-cac03675ea08",
        "colab": {
          "base_uri": "https://localhost:8080/"
        }
      },
      "source": [
        "list = []\n",
        "for x in range(10):\n",
        "    a = int(input(\"\"))\n",
        "    list.append(a)\n",
        "    print(f\"So far in the list: {list}\")"
      ],
      "execution_count": null,
      "outputs": [
        {
          "output_type": "stream",
          "text": [
            "3\n",
            "So far in the list: [3]\n",
            "5\n",
            "So far in the list: [3, 5]\n",
            "34\n",
            "So far in the list: [3, 5, 34]\n",
            "55\n",
            "So far in the list: [3, 5, 34, 55]\n",
            "66\n",
            "So far in the list: [3, 5, 34, 55, 66]\n",
            "22\n",
            "So far in the list: [3, 5, 34, 55, 66, 22]\n",
            "10\n",
            "So far in the list: [3, 5, 34, 55, 66, 22, 10]\n",
            "55\n",
            "So far in the list: [3, 5, 34, 55, 66, 22, 10, 55]\n",
            "10\n",
            "So far in the list: [3, 5, 34, 55, 66, 22, 10, 55, 10]\n",
            "596\n",
            "So far in the list: [3, 5, 34, 55, 66, 22, 10, 55, 10, 596]\n"
          ],
          "name": "stdout"
        }
      ]
    },
    {
      "cell_type": "markdown",
      "metadata": {
        "id": "ZrjtT-I_U1zD"
      },
      "source": [
        "### Task 11\n",
        "Assume, you have been given a list.\n",
        "\n",
        "a_list =  [10, 20, 24, 25, 26, 35, 70]\n",
        "\n",
        "Write a Python program that creates a new list excluding the first and last two elements of the given list and prints the new list. \n",
        "\n",
        "**Output:** [24, 25, 26]\n",
        "\n",
        "==========================================\n",
        "\n",
        "**Hint:**You need to use list slicing.\n"
      ]
    },
    {
      "cell_type": "code",
      "metadata": {
        "id": "3r7Ripj7U1zE",
        "outputId": "df84471c-8f36-48b7-8b99-d1f2f71c17cd",
        "colab": {
          "base_uri": "https://localhost:8080/"
        }
      },
      "source": [
        "list = [10, 20, 24, 25, 26, 35, 70]\n",
        "list.pop(0)\n",
        "list.pop(1)\n",
        "list.pop(-2)\n",
        "list.pop(-1)\n",
        "a = list\n",
        "list1 = []\n",
        "list1.extend(list)\n",
        "print(list1)"
      ],
      "execution_count": null,
      "outputs": [
        {
          "output_type": "stream",
          "text": [
            "[20, 25, 26]\n"
          ],
          "name": "stdout"
        }
      ]
    },
    {
      "cell_type": "markdown",
      "metadata": {
        "id": "AWgZaBZCzmaM"
      },
      "source": [
        "### Task 12\n",
        "\n",
        "Write a python program that reads 5 numbers from the user, and then prints them in the reverse order.\n",
        "\n",
        "==========================================\n",
        "\n",
        "*Hint:You need to create a list to store the input numbers. Then use loop to print them in reverse order*\n",
        "\n",
        "\n",
        "==========================================\n",
        "\n",
        "**Sample Input**\n",
        "5, -5, 100, 1, 0\n",
        "\n",
        "**Sample Output**\\\n",
        "0\\\n",
        "1\\\n",
        "100\\\n",
        "-5\\\n",
        "5"
      ]
    },
    {
      "cell_type": "code",
      "metadata": {
        "id": "ICW-03YOznTp",
        "outputId": "7f4651d3-e309-4dd8-cb28-252577d8e27e",
        "colab": {
          "base_uri": "https://localhost:8080/"
        }
      },
      "source": [
        "#Using the same Input given\n",
        "a = input(\"\")\n",
        "b = a.split(\", \")\n",
        "for x in b:\n",
        "    b.reverse()\n",
        "for y in b:\n",
        "    print(y)\n",
        "\n",
        "\n",
        "#Using loop and taking input\n",
        "# list = []\n",
        "# for x in range(1, 5+1):\n",
        "#     a = int(input(\"\"))\n",
        "#     list.append(a)\n",
        "# list.reverse()\n",
        "# for x in list:\n",
        "#     print(x)   "
      ],
      "execution_count": null,
      "outputs": [
        {
          "output_type": "stream",
          "text": [
            "5, -5, 100, 1, 0\n",
            "0\n",
            "1\n",
            "100\n",
            "-5\n",
            "5\n"
          ],
          "name": "stdout"
        }
      ]
    },
    {
      "cell_type": "markdown",
      "metadata": {
        "id": "7a_1pYjfU1zI"
      },
      "source": [
        "### Task 13\n",
        "Assume, you have been given two lists. \n",
        "\n",
        "list_one = [1, 2, 3, 4, 5, 6, 7, 8, 9]\\\n",
        "list_two = [10, 11, 12, -13, -14, -15, -16]\n",
        "\n",
        "Write a Python program that creates a new list with all the **even elements** of both of the given lists and prints the new list.\n",
        "\n",
        "\n",
        "**Output:** [2, 4, 6, 8, 10, 12, -14, -16]\n",
        "\n",
        "==========================================\n",
        "\n",
        "**Hint:** You need to create a third list to store the even elements of the given lists.\n",
        "\n"
      ]
    },
    {
      "cell_type": "code",
      "metadata": {
        "id": "vToa7yazU1zI",
        "outputId": "5df937bd-216e-49e4-da3f-539214f338b4",
        "colab": {
          "base_uri": "https://localhost:8080/"
        }
      },
      "source": [
        "list_one = [1, 2, 3, 4, 5, 6, 7, 8, 9]\n",
        "a = [x for x in list_one if x%2 ==0]\n",
        "\n",
        "list_two = [10, 11, 12, -13, -14, -15, -16]\n",
        "b = [x for x in list_two if x%2 ==0]\n",
        "\n",
        "\n",
        "a.extend(b)\n",
        "list_final = []          #with a new list\n",
        "list_final.extend(a) \n",
        "print(list_final)"
      ],
      "execution_count": null,
      "outputs": [
        {
          "output_type": "stream",
          "text": [
            "[2, 4, 6, 8, 10, 12, -14, -16]\n"
          ],
          "name": "stdout"
        }
      ]
    },
    {
      "cell_type": "markdown",
      "metadata": {
        "id": "QaD4hLn92EKT"
      },
      "source": [
        "### Task 14\n",
        "\n",
        "Write a Python program to print the elements in a given list **without the duplicates**.\n",
        "\n",
        "===================================================================\n",
        "\n",
        "*Hint:You need to create a third list to store the results. Use membership operators (in, not in) to make sure no duplicates are added.*\n",
        "\n",
        "===================================================================\n",
        "\n",
        "**Sample Input**<br/>\n",
        "0, 0, 1, 2, 3, 4, 4, 5, 6, 6, 6, 7, 8, 9, 4, 4<br/>\n",
        "\n",
        "\n",
        "**Sample Output**<br/>\n",
        "[0, 1, 2, 3, 4, 5, 6, 7, 8, 9]<br/>\n",
        "\n",
        "===================================================================\n",
        "\n",
        "**Sample Input**<br/>\n",
        "7, 7, 7, 1, 0, 3, 3, 55, 9<br/>\n",
        "\n",
        "\n",
        "**Sample Output**<br/>\n",
        "[7, 1, 0, 3, 55, 9]<br/>\n",
        "\n"
      ]
    },
    {
      "cell_type": "code",
      "metadata": {
        "id": "EUbQbz5hU1zP",
        "outputId": "153d5331-bba5-4af6-b667-ee5a887e4a08",
        "colab": {
          "base_uri": "https://localhost:8080/"
        }
      },
      "source": [
        "a = input(\"\")\n",
        "l = a.split(', ')\n",
        "list = []\n",
        "for x in range(len(l)):\n",
        "    list.append(l[x])\n",
        "list2 = []\n",
        "for y in list:\n",
        "    if y not in list2 and y !=\",\" and y!=\" \":\n",
        "        list2.append(y)\n",
        "list3 = []\n",
        "for z in list2:\n",
        "    list3.append(int(z))\n",
        "print(list3)"
      ],
      "execution_count": null,
      "outputs": [
        {
          "output_type": "stream",
          "text": [
            "7, 7, 7, 1, 0, 3, 3, 55, 9\n",
            "[7, 1, 0, 3, 55, 9]\n"
          ],
          "name": "stdout"
        }
      ]
    },
    {
      "cell_type": "markdown",
      "metadata": {
        "id": "wfcSytFVU1zU"
      },
      "source": [
        "### Task 15\n",
        "\n",
        "Write a Python program that reads 5 numbers into a list and prints the largest number and its location on the list. <font color='red'>[You are not allowed to use the max(), sort(), sorted() function here]</font>\n",
        "\n",
        "==========================================\n",
        "\n",
        "**Hint:**\\\n",
        " Assume, the first input to be the largest value initially and the location of first input which is 0 to be the initial value of the largest value’s location.\n",
        "You need to be careful while printing the output. Depending on your code might need data conversion.\n",
        "\n",
        "==========================================\n",
        "\n",
        "\n",
        "**Example:**\\\n",
        "**Input:**\\\n",
        " 7, 13, 2, 10, 6\n",
        "\n",
        "**Output:**\\\n",
        "list: [7, 13, 2, 10, 6]\\\n",
        "Largest number 13 was found at location 1.\n",
        "\n",
        "\n"
      ]
    },
    {
      "cell_type": "code",
      "metadata": {
        "id": "kXbEh1t3U1zV",
        "outputId": "465f051b-cd4b-4adb-a5e6-5749d907ef87",
        "colab": {
          "base_uri": "https://localhost:8080/"
        }
      },
      "source": [
        "list = []\n",
        "for x in range(5):\n",
        "    a = int(input(\"\"))\n",
        "    list.append(a)\n",
        "print(f\"list: {list}\")\n",
        "max_value = list[ 0 ]\n",
        "for a in list:\n",
        "    if a > max_value:\n",
        "        max_value = a\n",
        "position = list.index(max_value)\n",
        "print(f\"Largest number {max_value} was found at location {position}.\")"
      ],
      "execution_count": null,
      "outputs": [
        {
          "output_type": "stream",
          "text": [
            "7\n",
            "13\n",
            "2\n",
            "10\n",
            "6\n",
            "list: [7, 13, 2, 10, 6]\n",
            "Largest number 13 was found at location 1.\n"
          ],
          "name": "stdout"
        }
      ]
    },
    {
      "cell_type": "markdown",
      "metadata": {
        "id": "WZXnxHTdGrMC"
      },
      "source": [
        "## Optional Tasks (16-20) [Ungraded]"
      ]
    },
    {
      "cell_type": "markdown",
      "metadata": {
        "id": "lvSiLaobU1zY"
      },
      "source": [
        "### Task 16\n",
        "\n",
        "Write a Python program that reads 5 numbers into a list and prints the smallest and largest number and their location in the list. <font color='red'>[You are not allowed to use the max(), min(), sort(), sorted() functions here]</font>\n",
        "\n",
        "==========================================\n",
        "\n",
        "**Hint:**\\\n",
        " Assume, the first input to be the largest value and the location of the first input which is 0 to be the initial value of the largest value’s location. Similarly, assume the first input to be the smallest value and the location of the first input which is 0 to be the initial value of the smallest value’s location.\n",
        "You need to be careful while printing the output. Depending on your code might need data conversion.\n",
        "\n",
        "==========================================\n",
        "\n",
        "**Example:**\n",
        "\n",
        "**Input:**\\\n",
        "7, 13, -5, 10, 6\n",
        "\n",
        "**Output:**\\\n",
        "List: [7, 13, -5, 10, 6]\\\n",
        "Smallest number -5 was found at location 2\\\n",
        "Largest number 13 was found at location 1\n",
        "\n",
        "\n"
      ]
    },
    {
      "cell_type": "code",
      "metadata": {
        "id": "yiS5TWSDU1zY",
        "outputId": "d7d89717-e9ae-4b8d-b511-0918fc997d31",
        "colab": {
          "base_uri": "https://localhost:8080/"
        }
      },
      "source": [
        "list = []\n",
        "for x in range(5):\n",
        "    a = int(input(\"\"))\n",
        "    list.append(a)\n",
        "print(f\"list: {list}\")\n",
        "max_value = list[ 0 ]\n",
        "list1 = []\n",
        "for a in list:\n",
        "    list1.append(a)\n",
        "    if a > max_value:\n",
        "        max_value = a\n",
        "position = list.index(max_value)\n",
        "min_value = list1[0]\n",
        "for b in list1:\n",
        "    if b < min_value:\n",
        "        min_value = b\n",
        "position1 = list1.index(min_value)\n",
        "print(f\"Smallest number {min_value} was found at location {position1}\")\n",
        "print(f\"Largest number {max_value} was found at location {position}\")"
      ],
      "execution_count": null,
      "outputs": [
        {
          "output_type": "stream",
          "text": [
            "7\n",
            "13\n",
            "-5\n",
            "10\n",
            "6\n",
            "list: [7, 13, -5, 10, 6]\n",
            "Smallest number -5 was found at location 2\n",
            "Largest number 13 was found at location 1\n"
          ],
          "name": "stdout"
        }
      ]
    },
    {
      "cell_type": "markdown",
      "metadata": {
        "id": "nwRZ3_0tC3fq"
      },
      "source": [
        "### Task17\n",
        "\n",
        "\n",
        "Write a python program that takes a string as an input from the user. Then modifies the string in such a way that the string always starts with an uppercase letter and the case of each subsequent letter is the opposite of the previous letter.  Then finally prints back the the modified string to the user.\n",
        "\n",
        "\n",
        "==========================================\n",
        "\n",
        "**Sample Input**\\\n",
        "Python programming is very easy\n",
        "\n",
        "**Sample Output**\\\n",
        "PyThOn PrOgRaMmInG iS vErY eAsY\n",
        "\n",
        "==========================================\n",
        "\n",
        "**Sample Input**\\\n",
        "I&nbsp;&nbsp;&nbsp;&nbsp;&nbsp;&nbsp;     love       &nbsp;&nbsp;&nbsp;&nbsp;&nbsp;&nbsp;&nbsp; Python &nbsp;&nbsp;&nbsp;&nbsp;&nbsp;&nbsp;&nbsp;&nbsp;Programming\n",
        "\n",
        "**Sample Output**\\\n",
        "I&nbsp;&nbsp;&nbsp;&nbsp;&nbsp;&nbsp;     lOvE       &nbsp;&nbsp;&nbsp;&nbsp;&nbsp;&nbsp;&nbsp;pYtHoN&nbsp;&nbsp;&nbsp;&nbsp;&nbsp;&nbsp;&nbsp;&nbsp;pRoGrAmMiNg\n",
        "\n",
        "==========================================\n",
        "\n",
        "**Sample Input**\\\n",
        "CSE110 Course\n",
        "\n",
        "**Sample Output**\\\n",
        "CsE110 cOuRsE\n",
        "\n",
        "\n",
        "\n",
        "==========================================\n",
        "\n",
        "**Sample Input**\\\n",
        "c\n",
        "\n",
        "**Sample Output**\\\n",
        "C\n",
        "\n",
        "\n"
      ]
    },
    {
      "cell_type": "code",
      "metadata": {
        "id": "LEnaTlyoMJdS",
        "outputId": "2cc4a639-39ac-4886-ab75-2279caa50122",
        "colab": {
          "base_uri": "https://localhost:8080/"
        }
      },
      "source": [
        "# maam 2nd Example er output er lenght e issue ase :)\n",
        "# print(len(\"I       love         Python         Programming\"))\n",
        "# print(len(\"I       lOvE        pYtHoN        pRoGrAmMiNg\"))\n",
        "a = input(\"\")\n",
        "for x in range(len(a)):\n",
        "    if x % 2 == 0:\n",
        "        print(a[x].upper(), end =\"\")\n",
        "    elif x % 2 != 0:\n",
        "        print(a[x].lower(), end =\"\")"
      ],
      "execution_count": 1,
      "outputs": [
        {
          "output_type": "stream",
          "text": [
            "CSE110 Course\n",
            "CsE110 cOuRsE"
          ],
          "name": "stdout"
        }
      ]
    },
    {
      "cell_type": "markdown",
      "metadata": {
        "id": "EEkcqbIJBKel"
      },
      "source": [
        "### Task 18 \n",
        "An anagram is a play on words created by rearranging the letters of the original word to make a new word or phrase.\n",
        "So we can say two words are anagrams if they contain all of the same letters, but in a different order.\n",
        "\n",
        "\n",
        "Write a python program that takes two strings from the user and tells if they are anagram or not.\n",
        "\n",
        "===============================\n",
        "\n",
        "<b>Input 1 </b><br/>\n",
        "dusty<br/>\n",
        "study<br/>\n",
        "<b> Output 1 </b> <br/>\n",
        "They are anagram<br/>\n",
        "\n",
        "===============================\n",
        "\n",
        "<b> Input 2 </b><br/>\n",
        "dustyyy<br/>\n",
        "study<br/>\n",
        "<b> Output 2 </b><br/>\n",
        "They are not anagram"
      ]
    },
    {
      "cell_type": "code",
      "metadata": {
        "id": "dvjY9pE2BLVT",
        "outputId": "aae53ee7-8556-4316-b218-8c0ef47d12f7",
        "colab": {
          "base_uri": "https://localhost:8080/"
        }
      },
      "source": [
        "usr1 = input(\"\")\n",
        "usr2 = input(\"\")\n",
        "\n",
        "if(sorted(usr1)== sorted(usr2)): \n",
        "\tprint(\"They are anagram\") \n",
        "else: \n",
        "\tprint(\"They are not anagram\")\t\t \n"
      ],
      "execution_count": null,
      "outputs": [
        {
          "output_type": "stream",
          "text": [
            "dustyyy\n",
            "study\n",
            "They are not anagram\n"
          ],
          "name": "stdout"
        }
      ]
    },
    {
      "cell_type": "markdown",
      "metadata": {
        "id": "rguDZ8SBCHD8"
      },
      "source": [
        "### Task 19\n",
        "Write a Python program that takes two lists as an input from the user. Then print a new list with the **common elements** of both the input lists. \n",
        "\n",
        "=======================================\n",
        "\n",
        "*Hint:You need to create a third list to store the results. Use membership operators (in, not in) to make sure similar elements are added.*\n",
        "\n",
        "=======================================\n",
        "\n",
        "**Sample Input**<br/>\n",
        "A, B, C , D\n",
        "\n",
        "\n",
        "C, E , F, B\n",
        "\n",
        "\n",
        "**Sample Output**<br/>\n",
        "['C', 'B']\n",
        "\n",
        "=======================================\n",
        "\n",
        "**Sample Input**<br/>\n",
        "1, 3, A, H, P\n",
        "\n",
        "\n",
        "A, G, 1, P, O\n",
        "\n",
        "\n",
        "**Sample Output**<br/>\n",
        "['1', 'A', 'P']\n",
        "\n",
        "\n"
      ]
    },
    {
      "cell_type": "code",
      "metadata": {
        "id": "3iueGiPPGG66",
        "outputId": "31a888eb-09f2-4eeb-e48e-1a3f6a3f429e",
        "colab": {
          "base_uri": "https://localhost:8080/"
        }
      },
      "source": [
        "#maam I can take the input using loop but I didnt because eikhane sample input diffrent\n",
        "#    BUT\n",
        "#A, B, C , D\n",
        "#C, E , F, B\n",
        "#ei sample input er spaces e issue ase have close loot at C its like C > space > ,\n",
        "#similarly E > Space > , \n",
        "#so amr Sample input e issue dei unless its runing fine for sample 2 and others...\n",
        "\n",
        "\n",
        "a = input()\n",
        "b = a.split(\", \")\n",
        "list = []\n",
        "for x in b:\n",
        "    list.append(x)\n",
        "\n",
        "c = input()\n",
        "d = c.split(\", \")\n",
        "list1 = []\n",
        "for y in d:\n",
        "    list1.append(y)\n",
        "\n",
        "\n",
        "list3 = []\n",
        "for z in list:\n",
        "    if z in list1:\n",
        "        list3.append(z)\n",
        "print(list3)"
      ],
      "execution_count": 2,
      "outputs": [
        {
          "output_type": "stream",
          "text": [
            "1, 3, A, H, P\n",
            "A, G, 1, P, O\n",
            "['1', 'A', 'P']\n"
          ],
          "name": "stdout"
        }
      ]
    },
    {
      "cell_type": "markdown",
      "metadata": {
        "id": "tjcE5oitCM2s"
      },
      "source": [
        "### Task 20\n",
        "\n",
        "Assume, you have been given two lists.\n",
        "\n",
        "[Your program should work for any two given lists]\n",
        "\n",
        "list_one = [1, 2 , 3, 2, 4, 5, 5, 7, 99, 200, 303, 70]\\\n",
        "list_two = [1, 1, 2, 3, 3, 3, 4, 5, 200, 500, -5]\n",
        "\n",
        "Write a Python program that creates a new list with all the **unique elements** of both the given lists. \n",
        "<font color='red'> **You need to make sure that no duplicates are in the result list**</font> and then finally print the result list.\n",
        "\n",
        "**Output**: \n",
        "[1, 2, 4, 5, 7, 99, 200, 303, 70, 3, 500, -5]\n",
        "\n",
        "**Hint:**You need to create a third list to store the results. Use membership operators (in, not in) to make sure no duplicates are added.\n",
        "\n"
      ]
    },
    {
      "cell_type": "code",
      "metadata": {
        "id": "b2TwkUqnGZU-",
        "outputId": "23134087-6a1d-4ed9-e5d3-4921d6c91f81",
        "colab": {
          "base_uri": "https://localhost:8080/"
        }
      },
      "source": [
        "list_one = [1, 2 , 3, 2, 4, 5, 5, 7, 99, 200, 303, 70]\n",
        "list_two = [1, 1, 2, 3, 3, 3, 4, 5, 200, 500, -5]\n",
        "list_four = []\n",
        "for y in list_two:\n",
        "    if y not in list_one:\n",
        "        list_four.append(y)\n",
        "fun = set(list_one) and set(list_one)\n",
        "list_three = []\n",
        "for x in fun:\n",
        "    list_three.append(x)\n",
        "list_final = list_three + list_four\n",
        "print(list_final)\n",
        "\n",
        "# Easy Version xD\n",
        "# list_one = [1, 2 , 3, 2, 4, 5, 5, 7, 99, 200, 303, 70]\n",
        "# list_two = [1, 1, 2, 3, 3, 3, 4, 5, 200, 500, -5]\n",
        "# final_list = list(set(list_one) | set(list_two))\n",
        "# print(final_list)"
      ],
      "execution_count": 4,
      "outputs": [
        {
          "output_type": "stream",
          "text": [
            "[1, 2, 3, 4, 5, 99, 7, 200, 70, 303, 500, -5]\n"
          ],
          "name": "stdout"
        }
      ]
    }
  ]
}
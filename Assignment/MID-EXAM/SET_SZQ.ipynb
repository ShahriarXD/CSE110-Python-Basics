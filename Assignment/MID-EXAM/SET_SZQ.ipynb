{
  "nbformat": 4,
  "nbformat_minor": 0,
  "metadata": {
    "kernelspec": {
      "display_name": "Python 3",
      "language": "python",
      "name": "python3"
    },
    "language_info": {
      "codemirror_mode": {
        "name": "ipython",
        "version": 3
      },
      "file_extension": ".py",
      "mimetype": "text/x-python",
      "name": "python",
      "nbconvert_exporter": "python",
      "pygments_lexer": "ipython3",
      "version": "3.7.6"
    },
    "colab": {
      "name": "SET SZQ.ipynb",
      "provenance": [],
      "collapsed_sections": []
    }
  },
  "cells": [
    {
      "cell_type": "markdown",
      "metadata": {
        "id": "mRHB9cBf5D7V"
      },
      "source": [
        "# FALL 2020\n",
        "\n",
        "# CSE110 MIDTERM\n",
        "**<font color='red'>[MUST MAINTAIN VARIABLE NAMING CONVENTIONS FOR ALL THE TASKS]</font>**\n",
        "\n",
        "**<font color='red'>[Writing comments(explanatory sentences) in any of the code is completely optional]</font>**\n"
      ]
    },
    {
      "cell_type": "markdown",
      "metadata": {
        "id": "_uzpm0b85D7Z"
      },
      "source": [
        "### Task 1\n",
        "Write a python program that asks the user to give a movie’s budget and its total domestic and international collection. Input is taken in that order: budget, domestic collection, international collection. Then your program should calculate the profit of the movie. Then print the information according to the provided chart below. \n",
        "\n",
        "**Profit** | **Information to be printed**\n",
        "--- | ---\n",
        "No profit | Super flop movie!!\n",
        "Less than 500000 (5 lakh) | Flop movie! Waste of money. Waste of time.\n",
        "Greater than 5 lakh and less than 20 lakh | Average movie\n",
        "Above 20 lakh | Success!!\n",
        "Above 30 lakh | Super Hit!!!\n",
        "\n",
        "\n",
        "**Sample Input 1:** \\\n",
        "50000 \\\n",
        "1000000 \\\n",
        "800000 \\\n",
        "\n",
        "**Sample Output 1:**\\\n",
        "Profit: 1750000 \\\n",
        "Average movie \\\n",
        "\n",
        "**Explanation:**\\\n",
        "Budget = 50000, domestic collection= 1000000, international collection = 800000. \\\n",
        "Profit =  (1000000+ 800000)- 50000 = 1750000 which is Greater than 5 lakh and less than 20 lakh. So it shows “Average movie”\n",
        "\n",
        "================================================================================\n",
        "\n",
        "**Sample Input 2:** \\\n",
        "50000 \\\n",
        "1000 \\\n",
        "8000 \\\n",
        "\n",
        "**Sample Output 2:**\\\n",
        "Profit: No Profit \\\n",
        "Super flop movie!! \\\n",
        "\n",
        "\n",
        "**Explanation:**\\\n",
        "Budget = 50000, domestic collection= 1000, international collection = 8000. Profit =  (1000 +\n",
        "8000 ) - 50000 = -41000 which is less than 1. So it shows “Super flop movie!!”.\n"
      ]
    },
    {
      "cell_type": "code",
      "metadata": {
        "id": "tMMBecSe5D7a",
        "colab": {
          "base_uri": "https://localhost:8080/"
        },
        "outputId": "d0f4f609-4316-4205-e650-8d7363234e5b"
      },
      "source": [
        "a = int(input(\"Budget: \\t\"))\n",
        "b = int(input(\"Domestic Collection: \\t\"))\n",
        "c= int(input(\"International Collection: \\t\"))\n",
        "profit = (b+c)-a\n",
        "if profit<0:\n",
        "    print(\"No Profit\")\n",
        "else:\n",
        "    print(f\"Profit: {profit}\")\n",
        "if profit >= 3000000:\n",
        "    print(\"Super Hit!!!\") \n",
        "elif profit >= 2000000 and profit<= 3000000:\n",
        "    print(\"Success!!\")\n",
        "elif profit >500000 and profit<=2000000:\n",
        "    print(\"Average movie\")\n",
        "elif profit<=500000 and profit>=0:\n",
        "    print(\"Flop movie! Waste of money. Waste of time.\")\n",
        "elif profit<0:\n",
        "    print(\"Super flop movie!!\")"
      ],
      "execution_count": null,
      "outputs": [
        {
          "output_type": "stream",
          "text": [
            "Budget: \t50000\n",
            "Domestic Collection: \t1000\n",
            "International Collection: \t8000\n",
            "No Profit\n",
            "Super flop movie!!\n"
          ],
          "name": "stdout"
        }
      ]
    },
    {
      "cell_type": "markdown",
      "metadata": {
        "id": "YFKgn6Yw5D7f"
      },
      "source": [
        "### Task 2\n",
        "Write a python program that asks the user to give 2 strings as inputs. The minimum length of the first input is 5 and the minimum length of the second input is 1. Assume, the length of the first string is always greater than the 2nd string. \n",
        "\n",
        "Your program should replace **every second character** (odd indexed characters) of the first input string with the second input string.\n",
        "\n",
        "<font color='red'>[You are not allowed to use the built-in replace() function of python]</font>\n",
        "\n",
        "=============================================================================\n",
        "\n",
        "**Sample Input 1:**\\\n",
        "abcde\\\n",
        "123\\\n",
        "**Sample Output 1:**\\\n",
        "a123c123e\n",
        "\n",
        "**Explanation:**\\\n",
        "Index of b is 1 and index of d is 3 (odd indexed characters). So, these are replaced with 123 (second input string)\n",
        "\n",
        "=============================================================================\n",
        "\n",
        "**Sample Input 2:**\\\n",
        "12345678\\\n",
        "b\\\n",
        "**Sample Output 2:**\\\n",
        "1b3b5b7b\n",
        "\n",
        "**Explanation:**\\\n",
        "Index of 2 is 1, index of 4 is 3, index of 6 is 5 and index of 8 is 7 (odd indexed characters). So these are replaced with b (second input string)"
      ]
    },
    {
      "cell_type": "code",
      "metadata": {
        "id": "J4ab_IeA5D7g",
        "colab": {
          "base_uri": "https://localhost:8080/"
        },
        "outputId": "8832fb7d-d45f-4ea4-8307-d15f594ece28"
      },
      "source": [
        "a = input(\"\")\n",
        "b = input(\"\")\n",
        "for x in range(len(a)):\n",
        "    if x % 2 == 0:\n",
        "        print(a[x],end=\"\")\n",
        "    else:\n",
        "        print(b,end=\"\")"
      ],
      "execution_count": null,
      "outputs": [
        {
          "output_type": "stream",
          "text": [
            "abcde\n",
            "123\n",
            "a123c123e"
          ],
          "name": "stdout"
        }
      ]
    },
    {
      "cell_type": "markdown",
      "metadata": {
        "id": "rDY_xNcO5D7k"
      },
      "source": [
        "### Task 3\n",
        "Write a Python program that takes a list and a step size(integer number) as inputs from the user. Your program should swap elements from the front and back while maintaining the step size.\n",
        "\n",
        "===============================================================================\n",
        "\n",
        "**Sample Input 1:**\\\n",
        "['A','B', 'C', 'D', 'E', 'F','G','H']\\\n",
        "2\\\n",
        "**Sample Output 1:**\\\n",
        "Before swap: ['A', 'B', 'C', 'D', 'E', 'F', 'G', 'H']\\\n",
        "After swap: ['H', 'B', 'F', 'D', 'E', 'C', 'G', 'A']\n",
        "\n",
        "**Explanation:** Here in the input, a list is given as input, and 2 is the step size. ‘A’(index0)  swaps places with ‘H’(index -1). Then step size increments by 2. 0+2= 2. Swapping starts from index2. ‘C’(index2) swaps places with ‘F’(index -3).\n",
        "\n",
        "===============================================================================\n",
        "\n",
        "\n",
        "**Sample Input 2:**\\\n",
        "['A','B', 'C', 'D', 'E', 'F','G','H']\\\n",
        "5\\\n",
        "**Sample Output 2:**\\\n",
        "Step size is not suitable\n",
        "\n",
        "**Explanation:** Here in the input, a list is given as input, and 5 is the step size which is greater than half of the list length. So swapping is not possible.\n",
        "\n"
      ]
    },
    {
      "cell_type": "code",
      "metadata": {
        "id": "2roUcNrC5D7l",
        "colab": {
          "base_uri": "https://localhost:8080/"
        },
        "outputId": "0823660d-eb07-40db-e139-0796ba5a992c"
      },
      "source": [
        "import ast\n",
        "a = ast.literal_eval(input())\n",
        "bb = a.copy()\n",
        "b = int(input())\n",
        "c = len(a)\n",
        "d = c/b\n",
        "if b > d:\n",
        "    print(\"Step size is not suitable\")\n",
        "else:\n",
        "    a[0] = a[-1]\n",
        "    a[2] = a[-3]\n",
        "    xx = a.copy()\n",
        "    xx[-1] = bb[0]\n",
        "    xx[-3] = bb[2]\n",
        "    print(xx)"
      ],
      "execution_count": 4,
      "outputs": [
        {
          "output_type": "stream",
          "text": [
            "['A','B', 'C', 'D', 'E', 'F','G','H']\n",
            "2\n",
            "['H', 'B', 'F', 'D', 'E', 'C', 'G', 'A']\n"
          ],
          "name": "stdout"
        }
      ]
    }
  ]
}